{
 "cells": [
  {
   "cell_type": "code",
   "execution_count": 2,
   "id": "d237ebfb",
   "metadata": {},
   "outputs": [
    {
     "name": "stdout",
     "output_type": "stream",
     "text": [
      "What do you want to do? -\n",
      "1. Add\n",
      "2. Remove\n",
      "Chọn tùy chọn 1 hoặc 2:2\n",
      "Tên mục:{'name': \"ga\", 'cost': 234, 'date': '22 / 12/21 '}\n",
      "{'name': \"ga\", 'cost': 234, 'date': '22 / 12/21 '} not in list\n",
      "Your expenses:  [{'name': 'duy', 'cost': 123, 'date': '123123'}, {'name': 'duy1', 'cost': 123, 'date': '123123'}, {'name': 'duy2', 'cost': 123, 'date': '123123'}, {'name': 'duy3', 'cost': 123, 'date': '123123'}]\n"
     ]
    }
   ],
   "source": [
    "def add_item(myListItem, item):\n",
    "    myListItem.append(item)\n",
    "\n",
    "\n",
    "def find_index_item(myListItem, item_name):\n",
    "    result = -1\n",
    "    length = len(myListItem)\n",
    "    for i in range(length):\n",
    "        if myListItem[i]['name'] == item_name:\n",
    "            result = i\n",
    "    return result\n",
    "\n",
    "\n",
    "def remove_item(myListItem, item_name):\n",
    "    if find_index_item(myListItem, item_name) > -1:\n",
    "        del myListItem[find_index_item(myListItem, item_name)]\n",
    "    else:\n",
    "        print(item_name + \" not in list\")\n",
    "\n",
    "\n",
    "print(\"What do you want to do? -\\n\"\n",
    "      \"1. Add\\n\"\n",
    "      \"2. Remove\")\n",
    "\n",
    "option = int(input(\"Select option 1 or 2: \"))\n",
    "\n",
    "name_input = input(\"Item name: \")\n",
    "expenses = [{'name': 'duy', 'cost': 123, 'date': '123123'}, {'name': 'duy1', 'cost': 123, 'date': '123123'},\n",
    "            {'name': 'duy2', 'cost': 123, 'date': '123123'}, {'name': 'duy3', 'cost': 123, 'date': '123123'}]\n",
    "if option == 1:\n",
    "    cost_input = int(input(\"Item cost: \"))\n",
    "    date_input = input(\"Date: \")\n",
    "    item = {'name': name_input, 'cost': cost_input, 'date': date_input}\n",
    "    add_item(expenses, item)\n",
    "    print(\"Your expenses: \", expenses)\n",
    "elif option == 2:\n",
    "    remove_item(expenses, name_input)\n",
    "    print(\"Your expenses: \", expenses)\n",
    "else:\n",
    "    print(\"Invalid input\")\n"
   ]
  }
 ],
 "metadata": {
  "kernelspec": {
   "display_name": "Python 3 (ipykernel)",
   "language": "python",
   "name": "python3"
  },
  "language_info": {
   "codemirror_mode": {
    "name": "ipython",
    "version": 3
   },
   "file_extension": ".py",
   "mimetype": "text/x-python",
   "name": "python",
   "nbconvert_exporter": "python",
   "pygments_lexer": "ipython3",
   "version": "3.10.2"
  }
 },
 "nbformat": 4,
 "nbformat_minor": 5
}
