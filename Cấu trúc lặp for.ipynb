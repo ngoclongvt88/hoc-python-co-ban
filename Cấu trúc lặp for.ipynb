{
 "cells": [
  {
   "cell_type": "markdown",
   "id": "33f9d7a5",
   "metadata": {},
   "source": [
    "# Cấu trúc lặp for trong python"
   ]
  },
  {
   "attachments": {
    "image.png": {
     "image/png": "[encoded data removed]"
    }
   },
   "cell_type": "markdown",
   "id": "f64c9eae",
   "metadata": {},
   "source": [
    "## Review: Vẽ kim tự tháp\n",
    "![image.png](attachment:image.png)"
   ]
  },
  {
   "cell_type": "code",
   "execution_count": 5,
   "id": "ffcb1603",
   "metadata": {},
   "outputs": [],
   "source": [
    "import turtle\n",
    "\n",
    "pen = turtle.Turtle()\n",
    "\n",
    "pen.circle(10, steps=3)\n",
    "pen.circle(20, steps=3)\n",
    "pen.circle(30, steps=3)\n",
    "pen.circle(40, steps=3)\n",
    "pen.circle(50, steps=3)\n",
    "\n",
    "turtle.done()"
   ]
  },
  {
   "cell_type": "code",
   "execution_count": null,
   "id": "6bd45670",
   "metadata": {},
   "outputs": [],
   "source": []
  },
  {
   "cell_type": "markdown",
   "id": "35ef7a35",
   "metadata": {},
   "source": [
    "## for kết hợp với hàm range()"
   ]
  },
  {
   "cell_type": "markdown",
   "id": "80e01298",
   "metadata": {},
   "source": [
    "### Trường hợp 1 tham số"
   ]
  },
  {
   "cell_type": "code",
   "execution_count": 7,
   "id": "b56eadb4",
   "metadata": {},
   "outputs": [
    {
     "name": "stdout",
     "output_type": "stream",
     "text": [
      "0\n",
      "1\n",
      "2\n",
      "3\n",
      "4\n",
      "5\n",
      "6\n",
      "7\n",
      "8\n",
      "9\n"
     ]
    }
   ],
   "source": [
    "#in các số tự nhiên từ 0-10\n",
    "i = 0\n",
    "\n",
    "while i<10:\n",
    "    print(i)\n",
    "    \n",
    "    i += 1"
   ]
  },
  {
   "cell_type": "code",
   "execution_count": 6,
   "id": "81a6d4c8",
   "metadata": {},
   "outputs": [
    {
     "name": "stdout",
     "output_type": "stream",
     "text": [
      "0\n",
      "1\n",
      "2\n",
      "3\n",
      "4\n",
      "5\n",
      "6\n",
      "7\n",
      "8\n",
      "9\n",
      "10\n"
     ]
    }
   ],
   "source": [
    "for i in range(11):\n",
    "    print(i)\n",
    "    "
   ]
  },
  {
   "cell_type": "markdown",
   "id": "b4eb03ed",
   "metadata": {},
   "source": [
    "### Ví dụ: In các số lẻ từ 0 đến 100"
   ]
  },
  {
   "cell_type": "code",
   "execution_count": 14,
   "id": "f73caa14",
   "metadata": {},
   "outputs": [
    {
     "name": "stdout",
     "output_type": "stream",
     "text": [
      "1\n",
      "3\n",
      "5\n",
      "7\n",
      "9\n",
      "11\n",
      "13\n",
      "15\n",
      "17\n",
      "19\n",
      "21\n",
      "23\n",
      "25\n",
      "27\n",
      "29\n",
      "31\n",
      "33\n",
      "35\n",
      "37\n",
      "39\n",
      "41\n",
      "43\n",
      "45\n",
      "47\n",
      "49\n",
      "51\n",
      "53\n",
      "55\n",
      "57\n",
      "59\n",
      "61\n",
      "63\n",
      "65\n",
      "67\n",
      "69\n",
      "71\n",
      "73\n",
      "75\n",
      "77\n",
      "79\n",
      "81\n",
      "83\n",
      "85\n",
      "87\n",
      "89\n",
      "91\n",
      "93\n",
      "95\n",
      "97\n",
      "99\n"
     ]
    }
   ],
   "source": [
    "for i in range(101):\n",
    "    if i % 2 !=0:\n",
    "        print(i)\n",
    "    "
   ]
  },
  {
   "cell_type": "markdown",
   "id": "5b4c7f1c",
   "metadata": {},
   "source": [
    "### Trường hợp 2 tham số"
   ]
  },
  {
   "cell_type": "code",
   "execution_count": 15,
   "id": "ab369d26",
   "metadata": {},
   "outputs": [
    {
     "name": "stdout",
     "output_type": "stream",
     "text": [
      "10\n",
      "11\n",
      "12\n",
      "13\n",
      "14\n",
      "15\n",
      "16\n",
      "17\n",
      "18\n",
      "19\n"
     ]
    }
   ],
   "source": [
    "#in ra các số từ 10-20\n",
    "for i in range(10,20):\n",
    "    print(i)"
   ]
  },
  {
   "cell_type": "markdown",
   "id": "06853353",
   "metadata": {},
   "source": [
    "### Ví dụ: In các số chia hết cho 7 từ a đến b"
   ]
  },
  {
   "cell_type": "code",
   "execution_count": 20,
   "id": "7b21bcdf",
   "metadata": {},
   "outputs": [
    {
     "name": "stdout",
     "output_type": "stream",
     "text": [
      "1505, 1512, 1519, 1526, 1533, 1540, 1547, 1554, 1561, 1568, 1575, 1582, 1589, 1596, "
     ]
    }
   ],
   "source": [
    "a = int(input(\"nhập số a = \"))\n",
    "b = int(input(\"nhập số b = \"))\n",
    "\n",
    "for i in range(a,b+1):\n",
    "    if not i%7:\n",
    "        print(i, end = \", \")"
   ]
  },
  {
   "cell_type": "markdown",
   "id": "5f784920",
   "metadata": {},
   "source": [
    "### Trường hợp 3 tham số"
   ]
  },
  {
   "cell_type": "code",
   "execution_count": 25,
   "id": "f6b32018",
   "metadata": {},
   "outputs": [
    {
     "name": "stdout",
     "output_type": "stream",
     "text": [
      "100\n",
      "97\n",
      "94\n",
      "91\n",
      "88\n",
      "85\n",
      "82\n"
     ]
    }
   ],
   "source": [
    "for i in range(100, 80, -3):\n",
    "    print(i)"
   ]
  },
  {
   "cell_type": "markdown",
   "id": "a4c0fc85",
   "metadata": {},
   "source": [
    "### Ví dụ: Biểu diễn cấp số cộng"
   ]
  },
  {
   "cell_type": "code",
   "execution_count": 1,
   "id": "9e9a5cbf",
   "metadata": {},
   "outputs": [
    {
     "name": "stdout",
     "output_type": "stream",
     "text": [
      "1\n",
      "5\n",
      "9\n",
      "13\n",
      "17\n",
      "21\n",
      "25\n",
      "29\n",
      "33\n",
      "37\n",
      "41\n",
      "45\n",
      "49\n",
      "53\n",
      "57\n",
      "61\n",
      "65\n",
      "69\n",
      "73\n",
      "77\n",
      "81\n",
      "85\n",
      "89\n",
      "93\n",
      "97\n"
     ]
    }
   ],
   "source": [
    "#công sai 4, n =100\n",
    "for i in range(1, 100, 4):\n",
    "        print(i)"
   ]
  },
  {
   "cell_type": "markdown",
   "id": "a2a61887",
   "metadata": {},
   "source": [
    "## lặp qua một chuỗi"
   ]
  },
  {
   "cell_type": "code",
   "execution_count": 9,
   "id": "e495f392",
   "metadata": {},
   "outputs": [
    {
     "name": "stdout",
     "output_type": "stream",
     "text": [
      "17\n",
      "p\n",
      "y\n",
      "t\n",
      "h\n",
      "o\n",
      "n\n",
      "F\n",
      "u\n",
      "n\n",
      "d\n",
      "a\n",
      "m\n",
      "e\n",
      "n\n",
      "t\n",
      "a\n",
      "l\n",
      "p-y-t-h-o-n-F-u-n-d-a-m-e-n-t-a-l-"
     ]
    }
   ],
   "source": [
    "course_name = \"pythonFundamental\"\n",
    "# 2 cách:\n",
    "#c1: kiểm tra vị trí (index) từng ký tự trong chuỗi\n",
    "print(len(course_name))\n",
    "for i in range(len(course_name)):\n",
    "    print(course_name[i])\n",
    "\n",
    "#c2 : kiểm tra ký tự sau lấy ra chúng sử lý duyệt từng ký tự\n",
    "for c in course_name:\n",
    "    print(c, end=\"-\")\n"
   ]
  },
  {
   "cell_type": "markdown",
   "id": "a4013631",
   "metadata": {},
   "source": [
    "### Ví dụ: Đếm số lượng nguyên âm trong chuỗi"
   ]
  },
  {
   "cell_type": "code",
   "execution_count": 37,
   "id": "319bfb92",
   "metadata": {},
   "outputs": [
    {
     "ename": "IndexError",
     "evalue": "string index out of range",
     "output_type": "error",
     "traceback": [
      "\u001b[1;31m---------------------------------------------------------------------------\u001b[0m",
      "\u001b[1;31mIndexError\u001b[0m                                Traceback (most recent call last)",
      "Input \u001b[1;32mIn [37]\u001b[0m, in \u001b[0;36m<module>\u001b[1;34m\u001b[0m\n\u001b[0;32m      5\u001b[0m \u001b[38;5;28;01mfor\u001b[39;00m c \u001b[38;5;129;01min\u001b[39;00m course:\n\u001b[0;32m      6\u001b[0m     \u001b[38;5;28;01mif\u001b[39;00m c \u001b[38;5;241m==\u001b[39m \u001b[38;5;124m\"\u001b[39m\u001b[38;5;124mu\u001b[39m\u001b[38;5;124m\"\u001b[39m \u001b[38;5;129;01mor\u001b[39;00m c \u001b[38;5;241m==\u001b[39m \u001b[38;5;124m\"\u001b[39m\u001b[38;5;124ma\u001b[39m\u001b[38;5;124m\"\u001b[39m \u001b[38;5;129;01mor\u001b[39;00m c \u001b[38;5;241m==\u001b[39m \u001b[38;5;124m\"\u001b[39m\u001b[38;5;124me\u001b[39m\u001b[38;5;124m\"\u001b[39m \u001b[38;5;129;01mor\u001b[39;00m c \u001b[38;5;241m==\u001b[39m \u001b[38;5;124m\"\u001b[39m\u001b[38;5;124mo\u001b[39m\u001b[38;5;124m\"\u001b[39m \u001b[38;5;129;01mor\u001b[39;00m c \u001b[38;5;241m==\u001b[39m \u001b[38;5;124m\"\u001b[39m\u001b[38;5;124mi\u001b[39m\u001b[38;5;124m\"\u001b[39m:\n\u001b[1;32m----> 7\u001b[0m         \u001b[38;5;28mprint\u001b[39m(\u001b[43mc\u001b[49m\u001b[43m[\u001b[49m\u001b[43mi\u001b[49m\u001b[43m]\u001b[49m)\n\u001b[0;32m      8\u001b[0m     total \u001b[38;5;241m+\u001b[39m\u001b[38;5;241m=\u001b[39m \u001b[38;5;241m1\u001b[39m\n\u001b[0;32m      9\u001b[0m \u001b[38;5;28mprint\u001b[39m(total)\n",
      "\u001b[1;31mIndexError\u001b[0m: string index out of range"
     ]
    }
   ],
   "source": [
    "#tạo ra biến chuỗi bất kỳ viết ra các nguyên âm\n",
    "course = \"pythonFundamental\"\n",
    "total = 0\n",
    "for c in course:\n",
    "    if c == \"u\" or c == \"a\" or c == \"e\" or c == \"o\" or c == \"i\":\n",
    "        print(c[i])\n",
    "    total += 1\n",
    "print(total)"
   ]
  },
  {
   "cell_type": "code",
   "execution_count": 33,
   "id": "f02dc47b",
   "metadata": {},
   "outputs": [
    {
     "name": "stdout",
     "output_type": "stream",
     "text": [
      "this string has 7 integer\n"
     ]
    }
   ],
   "source": [
    "content = \"Lorem Ipsum đã là tiêu chuẩn của ngành\" \n",
    "total_vowel = 0 \n",
    "for c in content: \n",
    "    if c in 'aoeui': \n",
    "        total_vowel += 1 \n",
    "print (f\"this string has {total_vowel} integer\")"
   ]
  },
  {
   "cell_type": "markdown",
   "id": "49bf78d3",
   "metadata": {},
   "source": [
    "## Lặp qua một danh sách chuỗi"
   ]
  },
  {
   "cell_type": "code",
   "execution_count": 30,
   "id": "0a5874cf",
   "metadata": {
    "scrolled": true
   },
   "outputs": [
    {
     "name": "stdout",
     "output_type": "stream",
     "text": [
      "Trung\n",
      "Dung\n",
      "Hoa\n",
      "thành\n"
     ]
    }
   ],
   "source": [
    "list_studen = \"Trung\", \"Dung\", \"Hoa\", \"thành\"\n",
    "for i in range(len(list_studen)):\n",
    "    print(list_studen[i])"
   ]
  },
  {
   "cell_type": "markdown",
   "id": "be1b5ba5",
   "metadata": {},
   "source": [
    "### Ví dụ: Tìm chuỗi dài nhất"
   ]
  },
  {
   "cell_type": "code",
   "execution_count": 51,
   "id": "d6e7ef2c",
   "metadata": {},
   "outputs": [
    {
     "name": "stdout",
     "output_type": "stream",
     "text": [
      "hihihihhhe\n"
     ]
    }
   ],
   "source": [
    "#lập danh sách kiểm tra độ dài lớn nhất\n",
    "favodite_foods = [\"ga\", \"heo\", \"chó\", \"cá sấu\", \"hihihihhhe\"]\n",
    "max_l = len(favodite_foods[0])\n",
    "max_s = favodite_foods[0]\n",
    "for c in range(len(favodite_foods)):\n",
    "    if len(favodite_foods[i]) > max_l:\n",
    "        max_l = len(favodite_foods[i])\n",
    "        max_s = favodite_foods[i]\n",
    "print(max_s)   \n",
    "    "
   ]
  },
  {
   "cell_type": "code",
   "execution_count": 49,
   "id": "0e60dff3",
   "metadata": {},
   "outputs": [
    {
     "name": "stdout",
     "output_type": "stream",
     "text": [
      "rau thit trứng\n"
     ]
    }
   ],
   "source": [
    "list_food = ['ga','canh','com','rau', 'rau thit trứng']\n",
    "max_l = len(list_food[0])\n",
    "max_s = list_food[0]\n",
    "for i in range(len(list_food)):\n",
    "    if len(list_food[i]) > max_l:\n",
    "        max_l = len(list_food[i])\n",
    "        max_s = list_food[i]\n",
    "print(max_s)"
   ]
  },
  {
   "cell_type": "markdown",
   "id": "69fa4d9f",
   "metadata": {},
   "source": [
    "## Vòng lặp lồng nhau"
   ]
  },
  {
   "cell_type": "code",
   "execution_count": 40,
   "id": "864bc218",
   "metadata": {
    "scrolled": true
   },
   "outputs": [
    {
     "name": "stdout",
     "output_type": "stream",
     "text": [
      "Nhập chiều cao tam giác: 9\n",
      "+-*+-*+-*\n",
      "+-*+-*+-\n",
      "+-*+-*+\n",
      "+-*+-*\n",
      "+-*+-\n",
      "+-*+\n",
      "+-*\n",
      "+-\n",
      "+\n"
     ]
    }
   ],
   "source": [
    "'''\n",
    "vẽ ra tam giác có ký tự\n",
    "+-*+-*+-*\n",
    "+-*+-*+-\n",
    "+-*+-*+\n",
    "+-*+-*\n",
    "+-*+-\n",
    "+-*+\n",
    "+-*\n",
    "+-\n",
    "+\n",
    "'''\n",
    "height = int(input(\"Nhập chiều cao tam giác: \"))\n",
    "for i in range(9, 0, -1):\n",
    "    for j in range(i):\n",
    "        if j % 3 == 1:\n",
    "            print('-', end='')\n",
    "        elif j % 3 == 2:\n",
    "            print('*', end='')\n",
    "        else: print('+', end='')\n",
    "            \n",
    "    print()"
   ]
  },
  {
   "cell_type": "code",
   "execution_count": null,
   "id": "5cfeab4f",
   "metadata": {},
   "outputs": [],
   "source": []
  }
 ],
 "metadata": {
  "kernelspec": {
   "display_name": "Python 3 (ipykernel)",
   "language": "python",
   "name": "python3"
  },
  "language_info": {
   "codemirror_mode": {
    "name": "ipython",
    "version": 3
   },
   "file_extension": ".py",
   "mimetype": "text/x-python",
   "name": "python",
   "nbconvert_exporter": "python",
   "pygments_lexer": "ipython3",
   "version": "3.10.2"
  }
 },
 "nbformat": 4,
 "nbformat_minor": 5
}
