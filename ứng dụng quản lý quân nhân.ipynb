{
 "cells": [
  {
   "cell_type": "code",
   "execution_count": null,
   "id": "28577051",
   "metadata": {},
   "outputs": [],
   "source": [
    "from tkinter import *\n",
    "\n",
    "wid = Tk()\n",
    "wid.geometry(\"1350x750\")\n",
    "wid.title(\"phi đội 1\")\n",
    "wid.configure(background=\"black\")\n",
    "\n",
    "tieude = Frame(wid, width=1350, height=100, bd=14, relief=\"raise\")\n",
    "tieude.pack(side=TOP)\n",
    "\n",
    "ten_ung_dung = Label(tieude, text=\"ỨNG DỤNG QUẢN LÝ QUÂN NHÂN\", fg=\"red\", font=(\"arial\", 55, \"bold\"), bd=10)\n",
    "ten_ung_dung.grid(column=0, row=0)\n",
    "\n",
    "khung1 = Frame(wid, width=900, height=650, bd=8, relief=\"raise\")\n",
    "khung1.pack(side=LEFT)\n",
    "\n",
    "khung1a = Frame(khung1, width=900, height=400, bd=6, relief=\"raise\")\n",
    "khung1a.pack(side=TOP)\n",
    "\n",
    "khung1a1 = Frame(khung1a, width=500, height=400, bd=4, relief=\"raise\")\n",
    "khung1a1.pack(side=LEFT)\n",
    "\n",
    "khung1a2 = Frame(khung1a, width=400, height=400, bd=4, relief=\"raise\")\n",
    "khung1a2.pack(side=RIGHT)\n",
    "\n",
    "khung1b = Frame(khung1, width=900, height=250, bd=6, relief=\"raise\")\n",
    "khung1b.pack(side=BOTTOM)\n",
    "\n",
    "khung1b1 = Frame(khung1b, width=450, height=250, bd=4, relief=\"raise\")\n",
    "khung1b1.pack(side=LEFT)\n",
    "\n",
    "khung1b1 = Frame(khung1b, width=450, height=250, bd=4, relief=\"raise\")\n",
    "khung1b1.pack(side=RIGHT)\n",
    "\n",
    "khung2 = Frame(wid, width=440, height=650, bd=8, relief=\"raise\")\n",
    "khung2.pack(side=RIGHT)\n",
    "\n",
    "khung2a = Frame(khung2, width=440, height=530, bd=6, relief=\"raise\")\n",
    "khung2a.pack(side=TOP)\n",
    "\n",
    "khung2b = Frame(khung2, width=440, height=120, bd=6, relief=\"raise\")\n",
    "khung2b.pack(side=BOTTOM)\n",
    "\n",
    "\n",
    "windows.mainloop()"
   ]
  }
 ],
 "metadata": {
  "kernelspec": {
   "display_name": "Python 3 (ipykernel)",
   "language": "python",
   "name": "python3"
  },
  "language_info": {
   "codemirror_mode": {
    "name": "ipython",
    "version": 3
   },
   "file_extension": ".py",
   "mimetype": "text/x-python",
   "name": "python",
   "nbconvert_exporter": "python",
   "pygments_lexer": "ipython3",
   "version": "3.10.2"
  }
 },
 "nbformat": 4,
 "nbformat_minor": 5
}
