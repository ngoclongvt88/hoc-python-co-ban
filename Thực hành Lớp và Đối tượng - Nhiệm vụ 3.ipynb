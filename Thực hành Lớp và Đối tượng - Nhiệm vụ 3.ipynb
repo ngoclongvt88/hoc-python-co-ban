{
 "cells": [
  {
   "cell_type": "code",
   "execution_count": 6,
   "id": "a42fa0c7",
   "metadata": {},
   "outputs": [],
   "source": [
    "\"\"\"\n",
    "Tạo class có tên SoHoc gồm có các thuộc tính và phương thức sau:\n",
    "+ Thuộc tính: number1, number2\n",
    "+ Phương thức:\n",
    "- Phương thức tạo __init()__\n",
    "- input_info(): dùng để nhập 2 số number1, number2\n",
    "- print_info(): dùng để hiển thị number1, number2\n",
    "- addition(): dùng để cộng number1, number2\n",
    "- subtract(): trừ number1, number2\n",
    "- multi(): dùng để nhân number1, number2\n",
    "- division(): dùng để chia number1, number2.\n",
    "\n",
    "Sau khi tạo class, khởi tạo một object SoHoc và in ra kết quả tính toán từ các hàm thực hiện phép tính\n",
    "\"\"\"\n",
    "class SoHoc():\n",
    "    def __init__(self):\n",
    "        self.number1 = 0\n",
    "        self.number2 = 0\n",
    "        \n",
    "    def input_info(self):\n",
    "        self.number1 = float(input(\"Nhập số thứ nhât: \"))\n",
    "        self.number2 = float(input(\"Nhập số thứ hai: \"))\n",
    "        \n",
    "    def print_info(self):\n",
    "        print(f\"Số thứ nhất là: {self.number1}\")\n",
    "        print(f\"Số thứ hai là: {self.number2}\")\n",
    "        \n",
    "    def addition(self):\n",
    "        return self.number1 + self.number2\n",
    "    \n",
    "    def subtract(self):\n",
    "        return self.number1 - self.number2\n",
    "    \n",
    "    def multi(self):\n",
    "        return self.number1 * self.number2\n",
    "    \n",
    "    def division(self):\n",
    "        if self.number2 != 0:\n",
    "            return self.number1/self.number2\n",
    "        else:\n",
    "            return \n",
    "            \n",
    "            "
   ]
  },
  {
   "cell_type": "code",
   "execution_count": 13,
   "id": "1c94a098",
   "metadata": {},
   "outputs": [
    {
     "name": "stdout",
     "output_type": "stream",
     "text": [
      "Nhập số thứ nhât: 12\n",
      "Nhập số thứ hai: 4\n",
      "Số thứ nhất là: 12\n",
      "Số thứ hai là: 4\n",
      "kết quả phép cộng là: 16\n",
      "kết quả phép trừ là: 8\n",
      "kết quả phép nhân là: 48\n",
      "3.0\n",
      "3.0\n",
      "kết quả phép chia là: None\n"
     ]
    }
   ],
   "source": [
    "a = SoHoc()\n",
    "a.input_info()\n",
    "a.print_info()\n",
    "a.addition()\n",
    "print(f\"kết quả phép cộng là: {a.addition()}\")\n",
    "a.subtract()\n",
    "print(f\"kết quả phép trừ là: {a.subtract()}\")\n",
    "a.multi()\n",
    "print(f\"kết quả phép nhân là: {a.multi()}\")\n",
    "a.division()\n",
    "print(f\"kết quả phép chia là: {a.division()}\")"
   ]
  },
  {
   "cell_type": "code",
   "execution_count": null,
   "id": "df3579d1",
   "metadata": {},
   "outputs": [],
   "source": []
  }
 ],
 "metadata": {
  "kernelspec": {
   "display_name": "Python 3 (ipykernel)",
   "language": "python",
   "name": "python3"
  },
  "language_info": {
   "codemirror_mode": {
    "name": "ipython",
    "version": 3
   },
   "file_extension": ".py",
   "mimetype": "text/x-python",
   "name": "python",
   "nbconvert_exporter": "python",
   "pygments_lexer": "ipython3",
   "version": "3.10.2"
  }
 },
 "nbformat": 4,
 "nbformat_minor": 5
}
