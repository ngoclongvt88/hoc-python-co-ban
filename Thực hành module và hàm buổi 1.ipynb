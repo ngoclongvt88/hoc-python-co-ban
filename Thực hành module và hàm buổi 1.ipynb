{
 "cells": [
  {
   "cell_type": "markdown",
   "id": "a2a38651",
   "metadata": {},
   "source": [
    "## Bài 1:\n",
    "Viết hàm my_info() nhận vào 2 tham số `name` và `course`, sau đó in ra thông tin tương ứng. Ví dụ: \n",
    "```\n",
    "my_info('Long', 'Python')\n",
    "\n",
    "Output: \n",
    "My name is Long.\n",
    "I'm studying Python.\n",
    "```"
   ]
  },
  {
   "cell_type": "code",
   "execution_count": null,
   "id": "392f869d",
   "metadata": {},
   "outputs": [],
   "source": [
    "def my_info(name, course):\n",
    "    # code below this line\n",
    "    print(f\"My name is {name}.\")\n",
    "    # code above this line\n",
    "    print(f\"I'm studying {course}.\")\n",
    "my_info('Long', 'Python')"
   ]
  },
  {
   "cell_type": "markdown",
   "id": "7390cb06",
   "metadata": {},
   "source": [
    "## Bài 2:\n",
    "Viết hàm sum_even() nhận vào một số `n` và in ra tổng các số chẵn từ 2 đến n.\n",
    "Ví dụ:\n",
    "```\n",
    "sum_even(10)\n",
    "\n",
    "Output:\n",
    "30\n",
    "```"
   ]
  },
  {
   "cell_type": "code",
   "execution_count": null,
   "id": "aaba993e",
   "metadata": {},
   "outputs": [],
   "source": [
    "def sum_even(n):\n",
    "    # code below this line\n",
    "    for i in range(2, n+1, 2):\n",
    "        tong = (i+2)*i/4 \n",
    "    print(\"{0:g}\".format(tong))\n",
    "    # code above this line\n",
    "\n",
    "sum_even(10)"
   ]
  },
  {
   "cell_type": "code",
   "execution_count": null,
   "id": "7172cdab",
   "metadata": {},
   "outputs": [],
   "source": [
    "def sum_even(n):\n",
    "    total = 0\n",
    "    for i in range(1,n+1):\n",
    "        if i % 2 == 0:\n",
    "            total += i\n",
    "    print(total)\n",
    "\n",
    "sum_even(10)"
   ]
  },
  {
   "cell_type": "markdown",
   "id": "0f69e7f2",
   "metadata": {},
   "source": [
    "## Bài 3:\n",
    "Viết hàm easy_math() nhận vào 3 tham số `num1`, `op`, `num 2` để thực hiện phép tính tương ứng và in ra kết quả. \n",
    "Ví dụ:\n",
    "```\n",
    "easy_math(5, '+', 5)\n",
    "\n",
    "Output:\n",
    "10\n",
    "```\n"
   ]
  },
  {
   "cell_type": "code",
   "execution_count": null,
   "id": "6723f2c9",
   "metadata": {},
   "outputs": [],
   "source": [
    "def easy_math(num1, op, num2):\n",
    "    # code below this line\n",
    "    if op == \"+\":\n",
    "        print(f\"{num1 + num2}\")\n",
    "    elif op == \"-\":\n",
    "        print(f\"{num1 - num2}\")\n",
    "    elif op == \"*\":\n",
    "        print(f\"{num1 * num2}\")\n",
    "    elif op == \"/\":\n",
    "        print(f\"{num1 / num2}\")\n",
    "    elif op == \"%\":\n",
    "        print(f\"{num1 % num2}\")\n",
    "    elif op == \"//\":\n",
    "        print(f\"{num1 // num2}\")\n",
    "    elif op == \"^\":\n",
    "        print(f\"{num1 ** num2}\")\n",
    "easy_math(5, \"+\", 5)"
   ]
  },
  {
   "cell_type": "markdown",
   "id": "3239a01d",
   "metadata": {},
   "source": [
    "## Bài 4:\n",
    "Viết hàm check_even() nhận vào tham số `number` và kiểm tra xem `number` có phải là số chẵn hay không.\n",
    "Ví dụ:\n",
    "```\n",
    "check_even(5)\n",
    "\n",
    "Output:\n",
    "5 là số chẵn\n",
    "```"
   ]
  },
  {
   "cell_type": "code",
   "execution_count": null,
   "id": "f6a0918a",
   "metadata": {},
   "outputs": [],
   "source": [
    "def check_even(number):\n",
    "    # code below this line\n",
    "    print(f\"{number} là số chẵn\" if number %2 ==0 else f\"{number} là số lẻ\") \n",
    "    # code above this line\n",
    "\n",
    "check_even(5)"
   ]
  },
  {
   "cell_type": "markdown",
   "id": "27a4bd3b",
   "metadata": {},
   "source": [
    "## Bài 5:\n",
    "Viết hàm transform_str() nhận vào tham số `string` và in ra `string` ở dạng uppercase và lowercase. Ví dụ:\n",
    "```\n",
    "transform_str('Function Is Magic!')\n",
    "\n",
    "Output:\n",
    "Lowercase: function is magic!\n",
    "Uppercase: FUNCTION IS MAGIC!\n",
    "```"
   ]
  },
  {
   "cell_type": "code",
   "execution_count": null,
   "id": "ae2891a8",
   "metadata": {},
   "outputs": [],
   "source": [
    "def transform_str(string):\n",
    "    print(f\"Lowercase: {str.lower(string)}\")\n",
    "    print(f\"Uppercase: {str.upper(string)}\")\n",
    "transform_str('Function Is Magic!')"
   ]
  },
  {
   "cell_type": "markdown",
   "id": "163331db",
   "metadata": {},
   "source": [
    "## Bài 6:\n",
    "Viết hàm calculate_factorial() nhận vào tham số `number` và in ra giai thừa của tham số đó. Ví dụ:\n",
    "```\n",
    "calculate_factorial(5)\n",
    "\n",
    "Output: 120\n",
    "```"
   ]
  },
  {
   "cell_type": "code",
   "execution_count": null,
   "id": "0047ec9d",
   "metadata": {},
   "outputs": [],
   "source": [
    "def calculate_factorial(number):\n",
    "    n = 1\n",
    "    for i in range(2, number + 1):\n",
    "        n = n*i\n",
    "    print(f\"giai thừa của {number} là: {n}\")\n",
    "calculate_factorial(5)"
   ]
  },
  {
   "cell_type": "markdown",
   "id": "6d381154",
   "metadata": {},
   "source": [
    "## Bài 7:\n",
    "Dãy Fibonacci là dãy vô hạn các số tự nhiên bắt đầu bằng 1 và 1, sau đó các số tiếp theo sẽ bằng tổng của 2 số liền trước nó. \n",
    "\n",
    "Cụ thể, các số đầu tiên của dãy Fibonacci là 1, 1, 2, 3, 5, 8, 13, 21, 34, 55, 89, 144, 233, 377, 610... \n",
    "\n",
    "Nhiệm vụ: Viết chương trình find_fibo() nhận vào tham số `index` và in ra số Fibonacci ở vị trí `index`. Nếu `index` bằng 0 thì in ra 0. Ví dụ:\n",
    "\n",
    "```\n",
    "find_fibo(1)\n",
    "\n",
    "Output:\n",
    "1\n",
    "```\n",
    "-------------------\n",
    "```\n",
    "find_fibo(6)\n",
    "\n",
    "Output:\n",
    "8\n",
    "```\n",
    "-------------------\n",
    "```\n",
    "find_fibo(0)\n",
    "\n",
    "Output:\n",
    "0\n",
    "```"
   ]
  },
  {
   "cell_type": "code",
   "execution_count": null,
   "id": "0b8b2dc3",
   "metadata": {},
   "outputs": [],
   "source": [
    "def find_fibo(index):\n",
    "    f0 = 0\n",
    "    f1 = 1\n",
    "    fn = 1\n",
    "# n >= 2    \n",
    "    if index == 0 or index == 1:\n",
    "        print(index)\n",
    "    else:\n",
    "        for i in range(2, index + 1):\n",
    "            fn = f0 + f1\n",
    "            f0 = f1\n",
    "            f1 = fn\n",
    "            #fn = f0 + f1\n",
    "        print(fn)\n",
    "                 \n",
    "find_fibo(10)"
   ]
  },
  {
   "cell_type": "code",
   "execution_count": null,
   "id": "d2b12b43",
   "metadata": {},
   "outputs": [],
   "source": [
    "def find_fibo(index):\n",
    "    a1 = 1\n",
    "    a2 = 1\n",
    "    i = 3\n",
    "    if index == 0 :\n",
    "        print(0) \n",
    "    elif index == 1 or index == 2 :\n",
    "        print(1)\n",
    "    else :\n",
    "        while i <= index :\n",
    "            a = a1 + a2\n",
    "            a1 = a2\n",
    "            a2 = a\n",
    "            i += 1\n",
    "        print(a)\n",
    "\n",
    "find_fibo(4)"
   ]
  },
  {
   "cell_type": "markdown",
   "id": "65db4551",
   "metadata": {},
   "source": [
    "## Bài 8:\n",
    "Viết hàm find_divisors() nhận vào một số nguyên dương `number` và in ra tất cả các ước của `number`. Ví dụ:\n",
    "```\n",
    "find_divisors(24)\n",
    "\n",
    "Output:\n",
    "Ước của 24 là: 1, 2, 3, 4, 6, 8, 12, 24\n",
    "```"
   ]
  },
  {
   "cell_type": "code",
   "execution_count": null,
   "id": "d9b20c10",
   "metadata": {},
   "outputs": [],
   "source": [
    "def find_divisors(number):\n",
    "    print(f\"Ước của {number} là: \", end=\"\")\n",
    "    for i in range(1, number + 1):\n",
    "        if number % i == 0 and i != number: \n",
    "            print(i, end=\", \")\n",
    "        if i == number:\n",
    "            print(i)\n",
    "    \n",
    "find_divisors(24)"
   ]
  },
  {
   "cell_type": "code",
   "execution_count": null,
   "id": "7c0da460",
   "metadata": {},
   "outputs": [],
   "source": [
    "def find_divisors(number):\n",
    "    # code below this line\n",
    "    for i in range(1, number + 1):\n",
    "        if not number % i:\n",
    "            print(i, end=\" \")\n",
    "    # code above this line\n",
    "\n",
    "find_divisors(24)"
   ]
  },
  {
   "cell_type": "code",
   "execution_count": null,
   "id": "1207f9f5",
   "metadata": {},
   "outputs": [],
   "source": [
    "def find_divisors(number):\n",
    "    # code below this line\n",
    "    print(f\"Ước của {number} là: \", end =\"\")\n",
    "    for i in range(1, number):\n",
    "        if (number % i == 0):\n",
    "            print(i, end=\", \")\n",
    "    print(number)\n",
    "\n",
    "find_divisors(24)"
   ]
  },
  {
   "cell_type": "markdown",
   "id": "37000ab2",
   "metadata": {},
   "source": [
    "## Bài 9:\n",
    "Viết hàm solve_equation() để giải phương trình bậc nhất ax + b = 0 với `a` và `b` là 2 tham số đầu vào. Ví dụ:\n",
    "```\n",
    "solve_equation(2, -4)\n",
    "\n",
    "Output: \n",
    "x = 2\n",
    "```\n",
    "---\n",
    "```\n",
    "solve_equation(0, 0)\n",
    "\n",
    "Output: \n",
    "Phương trình vô số nghiệm\n",
    "```\n",
    "---\n",
    "```\n",
    "solve_equation(0, -4)\n",
    "\n",
    "Output: \n",
    "Phương trình vô nghiệm\n",
    "```"
   ]
  },
  {
   "cell_type": "code",
   "execution_count": null,
   "id": "abfc5589",
   "metadata": {},
   "outputs": [],
   "source": [
    "def solve_equation(a, b):\n",
    "    # code below this line\n",
    "    if a == 0:\n",
    "        if b == 0:\n",
    "            print(\"Phương trình vô số nghiệm\")\n",
    "        else:\n",
    "            print(\"Phương trình vô nghiệm\")\n",
    "    else:\n",
    "        x = -(b/a)\n",
    "        print(\"x = {:g}\".format(x))\n",
    "    # code above this line\n",
    "\n",
    "solve_equation(2, -4)"
   ]
  },
  {
   "cell_type": "markdown",
   "id": "a483ed69",
   "metadata": {},
   "source": [
    "## Bài 10:\n",
    "Viết hàm find_distance() nhận vào 4 tham số `x1`, `y1`, `x2`, `y2` là tọa độ của 2 điểm trên trục tọa độ và in ra khoảng cách của 2 điểm đó theo công thức:\n",
    "```\n",
    "distance = sqrt((x1-x2)^2 + (y1-y2)^2)\n",
    "```\n",
    "Tham khảo: https://toanthaydinh.com/cong-thuc-tinh-khoang-cach-giua-2-diem/\n",
    "Khoảng cách được làm tròn 2 chữ số thập phân.\n",
    "\n",
    "Ví dụ:\n",
    "```\n",
    "find_distance(5, 2, 1, 3)\n",
    "\n",
    "Output:\n",
    "4.12\n",
    "```"
   ]
  },
  {
   "cell_type": "code",
   "execution_count": null,
   "id": "2dcf614e",
   "metadata": {},
   "outputs": [],
   "source": [
    "def find_distance(x1, y1, x2, y2):\n",
    "    # code below this line\n",
    "    distance = ((x2 - x1)**2 + (y2 - y1)**2)**0.5\n",
    "    a = str(distance)\n",
    "    for i in range(4):\n",
    "        print(a[i], end=\"\")\n",
    "        #dùng hàm round(a, b) a là số cần làm tròn, b là giá trị làm tròn tới\n",
    "    # code above this line\n",
    "\n",
    "find_distance(5, 2, 1, 3)"
   ]
  },
  {
   "cell_type": "code",
   "execution_count": null,
   "id": "48a8f675",
   "metadata": {},
   "outputs": [],
   "source": [
    "import math\n",
    "def find_distance(x1, y1, x2, y2):\n",
    "    # code below this line\n",
    "    distance = math.sqrt((x1 - x2)**2 + (y1 - y2)**2)\n",
    "    print(round(distance,2))\n",
    "    # code above this line\n",
    "\n",
    "find_distance(5, 2, 1, 3)"
   ]
  },
  {
   "cell_type": "markdown",
   "id": "6236743e",
   "metadata": {},
   "source": [
    "## Bài 11(bonus):\n",
    "Viết hàm test_password() nhận vào một chuỗi(xem như là mật khẩu của người dùng).\n",
    "Sau đó kiểm tra xem đây có phải là mật khẩu mạnh hay không theo quy tắc sau:\n",
    "- Mật khẩu mạnh là mật khẩu phải có ít nhất 1 chữ hoa, 1 chữ thường, 1 số và 1 ký tự đặc biệt"
   ]
  },
  {
   "cell_type": "code",
   "execution_count": null,
   "id": "b24922e7",
   "metadata": {},
   "outputs": [],
   "source": [
    "def test_password(string):\n",
    "    # code below this line\n",
    "    str_1 = (\"0\", \"1\", \"2\", \"3\", \"4\", \"5\", \"6\", \"7\", \"8\", \"9\")\n",
    "    str_2 = (\"!\", \"@\", \"#\", \"$\", \"%\", \"^\", \"&\", \"*\", \"(\", \")\")\n",
    "    \n",
    "    string_l = string.islower()\n",
    "    a = not(string_l)\n",
    "    \n",
    "    string_u = string.isupper()\n",
    "    b = not(string_u)\n",
    "    \n",
    "    for i in range(len(str_1)):\n",
    "        for j in range(len(string)):\n",
    "            if str_1[i] == string[j]:\n",
    "                number1 = True\n",
    "        \n",
    "    for h in range(len(str_2)):\n",
    "        for k in range(len(string)):\n",
    "            if string[k] == str_2[h]:\n",
    "                number2 = True\n",
    "        \n",
    "    if a == True and b == True and number1 == True and number2 == True:\n",
    "        print(\"Mật khẩu mạnh\")\n",
    "    else:\n",
    "        print(\"Mật kẩu yếu\")\n",
    "    # code above this line\n",
    "\n",
    "test_password(\"Longquyen88\")"
   ]
  },
  {
   "cell_type": "code",
   "execution_count": null,
   "id": "9903aee4",
   "metadata": {},
   "outputs": [],
   "source": [
    "def test_password(password):\n",
    "    # code below this line\n",
    "    \n",
    "    if password.islower() == False and password.isupper() == False and password.isalnum() == False:\n",
    "        \n",
    "        i = 0\n",
    "        countDigit = 0\n",
    "        for i in range(len(password)):\n",
    "            if password[i].isdigit() == True:  #kiem tra tung ky tu xem do co phai con so khong\n",
    "               countDigit = countDigit + 1\n",
    "        if countDigit == 0:\n",
    "            print(\"Password is not strong\")\n",
    "        else:\n",
    "            print(\"Password is strong\")\n",
    "               \n",
    "            \n",
    "    else:\n",
    "        print(\"Password is not strong\")\n",
    "\n",
    "    # code above this line\n",
    "\n",
    "test_password(\"Vietnamvodich1@\")"
   ]
  },
  {
   "cell_type": "code",
   "execution_count": null,
   "id": "a11bcb65",
   "metadata": {},
   "outputs": [],
   "source": [
    "def test_password(a):     \n",
    "\n",
    "    if len(a)<8:\n",
    "        print('mật khẩu yếu')\n",
    "    else:\n",
    "        x = 0\n",
    "        if not a.islower():\n",
    "            x = x + 1\n",
    "        if not a.isalnum():\n",
    "            x = x + 1\n",
    "        if not a.isalpha():\n",
    "            x = x + 1\n",
    "        for i in range(len(a)):\n",
    "            if a[i] in '0123456789':\n",
    "                x = x + 1\n",
    "                break\n",
    "    \n",
    "        if x == 4:\n",
    "            print('mật khẩu mạnh')\n",
    "        else:\n",
    "            print('mật khẩu yếu')"
   ]
  },
  {
   "cell_type": "code",
   "execution_count": null,
   "id": "88348926",
   "metadata": {},
   "outputs": [],
   "source": [
    "def test_password(password):\n",
    "    # code below this line\n",
    "    # có ít nhất 1 chữ hoa\n",
    "    # có ít nhất 1 chữ thường\n",
    "    # có ít nhất 1 số\n",
    "    # có ít nhất 1 ký tự đặc biệt\n",
    "    if password.isupper() == 1 or password.isnumeric() == 1 or password.islower() == 1 or password.isalpha() == 1 : \n",
    "        print(\"Mật khẩu chưa mạnh\")\n",
    "    else:\n",
    "        print(\"Mật khẩu ok\")"
   ]
  },
  {
   "cell_type": "code",
   "execution_count": null,
   "id": "11930a97",
   "metadata": {},
   "outputs": [],
   "source": [
    "def test_password(password):\n",
    "    # code below this line\n",
    "    check = True\n",
    "    # có ít nhất 1 số hay không?\n",
    "    # có ít nhất 1 ký tự đặc biệt hay không?\n",
    "    # có chữ hay không?\n",
    "    if password.isalpha():\n",
    "        check = False\n",
    "    else:\n",
    "        is_having_digit = False\n",
    "        is_having_special_character = False\n",
    "        is_having_alphabet = False\n",
    "        for c in password:\n",
    "            if c.isdigit():\n",
    "                is_having_digit = True\n",
    "            if not c.isdigit() and not c.isalpha():\n",
    "                is_having_special_character = True\n",
    "            if c.isalpha():\n",
    "                is_having_alphabet = True\n",
    "                \n",
    "        if is_having_digit == False or is_having_special_character == False or is_having_alphabet == False:\n",
    "            check = False\n",
    "            \n",
    "    # có ít nhất 1 chữ hoa hay không?\n",
    "    if password.islower():  # không có chữ viết hoa\n",
    "        check = False\n",
    "        \n",
    "    # có ít nhất 1 chữ thường hay không?\n",
    "    if password.isupper():\n",
    "        check = False\n",
    "    \n",
    "    \n",
    "            \n",
    "    if check:\n",
    "        print('Mật khẩu mạnh')\n",
    "    else:\n",
    "        print('Mật khẩu yếu') \n",
    "    # code above this line\n",
    "\n",
    "test_password(\"1@\")"
   ]
  }
 ],
 "metadata": {
  "kernelspec": {
   "display_name": "Python 3 (ipykernel)",
   "language": "python",
   "name": "python3"
  },
  "language_info": {
   "codemirror_mode": {
    "name": "ipython",
    "version": 3
   },
   "file_extension": ".py",
   "mimetype": "text/x-python",
   "name": "python",
   "nbconvert_exporter": "python",
   "pygments_lexer": "ipython3",
   "version": "3.10.2"
  }
 },
 "nbformat": 4,
 "nbformat_minor": 5
}
