{
 "cells": [
  {
   "cell_type": "code",
   "execution_count": 3,
   "id": "6055280a",
   "metadata": {},
   "outputs": [
    {
     "ename": "TypeError",
     "evalue": "Number.__init__() missing 1 required positional argument: 'num'",
     "output_type": "error",
     "traceback": [
      "\u001b[1;31m---------------------------------------------------------------------------\u001b[0m",
      "\u001b[1;31mTypeError\u001b[0m                                 Traceback (most recent call last)",
      "Input \u001b[1;32mIn [3]\u001b[0m, in \u001b[0;36m<module>\u001b[1;34m\u001b[0m\n\u001b[0;32m      7\u001b[0m         \u001b[38;5;28mself\u001b[39m\u001b[38;5;241m.\u001b[39mnum \u001b[38;5;241m=\u001b[39m num\u001b[38;5;241m+\u001b[39m\u001b[38;5;241m10\u001b[39m\n\u001b[0;32m      9\u001b[0m         \u001b[38;5;28mprint\u001b[39m(num)\n\u001b[1;32m---> 11\u001b[0m n \u001b[38;5;241m=\u001b[39m \u001b[43mNumber\u001b[49m\u001b[43m(\u001b[49m\u001b[43m)\u001b[49m\n",
      "\u001b[1;31mTypeError\u001b[0m: Number.__init__() missing 1 required positional argument: 'num'"
     ]
    }
   ],
   "source": [
    "class Number:\n",
    "\n",
    "    num = 10\n",
    "\n",
    "    def __init__(self, num):\n",
    "\n",
    "        self.num = num+10\n",
    "\n",
    "        print(num)\n",
    "\n",
    "n = Number()"
   ]
  }
 ],
 "metadata": {
  "kernelspec": {
   "display_name": "Python 3 (ipykernel)",
   "language": "python",
   "name": "python3"
  },
  "language_info": {
   "codemirror_mode": {
    "name": "ipython",
    "version": 3
   },
   "file_extension": ".py",
   "mimetype": "text/x-python",
   "name": "python",
   "nbconvert_exporter": "python",
   "pygments_lexer": "ipython3",
   "version": "3.10.2"
  }
 },
 "nbformat": 4,
 "nbformat_minor": 5
}
