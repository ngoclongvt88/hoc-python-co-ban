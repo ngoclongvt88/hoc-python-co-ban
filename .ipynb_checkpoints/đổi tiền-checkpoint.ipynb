{
 "cells": [
  {
   "cell_type": "code",
   "execution_count": 1,
   "id": "53d0841d",
   "metadata": {},
   "outputs": [
    {
     "name": "stdout",
     "output_type": "stream",
     "text": [
      "nhập số tiền USD cần đổi: 20\n",
      "nhập tỉ giá USD/VND = 22863\n",
      "20 USD bằng 457260.0 VND\n"
     ]
    }
   ],
   "source": [
    "\"\"\"\n",
    "đổi tiền tệ\n",
    "\"\"\"\n",
    "n = int(input(\"nhập số tiền USD cần đổi: \"))\n",
    "m = float(input(\"nhập tỉ giá USD/VND = \")) \n",
    "money_VND = n*m\n",
    "print(f\"{n} USD bằng {money_VND} VND\")"
   ]
  }
 ],
 "metadata": {
  "kernelspec": {
   "display_name": "Python 3 (ipykernel)",
   "language": "python",
   "name": "python3"
  },
  "language_info": {
   "codemirror_mode": {
    "name": "ipython",
    "version": 3
   },
   "file_extension": ".py",
   "mimetype": "text/x-python",
   "name": "python",
   "nbconvert_exporter": "python",
   "pygments_lexer": "ipython3",
   "version": "3.10.2"
  }
 },
 "nbformat": 4,
 "nbformat_minor": 5
}
