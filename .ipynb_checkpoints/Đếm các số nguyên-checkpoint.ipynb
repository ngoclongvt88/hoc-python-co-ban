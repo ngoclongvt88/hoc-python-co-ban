{
 "cells": [
  {
   "cell_type": "code",
   "execution_count": 2,
   "id": "0931f836",
   "metadata": {},
   "outputs": [
    {
     "name": "stdout",
     "output_type": "stream",
     "text": [
      "Nhập số tự nhiên thứ nhất: 23\n",
      "Nhập số tự nhiên thứ hai: 12\n",
      "Nhập số tự nhiên thứ ba: 01\n",
      "Thứ tự tăng dần là: (1, 12, 23)\n"
     ]
    }
   ],
   "source": [
    "'''\n",
    "Viết chương trình cho người dùng nhập vào 3 số nguyên bất kỳ, \n",
    "sau đó sẽ in ra thứ tự tăng dần của 3 số nguyên được nhập vào.\n",
    "'''\n",
    "def arrange_int(int1, int2, int3):\n",
    "    if int1 > int2:\n",
    "        if int2 > int3:\n",
    "            print(f\"Thứ tự tăng dần là: {int3, int2, int1}\")\n",
    "        else:\n",
    "            print(f\"Thứ tự tăng dần là: {int2, int3, int1}\")\n",
    "    elif int2 > int1:\n",
    "        if int1 > int3:\n",
    "            print(f\"Thứ tự tăng dần là: {int3, int1, int2}\")\n",
    "        else:\n",
    "            print(f\"Thứ tự tăng dần là: {int1, int3, int2}\")\n",
    "    if int3 > int2:\n",
    "        if int2 > int1:\n",
    "            print(f\"Thứ tự tăng dần là: {int1, int2, int3}\")\n",
    "        else:\n",
    "            print(f\"Thứ tự tăng dần là: {int2, int1, int3}\")\n",
    "            \n",
    "int1 = int(input(\"Nhập số tự nhiên thứ nhất: \"))\n",
    "int2 = int(input(\"Nhập số tự nhiên thứ hai: \"))\n",
    "int3 = int(input(\"Nhập số tự nhiên thứ ba: \"))\n",
    "\n",
    "arrange_int(int1, int2, int3)\n"
   ]
  }
 ],
 "metadata": {
  "kernelspec": {
   "display_name": "Python 3 (ipykernel)",
   "language": "python",
   "name": "python3"
  },
  "language_info": {
   "codemirror_mode": {
    "name": "ipython",
    "version": 3
   },
   "file_extension": ".py",
   "mimetype": "text/x-python",
   "name": "python",
   "nbconvert_exporter": "python",
   "pygments_lexer": "ipython3",
   "version": "3.10.2"
  }
 },
 "nbformat": 4,
 "nbformat_minor": 5
}
