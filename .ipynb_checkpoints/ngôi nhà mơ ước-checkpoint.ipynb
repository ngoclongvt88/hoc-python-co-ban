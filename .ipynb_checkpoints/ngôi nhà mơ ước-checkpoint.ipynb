{
 "cells": [
  {
   "cell_type": "code",
   "execution_count": 11,
   "id": "a596649a",
   "metadata": {},
   "outputs": [],
   "source": [
    "#vẽ ngôi nhà mơ ước\n",
    "import turtle\n",
    "pen = turtle.Turtle()\n",
    "\n",
    "pen.pensize(5)\n",
    "pen.pencolor(\"#808080\")\n",
    "pen.fillcolor(\"red\")\n",
    "\n",
    "mai_1 = 100\n",
    "mai_2 = 200\n",
    "pen.penup()\n",
    "pen.goto(-200,100)\n",
    "pen.pendown()\n",
    "pen.begin_fill()\n",
    "pen.left(30)\n",
    "pen.forward(mai_1)\n",
    "pen.right(30)\n",
    "pen.forward(mai_2)\n",
    "pen.right(150)\n",
    "pen.forward(mai_1)\n",
    "pen.right(30)\n",
    "pen.forward(mai_2)\n",
    "pen.end_fill()\n",
    "\n",
    "hoi = 100*(3)**0.5\n",
    "pen.fillcolor(\"green\")\n",
    "pen.penup()\n",
    "pen.goto(0,100)\n",
    "pen.pendown()\n",
    "pen.begin_fill()\n",
    "pen.backward(hoi)\n",
    "pen.right(30)\n",
    "pen.forward(100)\n",
    "pen.end_fill()\n",
    "\n",
    "pen.fillcolor(\"#FF00FF\")\n",
    "pen.penup()\n",
    "pen.goto(10,100)\n",
    "pen.pendown\n",
    "pen.left(75)\n",
    "pen.begin_fill()\n",
    "pen.circle(2*hoi/3, steps=4)\n",
    "pen.end_fill()\n",
    "\n",
    "turtle.done()"
   ]
  },
  {
   "cell_type": "code",
   "execution_count": null,
   "id": "23158cf0",
   "metadata": {},
   "outputs": [],
   "source": []
  }
 ],
 "metadata": {
  "kernelspec": {
   "display_name": "Python 3 (ipykernel)",
   "language": "python",
   "name": "python3"
  },
  "language_info": {
   "codemirror_mode": {
    "name": "ipython",
    "version": 3
   },
   "file_extension": ".py",
   "mimetype": "text/x-python",
   "name": "python",
   "nbconvert_exporter": "python",
   "pygments_lexer": "ipython3",
   "version": "3.10.2"
  }
 },
 "nbformat": 4,
 "nbformat_minor": 5
}
