{
 "cells": [
  {
   "cell_type": "code",
   "execution_count": null,
   "id": "673fa4ad",
   "metadata": {},
   "outputs": [],
   "source": [
    "'''\n",
    "Fizz Buzz là một bài toán lập trình cổ điển. Đây là phiên bản sửa đổi nhẹ của nó.\n",
    "Viết chương trình lấy đầu vào là hai số nguyên: đầu và cuối khoảng (cả hai số đều thuộc khoảng).\n",
    "Chương trình sẽ in ra các số trong khoảng này. Nhưng nếu số đó chia hết cho 3, \n",
    "bạn sẽ in ra “Fizz” thay vì nó, nếu số đó chia hết cho 5, \n",
    "in ra “Buzz” và nếu số đó chia hết cho cả 3 và 5, hãy in ra “FizzBuzz”.\n",
    "'''\n",
    "number_star = int(input(\"nhập số thứ nhất: \"))\n",
    "number_end = int(input(\"nhập số thứ hai: \"))\n",
    "\n",
    "if number_star > number_end:\n",
    "    print(\"Bạn hãy nhập lại số ! chú ý number_end > number_star\")\n",
    "else:\n",
    "    for i in range(number_star, number_end + 1):\n",
    "        if i % 5 == 0 and i % 3 == 0:\n",
    "            print(\"FizzBuzz\")\n",
    "        elif i % 5 == 0:\n",
    "            print(\"Buzz\")\n",
    "        elif i % 3 == 0:\n",
    "            print(\"Fizz\")\n",
    "        else:\n",
    "            print(i)\n",
    "            "
   ]
  },
  {
   "cell_type": "code",
   "execution_count": null,
   "id": "a0df2bd8",
   "metadata": {},
   "outputs": [],
   "source": [
    "'''\n",
    "Trò chơi 21 là trò chơi số đếm được bắt đầu từ 0, hai người chơi lần lượt có thể thêm \n",
    "1, 2 hoặc 3, vào tổng số. Tổng số không được vượt quá 21 và người chơi đếm tới 21 sẽ thua. \n",
    "Ở bài tập này, chúng ta sẽ giả định cho máy làm người chơi thứ 2.\n",
    "'''\n",
    "import random\n",
    "    \n",
    "while True:\n",
    "    player = int(input(\"người chơi chọn: \"))\n",
    "    computer = random.randrange(1, 4)\n",
    "    print(\"máy tính chọn: \", computer)\n",
    "    \n",
    "    tong = 0 \n",
    "    while tong <= 21:\n",
    "        tong = tong + player\n",
    "        if tong > 21:\n",
    "            print(tong, \"Người chơi Thua!\") \n",
    "            break\n",
    "        else:\n",
    "            tong = tong + computer\n",
    "            if tong > 21:\n",
    "                print(tong, \"Người chơi Thắng!\")\n",
    "            else:\n",
    "                tong = tong + player\n",
    "        "
   ]
  },
  {
   "cell_type": "code",
   "execution_count": null,
   "id": "4c876f55",
   "metadata": {},
   "outputs": [],
   "source": [
    "'''\n",
    "Viết chương trình hiển thị tất cả các bảng cửu chương từ 1 đến 9.\n",
    "'''\n",
    "tich = 1\n",
    "\n",
    "for i in range(1, 10):\n",
    "    for j in range(1, 11):\n",
    "        tich = i*j\n",
    "        print(f\"{i} x {j} = {tich}\")\n",
    "    tich += 1\n",
    "    "
   ]
  }
 ],
 "metadata": {
  "kernelspec": {
   "display_name": "Python 3 (ipykernel)",
   "language": "python",
   "name": "python3"
  },
  "language_info": {
   "codemirror_mode": {
    "name": "ipython",
    "version": 3
   },
   "file_extension": ".py",
   "mimetype": "text/x-python",
   "name": "python",
   "nbconvert_exporter": "python",
   "pygments_lexer": "ipython3",
   "version": "3.10.2"
  }
 },
 "nbformat": 4,
 "nbformat_minor": 5
}
