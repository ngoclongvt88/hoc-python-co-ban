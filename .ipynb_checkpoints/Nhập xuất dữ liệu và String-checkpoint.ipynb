{
 "cells": [
  {
   "cell_type": "markdown",
   "id": "7ac14915",
   "metadata": {},
   "source": [
    "# Nhập xuất dữ liệu và String\n",
    "## Cách nhập xuất dữ liệu"
   ]
  },
  {
   "cell_type": "markdown",
   "id": "0f202ae8",
   "metadata": {},
   "source": [
    "### Xuất dữ liệu ra màn hình\n",
    "Để in các nội dung mà chúng ta mong muốn ra màn hình, ta sử dụng lệnh print()"
   ]
  },
  {
   "cell_type": "code",
   "execution_count": 1,
   "id": "a6d3f260",
   "metadata": {},
   "outputs": [
    {
     "name": "stdout",
     "output_type": "stream",
     "text": [
      "python is very easy\n"
     ]
    }
   ],
   "source": [
    "# Ví dụ: In ra nội dung \"python is very easy\"\n",
    "a = \"python is very easy\"\n",
    "print(a)"
   ]
  },
  {
   "cell_type": "markdown",
   "id": "7733925a",
   "metadata": {},
   "source": [
    "### Các cách custom với lệnh print"
   ]
  },
  {
   "cell_type": "markdown",
   "id": "292ab570",
   "metadata": {},
   "source": [
    "Để in một nội dung kèm theo giá trị của biến, ta có các cách sau:"
   ]
  },
  {
   "cell_type": "code",
   "execution_count": null,
   "id": "20ff912c",
   "metadata": {},
   "outputs": [],
   "source": [
    "food_1 = \"chocolate\"\n",
    "food_2 = \"sandwich\""
   ]
  },
  {
   "cell_type": "code",
   "execution_count": 2,
   "id": "6407a448",
   "metadata": {},
   "outputs": [
    {
     "name": "stdout",
     "output_type": "stream",
     "text": [
      "i love chocolate and i hate sandwich\n"
     ]
    }
   ],
   "source": [
    "# In trực tiếp\n",
    "print(\"i love chocolate and i hate sandwich\")"
   ]
  },
  {
   "cell_type": "code",
   "execution_count": 3,
   "id": "27d098b8",
   "metadata": {},
   "outputs": [
    {
     "name": "stdout",
     "output_type": "stream",
     "text": [
      "i love chocolate and i hate sandwich\n"
     ]
    }
   ],
   "source": [
    "# In bằng cách ghép các nội dung với nhau\n",
    "food_1 = \"chocolate\"\n",
    "food_2 = \"sandwich\"\n",
    "print(\"i love\", food_1, \"and i hate\", food_2)"
   ]
  },
  {
   "cell_type": "code",
   "execution_count": 6,
   "id": "717666f2",
   "metadata": {},
   "outputs": [
    {
     "name": "stdout",
     "output_type": "stream",
     "text": [
      "i love chocolate and i hate sandwich\n"
     ]
    }
   ],
   "source": [
    "# Sử dụng String Format\n",
    "print(f\"i love {food_1} and i hate {food_2}\")"
   ]
  },
  {
   "cell_type": "code",
   "execution_count": 4,
   "id": "c7276e05",
   "metadata": {},
   "outputs": [
    {
     "name": "stdout",
     "output_type": "stream",
     "text": [
      "i love chocolate and i hate sandwich\n"
     ]
    }
   ],
   "source": [
    "# Sử dụng nhiều lệnh print\n",
    "food_1 = \"chocolate\"\n",
    "food_2 = \"sandwich\"\n",
    "print(\"i love \", end=\"\")\n",
    "print(food_1, end=\"\")\n",
    "print(\" and i hate \", end=\"\")\n",
    "print(food_2)"
   ]
  },
  {
   "cell_type": "markdown",
   "id": "e10788fb",
   "metadata": {},
   "source": [
    "### Nhập dữ liệu\n",
    "Để nhập dữ liệu vào chương trình python, chúng ta sử dụng hàm input()"
   ]
  },
  {
   "cell_type": "code",
   "execution_count": 8,
   "id": "b8b8afd3",
   "metadata": {},
   "outputs": [
    {
     "name": "stdout",
     "output_type": "stream",
     "text": [
      "nhap cai gi day = 01\n",
      "1\n",
      "<class 'int'>\n"
     ]
    }
   ],
   "source": [
    "haha = int(input(\"nhap cai gi day = \"))\n",
    "print(haha)\n",
    "print(type(haha))"
   ]
  },
  {
   "cell_type": "code",
   "execution_count": 9,
   "id": "1db4c768",
   "metadata": {},
   "outputs": [
    {
     "name": "stdout",
     "output_type": "stream",
     "text": [
      "nhap cai gi day = 01\n",
      "01\n",
      "<class 'str'>\n"
     ]
    }
   ],
   "source": [
    "haha = input(\"nhap cai gi day = \")\n",
    "print(haha)\n",
    "print(type(haha))"
   ]
  },
  {
   "cell_type": "markdown",
   "id": "337f9c15",
   "metadata": {},
   "source": [
    "#### Thực hành: Viết chương trình nhập vào chiều dài và chiều rộng của hình chữ nhật, sau đó in ra chu vi và diện tích của hình chữ nhật đó"
   ]
  },
  {
   "cell_type": "code",
   "execution_count": 2,
   "id": "add68103",
   "metadata": {},
   "outputs": [
    {
     "name": "stdout",
     "output_type": "stream",
     "text": [
      "nhap chieu dai = 3\n",
      "nhap chieu rong = 4\n"
     ]
    }
   ],
   "source": [
    "# Nhập các kích thước của hình chữ nhật\n",
    "a = int(input(\"nhap chieu dai = \"))\n",
    "b = int(input(\"nhap chieu rong = \"))"
   ]
  },
  {
   "cell_type": "code",
   "execution_count": 7,
   "id": "7a1cd73e",
   "metadata": {},
   "outputs": [
    {
     "name": "stdout",
     "output_type": "stream",
     "text": [
      "nhap chieu dai = 3\n",
      "nhap chieu rong = 4\n"
     ]
    }
   ],
   "source": [
    "# Tính toán chu vi, diện tích\n",
    "a = int(input(\"nhap chieu dai = \"))\n",
    "b = int(input(\"nhap chieu rong = \"))\n",
    "c = (a + b)*2"
   ]
  },
  {
   "cell_type": "code",
   "execution_count": 17,
   "id": "d0adf735",
   "metadata": {},
   "outputs": [
    {
     "name": "stdout",
     "output_type": "stream",
     "text": [
      "nhap chieu dai = 3\n",
      "nhap chieu rong = 4\n",
      "chu vi hinh chu nhat la = 14 ; dien tich hinh chu nhat la = 12\n",
      "chu vi hinh chu nhat la = 14; dien tich hinh chu nhat la = 12\n",
      "chu vi hinh chu nhat la = 14; dien tich hinh chu nhat la = 12\n"
     ]
    }
   ],
   "source": [
    "# In kết quả ra màn hình bằng 3 cách\n",
    "a = int(input(\"nhap chieu dai = \"))\n",
    "b = int(input(\"nhap chieu rong = \"))\n",
    "c = (a + b)*2\n",
    "d = a*b\n",
    "print(\"chu vi hinh chu nhat la =\",c,\"; dien tich hinh chu nhat la =\",d)\n",
    "print(f\"chu vi hinh chu nhat la = {c}; dien tich hinh chu nhat la = {d}\")\n",
    "print(\"chu vi hinh chu nhat la = \", end=\"\")\n",
    "print(c , end=\"\")\n",
    "print(\"; dien tich hinh chu nhat la = \", end=\"\")\n",
    "print(d)"
   ]
  },
  {
   "cell_type": "markdown",
   "id": "fb54cb77",
   "metadata": {},
   "source": [
    "#### Thực hành: Viết chương trình nhập vào số đo cạnh và mã màu của tam giác đều, sau đó sử dụng turtle để vẽ ra hình tam giác có số đo và màu tương ứng"
   ]
  },
  {
   "cell_type": "code",
   "execution_count": 3,
   "id": "7583b308",
   "metadata": {
    "scrolled": true
   },
   "outputs": [
    {
     "name": "stdout",
     "output_type": "stream",
     "text": [
      "nhap chieu dai canh tam giac = 100\n",
      "nhau mau canh = #222222\n",
      "nhau mau nen = #880000\n"
     ]
    }
   ],
   "source": [
    "a = int(input(\"nhap chieu dai canh tam giac = \"))\n",
    "mau_canh = input(\"nhau mau canh = \")\n",
    "mau_nen = input(\"nhau mau nen = \")\n",
    "import turtle\n",
    "pen = turtle.Turtle()\n",
    "pen.pensize(10)\n",
    "pen.pencolor(mau_canh)\n",
    "pen.fillcolor(mau_nen)\n",
    "pen.begin_fill()\n",
    "pen.circle(a, steps=3)\n",
    "pen.end_fill()\n",
    "turtle.done()"
   ]
  },
  {
   "cell_type": "markdown",
   "id": "fa7cb208",
   "metadata": {},
   "source": [
    "## Cú pháp import"
   ]
  },
  {
   "cell_type": "markdown",
   "id": "ab2a2ea5",
   "metadata": {},
   "source": [
    "Để sử dụng một module từ bên ngoài, chúng ta sẽ sử dụng từ khóa import. Sau đây là ví dụ về một số cách import phổ biến."
   ]
  },
  {
   "cell_type": "markdown",
   "id": "bd6de377",
   "metadata": {},
   "source": [
    "### Random một giá trị ngẫu nhiên"
   ]
  },
  {
   "cell_type": "code",
   "execution_count": null,
   "id": "ce5547f5",
   "metadata": {},
   "outputs": [],
   "source": []
  },
  {
   "cell_type": "markdown",
   "id": "dfa93dc0",
   "metadata": {},
   "source": [
    "### Thực hiện các phép toán số học"
   ]
  },
  {
   "cell_type": "code",
   "execution_count": 8,
   "id": "4f06f722",
   "metadata": {},
   "outputs": [],
   "source": [
    "# import toàn bộ module"
   ]
  },
  {
   "cell_type": "code",
   "execution_count": null,
   "id": "6b9e471b",
   "metadata": {},
   "outputs": [],
   "source": [
    "# import một phần trong module"
   ]
  },
  {
   "cell_type": "markdown",
   "id": "391969e7",
   "metadata": {},
   "source": [
    "## Xử lý String trong python"
   ]
  },
  {
   "cell_type": "markdown",
   "id": "ab461669",
   "metadata": {},
   "source": [
    "### String là gì?\n",
    "String là một chuỗi gồm các ký tự Unicode"
   ]
  },
  {
   "cell_type": "markdown",
   "id": "94a27b90",
   "metadata": {},
   "source": [
    "### Khởi tạo một string"
   ]
  },
  {
   "cell_type": "code",
   "execution_count": null,
   "id": "b14f4fcc",
   "metadata": {},
   "outputs": [],
   "source": [
    "# one-line string\n",
    "b = \"bibibibashhhao\""
   ]
  },
  {
   "cell_type": "code",
   "execution_count": null,
   "id": "9cc506a7",
   "metadata": {},
   "outputs": [],
   "source": [
    "# multi-line string\n",
    "a = \"\"\"\n",
    "ahdjshldalsjdlkjaskdkask\n",
    "asdsadljasljdhljsadlasldd\n",
    "ajsdjsajdlsadlkalsdlkajdl\"\"\""
   ]
  },
  {
   "cell_type": "markdown",
   "id": "8f4270fd",
   "metadata": {},
   "source": [
    "### Các thao tác phổ biến với string"
   ]
  },
  {
   "cell_type": "code",
   "execution_count": 3,
   "id": "c825f890",
   "metadata": {},
   "outputs": [
    {
     "name": "stdout",
     "output_type": "stream",
     "text": [
      "14\n"
     ]
    }
   ],
   "source": [
    "# Kiểm tra độ dài string\n",
    "b = \"bibibibashhhao\"\n",
    "print(len(b))"
   ]
  },
  {
   "cell_type": "code",
   "execution_count": 5,
   "id": "6de96621",
   "metadata": {},
   "outputs": [
    {
     "name": "stdout",
     "output_type": "stream",
     "text": [
      "k\n"
     ]
    }
   ],
   "source": [
    "# Truy xuất ký tự bằng cơ chế indexing và reverse indexing\n",
    "b = \"trung doan khong quan 929\"\n",
    "print(b[11])#[11] co nghia la con tro index"
   ]
  },
  {
   "cell_type": "markdown",
   "id": "a4f949d9",
   "metadata": {},
   "source": [
    "#### Thực hành: Viết chương trình nhập vào một chuỗi bất kỳ, sau đó in ra ký tự đầu tiên và ký tự cuối cùng của chuỗi đó."
   ]
  },
  {
   "cell_type": "code",
   "execution_count": 14,
   "id": "14833f18",
   "metadata": {},
   "outputs": [
    {
     "name": "stdout",
     "output_type": "stream",
     "text": [
      "49\n",
      "t\n",
      "2\n"
     ]
    }
   ],
   "source": [
    "k = \"trung doan khong quan 929, su doan khong quan 372\"\n",
    "k = \n",
    "print(len(k))\n",
    "print(k[0])\n",
    "print(k[-1])"
   ]
  },
  {
   "cell_type": "code",
   "execution_count": 5,
   "id": "9aad2f16",
   "metadata": {},
   "outputs": [
    {
     "name": "stdout",
     "output_type": "stream",
     "text": [
      "hao\n",
      "3\n"
     ]
    }
   ],
   "source": [
    "# Cắt string theo index\n",
    "a = \"xin chao moi nguoi\"\n",
    "b = a[4:8]# co the thay 0 bang khong ghi gi ca [:8], [9:]\n",
    "c = a[::-1]# lay chuoi nguoc\n",
    "c = len(b)\n",
    "print(b)\n",
    "print(c)"
   ]
  },
  {
   "cell_type": "code",
   "execution_count": 8,
   "id": "6ec63f90",
   "metadata": {},
   "outputs": [
    {
     "name": "stdout",
     "output_type": "stream",
     "text": [
      "xin chao\n"
     ]
    }
   ],
   "source": [
    "# Ghép chuỗi và lặp chuỗi\n",
    "a = \"xin\"\n",
    "b = \" chao\"\n",
    "c = a + b\n",
    "print( c)"
   ]
  },
  {
   "cell_type": "code",
   "execution_count": 10,
   "id": "dc3f5fda",
   "metadata": {},
   "outputs": [
    {
     "name": "stdout",
     "output_type": "stream",
     "text": [
      "1 chao\n"
     ]
    }
   ],
   "source": [
    "a = str(1)\n",
    "b = \" chao\"\n",
    "c = a + b\n",
    "print(c)"
   ]
  },
  {
   "cell_type": "code",
   "execution_count": 11,
   "id": "f8c67bfd",
   "metadata": {},
   "outputs": [
    {
     "name": "stdout",
     "output_type": "stream",
     "text": [
      "nhap ten: LONG\n",
      "xin chao....LONG\n"
     ]
    }
   ],
   "source": [
    "#nhap ho va ten sau do in ra \"xin chao....\"ten\n",
    "a = input(\"nhap ten: \")\n",
    "b = \"xin chao....\"\n",
    "c = b + a\n",
    "print(c)"
   ]
  },
  {
   "cell_type": "markdown",
   "id": "84c2dcb9",
   "metadata": {},
   "source": [
    "#### Thực hành: Xử lý và in ra các thông tin tương ứng trong chuỗi"
   ]
  },
  {
   "cell_type": "code",
   "execution_count": null,
   "id": "cd71f135",
   "metadata": {},
   "outputs": [],
   "source": []
  },
  {
   "cell_type": "markdown",
   "id": "7cbd965f",
   "metadata": {},
   "source": [
    "### Các hàm thông dụng khi xử lý string"
   ]
  },
  {
   "cell_type": "code",
   "execution_count": 12,
   "id": "eb5932a1",
   "metadata": {},
   "outputs": [
    {
     "name": "stdout",
     "output_type": "stream",
     "text": [
      "8\n"
     ]
    }
   ],
   "source": [
    "# len\n",
    "a = \"xin chao\"\n",
    "b = len(a)\n",
    "print(b)"
   ]
  },
  {
   "cell_type": "code",
   "execution_count": 16,
   "id": "6bef6d33",
   "metadata": {},
   "outputs": [
    {
     "name": "stdout",
     "output_type": "stream",
     "text": [
      "3\n"
     ]
    }
   ],
   "source": [
    "# count\n",
    "a = \"xin chao moi nguoi, xin chao cac ban, xin chao hehehe\"\n",
    "b = \"xin chao\"\n",
    "c = a.count(b)#dem xem chuoi a co bao nhieu chu b, tra ve kieu giu lieu gi\n",
    "print(c) #tra ve kieu giu lieu so nguyen"
   ]
  },
  {
   "cell_type": "code",
   "execution_count": 19,
   "id": "1582bbd8",
   "metadata": {},
   "outputs": [
    {
     "name": "stdout",
     "output_type": "stream",
     "text": [
      "XIN CHAO\n",
      "xin chao moi nguoi\n"
     ]
    }
   ],
   "source": [
    "# upper, lower\n",
    "a = \"xin chao\"\n",
    "b = a.upper()#tra ve viet hoa toan bo chuoi a va luu vao b\n",
    "print(b)\n",
    "c = \"XIN CHAO MOI nguoi\"\n",
    "d = c.lower()#tra ve viet thuong toan bo chuoi c va luu vao d\n",
    "print(d)"
   ]
  },
  {
   "cell_type": "code",
   "execution_count": 20,
   "id": "fc086ce5",
   "metadata": {},
   "outputs": [
    {
     "name": "stdout",
     "output_type": "stream",
     "text": [
      "0\n"
     ]
    }
   ],
   "source": [
    "#find #khi nao ra chu -1 la looix\n",
    "a = \"xin chao moi nguoi, xin chao cac ban\"\n",
    "b = \"xin chao\"\n",
    "c = a.find(b)#tim vi tri b trong a\n",
    "print(c)"
   ]
  },
  {
   "cell_type": "code",
   "execution_count": null,
   "id": "0d08f708",
   "metadata": {},
   "outputs": [],
   "source": [
    "# lstrip, rstrip, strip"
   ]
  },
  {
   "cell_type": "code",
   "execution_count": null,
   "id": "62180d52",
   "metadata": {},
   "outputs": [],
   "source": [
    "# split"
   ]
  },
  {
   "cell_type": "markdown",
   "id": "032ba1fc",
   "metadata": {},
   "source": []
  }
 ],
 "metadata": {
  "kernelspec": {
   "display_name": "Python 3 (ipykernel)",
   "language": "python",
   "name": "python3"
  },
  "language_info": {
   "codemirror_mode": {
    "name": "ipython",
    "version": 3
   },
   "file_extension": ".py",
   "mimetype": "text/x-python",
   "name": "python",
   "nbconvert_exporter": "python",
   "pygments_lexer": "ipython3",
   "version": "3.10.2"
  }
 },
 "nbformat": 4,
 "nbformat_minor": 5
}
