{
 "cells": [
  {
   "cell_type": "code",
   "execution_count": 5,
   "id": "e2fa2539",
   "metadata": {},
   "outputs": [],
   "source": [
    "# vẽ mặt cười bằng Turtle\n",
    "import turtle\n",
    "pen = turtle.Turtle()\n",
    "\n",
    "#1 vẽ hình tròn\n",
    "pen.pensize(5)\n",
    "face_size = 200\n",
    "pen.fillcolor(\"red\")\n",
    "pen.pencolor(\"green\")\n",
    "pen.penup()\n",
    "pen.goto(0,-200)\n",
    "pen.pendown()\n",
    "pen.begin_fill()\n",
    "pen.circle(face_size)\n",
    "pen.end_fill()\n",
    "\n",
    "#2 vẽ 2 mắt\n",
    "eye_size = 17.5\n",
    "pen.pencolor(\"black\")\n",
    "pen.fillcolor(\"green\")\n",
    "\n",
    "pen.penup()\n",
    "pen.goto(100,50)\n",
    "pen.pendown()\n",
    "pen.begin_fill()\n",
    "pen.circle(eye_size)\n",
    "pen.end_fill()\n",
    "\n",
    "pen.penup()\n",
    "pen.goto(-100,50)\n",
    "pen.pendown()\n",
    "pen.begin_fill()\n",
    "pen.circle(eye_size)\n",
    "pen.end_fill()\n",
    "\n",
    "#3 vẽ mũi hình tam giác\n",
    "tam_giac = 3\n",
    "pen.penup()\n",
    "pen.goto(0,50)\n",
    "pen.pendown()\n",
    "pen.begin_fill()\n",
    "pen.circle(-70, steps=(tam_giac))\n",
    "pen.end_fill()\n",
    "\n",
    "#4 vẽ miệng\n",
    "nose = 100\n",
    "pen.penup()\n",
    "pen.goto(-100,-70)\n",
    "pen.pendown()\n",
    "pen.right(90)\n",
    "pen.circle(nose, 180)\n",
    "\n",
    "turtle.done()"
   ]
  },
  {
   "cell_type": "code",
   "execution_count": null,
   "id": "7b9a324c",
   "metadata": {},
   "outputs": [],
   "source": []
  }
 ],
 "metadata": {
  "kernelspec": {
   "display_name": "Python 3 (ipykernel)",
   "language": "python",
   "name": "python3"
  },
  "language_info": {
   "codemirror_mode": {
    "name": "ipython",
    "version": 3
   },
   "file_extension": ".py",
   "mimetype": "text/x-python",
   "name": "python",
   "nbconvert_exporter": "python",
   "pygments_lexer": "ipython3",
   "version": "3.10.2"
  }
 },
 "nbformat": 4,
 "nbformat_minor": 5
}
