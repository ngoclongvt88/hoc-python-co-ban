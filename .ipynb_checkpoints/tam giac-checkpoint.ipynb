{
 "cells": [
  {
   "cell_type": "code",
   "execution_count": 3,
   "id": "0dfe46a9",
   "metadata": {},
   "outputs": [
    {
     "name": "stdout",
     "output_type": "stream",
     "text": [
      "nhập cạnh a = 3\n",
      "nhập cạnh b = 4\n",
      "nhập cạnh c = 5\n",
      "diện tích s = 6.0\n"
     ]
    }
   ],
   "source": [
    "# tính diện tích hình tam giác biết kích thước 3 cạnh\n",
    "a = float(input(\"nhập cạnh a = \"))\n",
    "b = float(input(\"nhập cạnh b = \"))\n",
    "c = float(input(\"nhập cạnh c = \"))\n",
    "# tính nửa chu vi P\n",
    "p = (a + b + c)/2\n",
    "s = (p*(p-a)*(p-b)*(p-c))**0.5\n",
    "print(\"diện tích s =\", s)"
   ]
  }
 ],
 "metadata": {
  "kernelspec": {
   "display_name": "Python 3 (ipykernel)",
   "language": "python",
   "name": "python3"
  },
  "language_info": {
   "codemirror_mode": {
    "name": "ipython",
    "version": 3
   },
   "file_extension": ".py",
   "mimetype": "text/x-python",
   "name": "python",
   "nbconvert_exporter": "python",
   "pygments_lexer": "ipython3",
   "version": "3.10.2"
  }
 },
 "nbformat": 4,
 "nbformat_minor": 5
}
