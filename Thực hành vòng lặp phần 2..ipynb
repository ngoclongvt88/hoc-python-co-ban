{
 "cells": [
  {
   "cell_type": "code",
   "execution_count": 3,
   "id": "7c279d99",
   "metadata": {},
   "outputs": [
    {
     "name": "stdout",
     "output_type": "stream",
     "text": [
      "1,2,3,4,5,6,7,8,9,10,"
     ]
    }
   ],
   "source": [
    "'''\n",
    "Warm-up: In ra 10 số tự nhiên đầu tiên từ 1 đến 10\n",
    "'''\n",
    "for i in range(1,11):\n",
    "    print(i, end=\",\")"
   ]
  },
  {
   "cell_type": "code",
   "execution_count": 14,
   "id": "66918d7e",
   "metadata": {},
   "outputs": [
    {
     "name": "stdout",
     "output_type": "stream",
     "text": [
      "nhập số n = 10\n",
      "tổng các số tự nhiên từ 1 đến n =  55.0\n"
     ]
    }
   ],
   "source": [
    "'''\n",
    "Bài 1: Nhập vào số nguyên dương n. Tính tổng các số tự nhiên từ 1 đến n.\n",
    "'''\n",
    "n = int(input(\"nhập số n = \"))\n",
    "for i in range(n):\n",
    "    sum_n = n*(n+1)/2\n",
    "print(\"tổng các số tự nhiên từ 1 đến n = \",sum_n)"
   ]
  },
  {
   "cell_type": "code",
   "execution_count": 21,
   "id": "2bc153f7",
   "metadata": {},
   "outputs": [
    {
     "name": "stdout",
     "output_type": "stream",
     "text": [
      "nhập vào số n: 10\n",
      "tổng bằng 55\n"
     ]
    }
   ],
   "source": [
    "n = int(input(\"nhập vào số n: \"))\n",
    "tong = 0\n",
    "for i in range(1,n+1, ):\n",
    "    tong += i\n",
    "print(f\"tổng bằng {tong}\")"
   ]
  },
  {
   "cell_type": "code",
   "execution_count": 23,
   "id": "be255bdc",
   "metadata": {},
   "outputs": [
    {
     "name": "stdout",
     "output_type": "stream",
     "text": [
      "nhập số n = 5\n",
      "1 x 5 = 0\n",
      "2 x 5 = 5\n",
      "3 x 5 = 10\n",
      "4 x 5 = 15\n",
      "5 x 5 = 20\n",
      "6 x 5 = 25\n",
      "7 x 5 = 30\n",
      "8 x 5 = 35\n",
      "9 x 5 = 40\n",
      "10 x 5 = 45\n"
     ]
    }
   ],
   "source": [
    "'''\n",
    "Bài 2: Nhập vào số nguyên dương n. In ra bảng cửu chương từ 1 đến 10 của n.\n",
    "'''\n",
    "n = int(input(\"nhập số n = \"))\n",
    "for i in range(10):\n",
    "    c = i*n\n",
    "    print(f\"{i+1} x {n} = {c}\")"
   ]
  },
  {
   "cell_type": "code",
   "execution_count": 13,
   "id": "681c029c",
   "metadata": {},
   "outputs": [
    {
     "name": "stdout",
     "output_type": "stream",
     "text": [
      "nhập số n = 10\n",
      " n có 11 chữ số\n"
     ]
    }
   ],
   "source": [
    "'''\n",
    "Bài 3: Nhập vào số nguyên dương n. Đếm xem n có bao nhiêu chữ số. vd 12345\n",
    "'''\n",
    "n = int(input(\"nhập số n = \"))\n",
    "for i in range(n):\n",
    "    m = n + 1\n",
    "print(f'n có {m} chữ số')"
   ]
  },
  {
   "cell_type": "code",
   "execution_count": 25,
   "id": "711719e1",
   "metadata": {},
   "outputs": [
    {
     "name": "stdout",
     "output_type": "stream",
     "text": [
      "Nhập n: 1231244\n",
      "123124\n",
      "12312\n",
      "1231\n",
      "123\n",
      "12\n",
      "1\n",
      "0\n",
      "7\n"
     ]
    }
   ],
   "source": [
    "n = int(input(\"Nhập n: \"))\n",
    "total_number = 0\n",
    "while n > 0:\n",
    "    total_number += 1\n",
    "    n //= 10\n",
    "    print(n)\n",
    "print(total_number)"
   ]
  },
  {
   "cell_type": "code",
   "execution_count": 28,
   "id": "7eb58122",
   "metadata": {},
   "outputs": [
    {
     "name": "stdout",
     "output_type": "stream",
     "text": [
      "nhập số n = 12345\n",
      "15\n"
     ]
    }
   ],
   "source": [
    "'''\n",
    "Bài 4: Nhập vào số nguyên dương n. Tính tổng các chữ số của n. vd 12345\n",
    "'''\n",
    "n = int(input(\"nhập số n = \"))\n",
    "tong = 0\n",
    "\n",
    "while n>0:\n",
    "    tong += n%10\n",
    "    n //= 10\n",
    "print(tong)"
   ]
  },
  {
   "cell_type": "code",
   "execution_count": 33,
   "id": "cf0da697",
   "metadata": {},
   "outputs": [
    {
     "name": "stdout",
     "output_type": "stream",
     "text": [
      "nhập số n = 5\n",
      "1\n",
      "12\n",
      "123\n",
      "1234\n",
      "12345\n"
     ]
    }
   ],
   "source": [
    "'''\n",
    "Bài 5: Nhập vào số nguyên dương n. Sử dụng cấu trúc vòng lặp lồng nhau(nested for loop) để in ra tam giác có dạng như sau:\n",
    "1\n",
    "1 2\n",
    "1 2 3\n",
    "1 2 3 4\n",
    "1 2 3 4 5\n",
    "'''\n",
    "n = int(input(\"nhập số n = \"))\n",
    "\n",
    "for i in range(1,n+1):\n",
    "    for j in range(1,i+1):\n",
    "        print(j, end=\" \")\n",
    "    print() #in để xuống dòng"
   ]
  },
  {
   "cell_type": "code",
   "execution_count": null,
   "id": "1ac5d880",
   "metadata": {},
   "outputs": [],
   "source": [
    "'''\n",
    "Bài 6: Nhập vào số nguyên dương n. Sử dụng cấu trúc vòng lặp lồng nhau(nested for loop) để in ra tam giác có dạng như sau:\n",
    "5 4 3 2 1\n",
    "4 3 2 1\n",
    "3 2 1\n",
    "2 1\n",
    "1\n",
    "'''\n",
    "n = int(input(\"nhập số n = \"))\n",
    "\n",
    "for i in range(1,n+1):\n",
    "    for j in range(1,i+1):\n",
    "        print(j, end=\" \")\n",
    "    print() #in để xuống dòng"
   ]
  },
  {
   "cell_type": "code",
   "execution_count": null,
   "id": "5a16aa66",
   "metadata": {},
   "outputs": [],
   "source": [
    "'''\n",
    "Bài 7: Nhập vào một số nguyên dương n. Tính giai thừa của n.\n",
    "Note: Giai thừa của n được tính bằng công thức: n! = n*(n - 1)*(n - 2)*...*1\n",
    "Ví dụ: 5! = 5 × 4 × 3 × 2 × 1 = 120\n",
    "'''"
   ]
  },
  {
   "cell_type": "code",
   "execution_count": null,
   "id": "8dfa4890",
   "metadata": {},
   "outputs": [],
   "source": [
    "'''\n",
    "Bài 8: Viết chương trình nhập vào một số nguyên dương n và in ra số đảo ngược của n.\n",
    "Ví dụ:\n",
    "Input: 76542\n",
    "Output: 24567\n",
    "'''"
   ]
  },
  {
   "cell_type": "code",
   "execution_count": null,
   "id": "326700db",
   "metadata": {},
   "outputs": [],
   "source": [
    "'''\n",
    "Bài 9: Viết phần mềm nhập vào số n (từ 1 đến 9) và in ra tam giác có dạng như sau:\n",
    "1\n",
    "22\n",
    "333\n",
    "4444\n",
    "55555\n",
    "666666\n",
    "7777777\n",
    "88888888\n",
    "999999999\n",
    "'''"
   ]
  },
  {
   "cell_type": "code",
   "execution_count": 14,
   "id": "bfe2e17f",
   "metadata": {},
   "outputs": [
    {
     "name": "stdout",
     "output_type": "stream",
     "text": [
      " _______________________>__"
     ]
    }
   ],
   "source": [
    "'''\n",
    "Bonus: Vẽ xe lửa\n",
    "What is the size of your train? 1\n",
    " ______________________>__\n",
    "|]||[]_[]_[]|||[]_[]_[]||[|\n",
    "\\==o-o======o-o======o-o==/\n",
    "\n",
    "What is the size of your train? 2\n",
    " _________________________   ______________________>__\n",
    "|]||[]_[]_[]|||[]_[]_[]||[| |]||[]_[]_[]|||[]_[]_[]||[|\n",
    "\\==o-o======o-o======o-o==/_\\==o-o======o-o======o-o==/\n",
    "'''\n",
    "for i in range(0, 27):\n",
    "    if i == 0:\n",
    "        print(\" \", end=\"\")\n",
    "    elif i == 24:\n",
    "        print(\">\", end=\"\")\n",
    "    else:\n",
    "         print(\"_\", end=\"\")\n"
   ]
  }
 ],
 "metadata": {
  "kernelspec": {
   "display_name": "Python 3 (ipykernel)",
   "language": "python",
   "name": "python3"
  },
  "language_info": {
   "codemirror_mode": {
    "name": "ipython",
    "version": 3
   },
   "file_extension": ".py",
   "mimetype": "text/x-python",
   "name": "python",
   "nbconvert_exporter": "python",
   "pygments_lexer": "ipython3",
   "version": "3.10.2"
  }
 },
 "nbformat": 4,
 "nbformat_minor": 5
}
