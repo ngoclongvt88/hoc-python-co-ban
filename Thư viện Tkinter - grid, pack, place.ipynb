{
 "cells": [
  {
   "cell_type": "code",
   "execution_count": null,
   "id": "334dfc6d",
   "metadata": {},
   "outputs": [],
   "source": []
  },
  {
   "cell_type": "markdown",
   "id": "4c559a90",
   "metadata": {},
   "source": [
    "## pack\n",
    "\n",
    "Lệnh `pack()` sẽ giúp sắp xếp các đối tượng theo thứ tự nhất định"
   ]
  },
  {
   "cell_type": "code",
   "execution_count": null,
   "id": "d6af98e3",
   "metadata": {},
   "outputs": [],
   "source": [
    "from tkinter import *\n",
    "\n",
    "windows = Tk()\n",
    "windows.title(\"Rigistration\")\n",
    "\n",
    "registration = Label(windows, text = \"Rigistration\")\n",
    "fullname = Label(windows, text = \"Full name\")\n",
    "address = Label(windows, text = \"Address\")\n",
    "email = Label(windows, text = \"Email\")\n",
    "\n",
    "fullname_in = Entry(windows)\n",
    "address_in = Entry(windows)\n",
    "email_in = Entry(windows)\n",
    "\n",
    "register = Button(windows, text = \"Register\")\n",
    "\n",
    "registration.pack()\n",
    "fullname.pack()\n",
    "fullname_in.pack()\n",
    "address.pack()\n",
    "address_in.pack()\n",
    "email.pack()\n",
    "email_in.pack()\n",
    "register.pack()\n",
    "\n",
    "windows.mainloop()"
   ]
  },
  {
   "cell_type": "markdown",
   "id": "0093b00d",
   "metadata": {},
   "source": [
    "## grid"
   ]
  },
  {
   "cell_type": "code",
   "execution_count": 15,
   "id": "d89cd306",
   "metadata": {},
   "outputs": [],
   "source": [
    "from tkinter import *\n",
    "\n",
    "windows = Tk()\n",
    "windows.title(\"Rigistration\")\n",
    "\n",
    "registration = Label(windows, text = \"Rigistration\")\n",
    "registration.grid(column=0, row=0, columnspan = 2)\n",
    "fullname = Label(windows, text = \"Full name\")\n",
    "fullname.grid(column=0, row=1)\n",
    "address = Label(windows, text = \"Address\")\n",
    "address.grid(column=0, row=2)\n",
    "email = Label(windows, text = \"Email\")\n",
    "email.grid(column=0, row=3)\n",
    "\n",
    "fullname_in = Entry(windows)\n",
    "fullname_in.grid(column=1, row=1)\n",
    "address_in = Entry(windows)\n",
    "address_in.grid(column=1, row=2)\n",
    "email_in = Entry(windows)\n",
    "email_in.grid(column=1, row=3)\n",
    "\n",
    "register = Button(windows, text = \"Register\")\n",
    "register.grid(column=3, row=4)\n",
    "login = Button(windows, text = \"Login\")\n",
    "login.grid(column=2, row=4)\n",
    "\n",
    "\n",
    "windows.mainloop()"
   ]
  },
  {
   "cell_type": "markdown",
   "id": "f0a05577",
   "metadata": {},
   "source": [
    "## place"
   ]
  },
  {
   "cell_type": "code",
   "execution_count": 18,
   "id": "070e6374",
   "metadata": {},
   "outputs": [],
   "source": [
    "from tkinter import *\n",
    "\n",
    "windows = Tk()\n",
    "windows.title(\"Rigistration\")\n",
    "\n",
    "registration = Label(windows, text = \"Rigistration\")\n",
    "fullname = Label(windows, text = \"Full name\")\n",
    "address = Label(windows, text = \"Address\")\n",
    "email = Label(windows, text = \"Email\")\n",
    "\n",
    "fullname_in = Entry(windows)\n",
    "address_in = Entry(windows)\n",
    "email_in = Entry(windows)\n",
    "\n",
    "register = Button(windows, text = \"Register\")\n",
    "login = Button(windows, text = \"Login\")\n",
    "\n",
    "registration.place(x=50, y=50)\n",
    "fullname.place(x=10, y=100)\n",
    "address.place(x=20, y=150)\n",
    "email.place(x=30, y=200)\n",
    "\n",
    "windows.mainloop()"
   ]
  }
 ],
 "metadata": {
  "kernelspec": {
   "display_name": "Python 3 (ipykernel)",
   "language": "python",
   "name": "python3"
  },
  "language_info": {
   "codemirror_mode": {
    "name": "ipython",
    "version": 3
   },
   "file_extension": ".py",
   "mimetype": "text/x-python",
   "name": "python",
   "nbconvert_exporter": "python",
   "pygments_lexer": "ipython3",
   "version": "3.10.2"
  }
 },
 "nbformat": 4,
 "nbformat_minor": 5
}
