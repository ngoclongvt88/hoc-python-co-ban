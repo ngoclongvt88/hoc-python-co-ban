{
 "cells": [
  {
   "cell_type": "markdown",
   "id": "0552611a",
   "metadata": {},
   "source": [
    "tính chu vi và diện tích hình tròn sau đó tô màu"
   ]
  },
  {
   "cell_type": "code",
   "execution_count": 1,
   "id": "067066b7",
   "metadata": {},
   "outputs": [
    {
     "name": "stdout",
     "output_type": "stream",
     "text": [
      "nhap ban kinh hinh tron = 100\n",
      "chu vi hinh tron la: 628.0\n",
      "dien tich hinh tron la: 31400.0\n"
     ]
    }
   ],
   "source": [
    "#ve hinh tron tren turtle\n",
    "import turtle\n",
    "ban_kinh = int(input(\"nhap ban kinh hinh tron = \"))\n",
    "pen = turtle.Turtle()\n",
    "pen.pensize(5)\n",
    "pen.pencolor(\"red\")\n",
    "pen.fillcolor(\"yellow\")\n",
    "pen.begin_fill()\n",
    "pen.circle(ban_kinh)\n",
    "pen.end_fill()\n",
    "turtle.done()\n",
    "# tinh chu vi va dien tich\n",
    "pi = 3.14\n",
    "c = 2*pi*ban_kinh\n",
    "s = pi*(ban_kinh)*(ban_kinh)\n",
    "print(\"chu vi hinh tron la:\", c)\n",
    "print(\"dien tich hinh tron la:\", s)"
   ]
  },
  {
   "cell_type": "code",
   "execution_count": null,
   "id": "241c1dcb",
   "metadata": {},
   "outputs": [],
   "source": []
  }
 ],
 "metadata": {
  "kernelspec": {
   "display_name": "Python 3 (ipykernel)",
   "language": "python",
   "name": "python3"
  },
  "language_info": {
   "codemirror_mode": {
    "name": "ipython",
    "version": 3
   },
   "file_extension": ".py",
   "mimetype": "text/x-python",
   "name": "python",
   "nbconvert_exporter": "python",
   "pygments_lexer": "ipython3",
   "version": "3.10.2"
  }
 },
 "nbformat": 4,
 "nbformat_minor": 5
}
