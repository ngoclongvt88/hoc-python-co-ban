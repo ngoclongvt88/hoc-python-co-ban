{
 "cells": [
  {
   "cell_type": "code",
   "execution_count": 22,
   "id": "98d007b3",
   "metadata": {
    "scrolled": true
   },
   "outputs": [
    {
     "name": "stdout",
     "output_type": "stream",
     "text": [
      "2.1781255811977243\n"
     ]
    }
   ],
   "source": [
    "'''\n",
    "bài 1: Lấy một số ngẫu nhiên kiểu float từ 0 đến 3, sau đó chuyển về kiểu int. \n",
    "Dựa vào số vừa chuyển, in ra hình tròn với màu sắc tương ứng như sau:\n",
    "\n",
    "Bé hơn 1 ⇒ màu xanh\n",
    "Bé hơn 2 ⇒  màu vàng\n",
    "Bé hơn 3 ⇒  màu đỏ\n",
    "'''\n",
    "import turtle\n",
    "import random\n",
    "\n",
    "n = random.uniform(0, 3)\n",
    "print(n)\n",
    "m = int(n)\n",
    "\n",
    "#setup màn hình turtle\n",
    "wn = turtle.Screen()\n",
    "wn.bgcolor(\"black\")\n",
    "wn.title(\"circle\")\n",
    "\n",
    "ball = turtle.Turtle()\n",
    "ball.shape('circle')\n",
    "\n",
    "if m < 1:\n",
    "    ball.color('green')\n",
    "elif m < 2:\n",
    "    ball.color('yellow')\n",
    "elif m < 3:\n",
    "    ball.color('red')\n",
    "\n",
    "turtle.done()\n"
   ]
  },
  {
   "cell_type": "code",
   "execution_count": null,
   "id": "182486f5",
   "metadata": {},
   "outputs": [],
   "source": [
    "import turtle\n",
    "\n",
    "ball = turtle.Turtle()\n",
    "ball.shape('circle')\n",
    "ball.color(\"blue\")\n",
    "\n",
    "turtle.done()"
   ]
  },
  {
   "cell_type": "code",
   "execution_count": 15,
   "id": "770f45ee",
   "metadata": {},
   "outputs": [
    {
     "name": "stdout",
     "output_type": "stream",
     "text": [
      "nhập số cần kiểm tra n: 7\n",
      "số cần kiểm tra là số lẻ\n"
     ]
    }
   ],
   "source": [
    "'''\n",
    "Nhập vào 1 số nguyên bất kì. Kiểm tra số nguyên nhập vào có chia hết cho 2 hay không?\n",
    "\n",
    "Nếu chia hết cho 2: số chẵn\n",
    "Nếu không chia hết cho 2 có dư : số lẻ\n",
    "'''\n",
    "n = int(input(\"nhập số cần kiểm tra n: \"))\n",
    "\n",
    "print(\"số kiểm tra là số chẵn\") if n % 2 == 0 else print(\"số cần kiểm tra là số lẻ\")"
   ]
  },
  {
   "cell_type": "code",
   "execution_count": 20,
   "id": "06223b75",
   "metadata": {},
   "outputs": [
    {
     "name": "stdout",
     "output_type": "stream",
     "text": [
      "nhập số cần kiểm tra n: 3.4\n",
      "số kiểm tra không phải là số tự nhiên\n"
     ]
    }
   ],
   "source": [
    "'''\n",
    "Sử dụng function: input() để nhập một số bất kì sau đó chuyển kiểu về float. \n",
    "Kiểm tra số nhập vào có chia hết cho 2 hay không?\n",
    "\n",
    "Nếu chia hết cho 2: số chẵn\n",
    "Nếu không chia hết cho 2 dư 1: số lẽ\n",
    "Ngoài ra: không phải số tự nhiên.\n",
    "'''\n",
    "n = float(input(\"nhập số cần kiểm tra n: \"))\n",
    "\n",
    "if n % 2 == 0:\n",
    "        print(\"số kiểm tra là số chẵn\")\n",
    "elif n % 2 == 1:\n",
    "        print(\"số kiểm tra là số lẻ\")\n",
    "else:\n",
    "    print(\"số kiểm tra không phải là số tự nhiên\")"
   ]
  },
  {
   "cell_type": "code",
   "execution_count": 26,
   "id": "5834231e",
   "metadata": {},
   "outputs": [
    {
     "name": "stdout",
     "output_type": "stream",
     "text": [
      "nhập số tự nhiên n (1=<n<=7): 8\n",
      "error, out of range\n"
     ]
    }
   ],
   "source": [
    "'''\n",
    "Viết chương trình yêu cầu người dùng nhập một số trong phạm vi từ 1 đến 7. \n",
    "Sau đó hãy in ra ngày tương ứng: \n",
    "\n",
    "1: Monday\n",
    "\n",
    "2: Tuesday\n",
    "\n",
    "3: Wednesday\n",
    "\n",
    "4: Thursday\n",
    "\n",
    "5: Friday\n",
    "\n",
    "6: Saturday\n",
    "\n",
    "7: Sunday\n",
    "\n",
    "Nếu người dùng nhập số ngoài phạm vi từ 1 đến 7 thì hãy in ra “error, out of range”.\n",
    "'''\n",
    "n = int(input(\"nhập số tự nhiên n (1=<n<=7): \"))\n",
    "\n",
    "if n == 1:\n",
    "    print(f\"{n}: Monday\")\n",
    "elif n == 2:\n",
    "    print(f\"{n}: Tuesday\")\n",
    "elif n == 3:\n",
    "    print(f\"{n}: Wednesday\")\n",
    "elif n == 4:\n",
    "    print(f\"{n}: Thursday\")\n",
    "elif n == 5:\n",
    "    print(f\"{n}: Friday\")\n",
    "elif n == 6:\n",
    "    print(f\"{n}: Saturday\") \n",
    "elif n == 7:\n",
    "    print(f\"{n}: Sunday\")\n",
    "else:\n",
    "    print(\"error, out of range\")"
   ]
  },
  {
   "cell_type": "code",
   "execution_count": 1,
   "id": "9e4c447a",
   "metadata": {},
   "outputs": [
    {
     "name": "stdout",
     "output_type": "stream",
     "text": [
      "30\n",
      "17\n",
      "27\n",
      "18\n",
      "17\n",
      "13\n",
      "13\n",
      "8\n",
      "27\n",
      "13\n",
      "30\n",
      "12\n",
      "19\n",
      "16\n",
      "21\n",
      "9\n",
      "15\n",
      "20\n",
      "20\n",
      "6\n",
      "21\n",
      "6\n",
      "15\n",
      "6\n",
      "17\n",
      "11\n",
      "29\n",
      "17\n",
      "21\n",
      "12\n",
      "17\n",
      "15\n",
      "30\n",
      "9\n",
      "18\n",
      "8\n",
      "28\n",
      "19\n",
      "20\n",
      "14\n",
      "24\n",
      "17\n",
      "29\n",
      "6\n",
      "23\n",
      "18\n",
      "20\n",
      "9\n",
      "14\n",
      "7\n",
      "22\n",
      "8\n",
      "10\n",
      "10\n",
      "23\n",
      "5\n",
      "29\n",
      "18\n",
      "23\n",
      "5\n",
      "11\n",
      "13\n",
      "28\n",
      "11\n",
      "26\n",
      "12\n",
      "17\n",
      "5\n",
      "12\n",
      "11\n",
      "28\n",
      "15\n",
      "24\n",
      "6\n",
      "11\n",
      "19\n",
      "16\n",
      "13\n"
     ]
    },
    {
     "ename": "TclError",
     "evalue": "invalid command name \".!canvas\"",
     "output_type": "error",
     "traceback": [
      "\u001b[1;31m---------------------------------------------------------------------------\u001b[0m",
      "\u001b[1;31mTclError\u001b[0m                                  Traceback (most recent call last)",
      "Input \u001b[1;32mIn [1]\u001b[0m, in \u001b[0;36m<module>\u001b[1;34m\u001b[0m\n\u001b[0;32m     29\u001b[0m pen\u001b[38;5;241m.\u001b[39mpendown()\n\u001b[0;32m     30\u001b[0m pen\u001b[38;5;241m.\u001b[39mforward(down)\n\u001b[1;32m---> 31\u001b[0m \u001b[43mpen\u001b[49m\u001b[38;5;241;43m.\u001b[39;49m\u001b[43mpenup\u001b[49m\u001b[43m(\u001b[49m\u001b[43m)\u001b[49m\n\u001b[0;32m     32\u001b[0m pen\u001b[38;5;241m.\u001b[39mforward(up)\n\u001b[0;32m     34\u001b[0m i \u001b[38;5;241m+\u001b[39m\u001b[38;5;241m=\u001b[39m \u001b[38;5;241m1\u001b[39m\n",
      "File \u001b[1;32m~\\AppData\\Local\\Programs\\Python\\Python310\\lib\\turtle.py:2108\u001b[0m, in \u001b[0;36mTPen.penup\u001b[1;34m(self)\u001b[0m\n\u001b[0;32m   2106\u001b[0m \u001b[38;5;28;01mif\u001b[39;00m \u001b[38;5;129;01mnot\u001b[39;00m \u001b[38;5;28mself\u001b[39m\u001b[38;5;241m.\u001b[39m_drawing:\n\u001b[0;32m   2107\u001b[0m     \u001b[38;5;28;01mreturn\u001b[39;00m\n\u001b[1;32m-> 2108\u001b[0m \u001b[38;5;28;43mself\u001b[39;49m\u001b[38;5;241;43m.\u001b[39;49m\u001b[43mpen\u001b[49m\u001b[43m(\u001b[49m\u001b[43mpendown\u001b[49m\u001b[38;5;241;43m=\u001b[39;49m\u001b[38;5;28;43;01mFalse\u001b[39;49;00m\u001b[43m)\u001b[49m\n",
      "File \u001b[1;32m~\\AppData\\Local\\Programs\\Python\\Python310\\lib\\turtle.py:2426\u001b[0m, in \u001b[0;36mTPen.pen\u001b[1;34m(self, pen, **pendict)\u001b[0m\n\u001b[0;32m   2424\u001b[0m         newLine \u001b[38;5;241m=\u001b[39m \u001b[38;5;28;01mTrue\u001b[39;00m\n\u001b[0;32m   2425\u001b[0m \u001b[38;5;28;01mif\u001b[39;00m newLine:\n\u001b[1;32m-> 2426\u001b[0m     \u001b[38;5;28;43mself\u001b[39;49m\u001b[38;5;241;43m.\u001b[39;49m\u001b[43m_newLine\u001b[49m\u001b[43m(\u001b[49m\u001b[43m)\u001b[49m\n\u001b[0;32m   2427\u001b[0m \u001b[38;5;28;01mif\u001b[39;00m \u001b[38;5;124m\"\u001b[39m\u001b[38;5;124mpendown\u001b[39m\u001b[38;5;124m\"\u001b[39m \u001b[38;5;129;01min\u001b[39;00m p:\n\u001b[0;32m   2428\u001b[0m     \u001b[38;5;28mself\u001b[39m\u001b[38;5;241m.\u001b[39m_drawing \u001b[38;5;241m=\u001b[39m p[\u001b[38;5;124m\"\u001b[39m\u001b[38;5;124mpendown\u001b[39m\u001b[38;5;124m\"\u001b[39m]\n",
      "File \u001b[1;32m~\\AppData\\Local\\Programs\\Python\\Python310\\lib\\turtle.py:3288\u001b[0m, in \u001b[0;36mRawTurtle._newLine\u001b[1;34m(self, usePos)\u001b[0m\n\u001b[0;32m   3283\u001b[0m \u001b[38;5;124;03m\"\"\"Closes current line item and starts a new one.\u001b[39;00m\n\u001b[0;32m   3284\u001b[0m \u001b[38;5;124;03m   Remark: if current line became too long, animation\u001b[39;00m\n\u001b[0;32m   3285\u001b[0m \u001b[38;5;124;03m   performance (via _drawline) slowed down considerably.\u001b[39;00m\n\u001b[0;32m   3286\u001b[0m \u001b[38;5;124;03m\"\"\"\u001b[39;00m\n\u001b[0;32m   3287\u001b[0m \u001b[38;5;28;01mif\u001b[39;00m \u001b[38;5;28mlen\u001b[39m(\u001b[38;5;28mself\u001b[39m\u001b[38;5;241m.\u001b[39mcurrentLine) \u001b[38;5;241m>\u001b[39m \u001b[38;5;241m1\u001b[39m:\n\u001b[1;32m-> 3288\u001b[0m     \u001b[38;5;28;43mself\u001b[39;49m\u001b[38;5;241;43m.\u001b[39;49m\u001b[43mscreen\u001b[49m\u001b[38;5;241;43m.\u001b[39;49m\u001b[43m_drawline\u001b[49m\u001b[43m(\u001b[49m\u001b[38;5;28;43mself\u001b[39;49m\u001b[38;5;241;43m.\u001b[39;49m\u001b[43mcurrentLineItem\u001b[49m\u001b[43m,\u001b[49m\u001b[43m \u001b[49m\u001b[38;5;28;43mself\u001b[39;49m\u001b[38;5;241;43m.\u001b[39;49m\u001b[43mcurrentLine\u001b[49m\u001b[43m,\u001b[49m\n\u001b[0;32m   3289\u001b[0m \u001b[43m                              \u001b[49m\u001b[38;5;28;43mself\u001b[39;49m\u001b[38;5;241;43m.\u001b[39;49m\u001b[43m_pencolor\u001b[49m\u001b[43m,\u001b[49m\u001b[43m \u001b[49m\u001b[38;5;28;43mself\u001b[39;49m\u001b[38;5;241;43m.\u001b[39;49m\u001b[43m_pensize\u001b[49m\u001b[43m)\u001b[49m\n\u001b[0;32m   3290\u001b[0m     \u001b[38;5;28mself\u001b[39m\u001b[38;5;241m.\u001b[39mcurrentLineItem \u001b[38;5;241m=\u001b[39m \u001b[38;5;28mself\u001b[39m\u001b[38;5;241m.\u001b[39mscreen\u001b[38;5;241m.\u001b[39m_createline()\n\u001b[0;32m   3291\u001b[0m     \u001b[38;5;28mself\u001b[39m\u001b[38;5;241m.\u001b[39mitems\u001b[38;5;241m.\u001b[39mappend(\u001b[38;5;28mself\u001b[39m\u001b[38;5;241m.\u001b[39mcurrentLineItem)\n",
      "File \u001b[1;32m~\\AppData\\Local\\Programs\\Python\\Python310\\lib\\turtle.py:544\u001b[0m, in \u001b[0;36mTurtleScreenBase._drawline\u001b[1;34m(self, lineitem, coordlist, fill, width, top)\u001b[0m\n\u001b[0;32m    542\u001b[0m         cl\u001b[38;5;241m.\u001b[39mappend(x \u001b[38;5;241m*\u001b[39m \u001b[38;5;28mself\u001b[39m\u001b[38;5;241m.\u001b[39mxscale)\n\u001b[0;32m    543\u001b[0m         cl\u001b[38;5;241m.\u001b[39mappend(\u001b[38;5;241m-\u001b[39my \u001b[38;5;241m*\u001b[39m \u001b[38;5;28mself\u001b[39m\u001b[38;5;241m.\u001b[39myscale)\n\u001b[1;32m--> 544\u001b[0m     \u001b[38;5;28;43mself\u001b[39;49m\u001b[38;5;241;43m.\u001b[39;49m\u001b[43mcv\u001b[49m\u001b[38;5;241;43m.\u001b[39;49m\u001b[43mcoords\u001b[49m\u001b[43m(\u001b[49m\u001b[43mlineitem\u001b[49m\u001b[43m,\u001b[49m\u001b[43m \u001b[49m\u001b[38;5;241;43m*\u001b[39;49m\u001b[43mcl\u001b[49m\u001b[43m)\u001b[49m\n\u001b[0;32m    545\u001b[0m \u001b[38;5;28;01mif\u001b[39;00m fill \u001b[38;5;129;01mis\u001b[39;00m \u001b[38;5;129;01mnot\u001b[39;00m \u001b[38;5;28;01mNone\u001b[39;00m:\n\u001b[0;32m    546\u001b[0m     \u001b[38;5;28mself\u001b[39m\u001b[38;5;241m.\u001b[39mcv\u001b[38;5;241m.\u001b[39mitemconfigure(lineitem, fill\u001b[38;5;241m=\u001b[39mfill)\n",
      "File \u001b[1;32m<string>:1\u001b[0m, in \u001b[0;36mcoords\u001b[1;34m(self, *args, **kw)\u001b[0m\n",
      "File \u001b[1;32m~\\AppData\\Local\\Programs\\Python\\Python310\\lib\\tkinter\\__init__.py:2795\u001b[0m, in \u001b[0;36mCanvas.coords\u001b[1;34m(self, *args)\u001b[0m\n\u001b[0;32m   2791\u001b[0m \u001b[38;5;124;03m\"\"\"Return a list of coordinates for the item given in ARGS.\"\"\"\u001b[39;00m\n\u001b[0;32m   2792\u001b[0m \u001b[38;5;66;03m# XXX Should use _flatten on args\u001b[39;00m\n\u001b[0;32m   2793\u001b[0m \u001b[38;5;28;01mreturn\u001b[39;00m [\u001b[38;5;28mself\u001b[39m\u001b[38;5;241m.\u001b[39mtk\u001b[38;5;241m.\u001b[39mgetdouble(x) \u001b[38;5;28;01mfor\u001b[39;00m x \u001b[38;5;129;01min\u001b[39;00m\n\u001b[0;32m   2794\u001b[0m                    \u001b[38;5;28mself\u001b[39m\u001b[38;5;241m.\u001b[39mtk\u001b[38;5;241m.\u001b[39msplitlist(\n\u001b[1;32m-> 2795\u001b[0m            \u001b[38;5;28;43mself\u001b[39;49m\u001b[38;5;241;43m.\u001b[39;49m\u001b[43mtk\u001b[49m\u001b[38;5;241;43m.\u001b[39;49m\u001b[43mcall\u001b[49m\u001b[43m(\u001b[49m\u001b[43m(\u001b[49m\u001b[38;5;28;43mself\u001b[39;49m\u001b[38;5;241;43m.\u001b[39;49m\u001b[43m_w\u001b[49m\u001b[43m,\u001b[49m\u001b[43m \u001b[49m\u001b[38;5;124;43m'\u001b[39;49m\u001b[38;5;124;43mcoords\u001b[39;49m\u001b[38;5;124;43m'\u001b[39;49m\u001b[43m)\u001b[49m\u001b[43m \u001b[49m\u001b[38;5;241;43m+\u001b[39;49m\u001b[43m \u001b[49m\u001b[43margs\u001b[49m\u001b[43m)\u001b[49m)]\n",
      "\u001b[1;31mTclError\u001b[0m: invalid command name \".!canvas\""
     ]
    }
   ],
   "source": [
    "'''\n",
    "Viết chương trình để rùa chạy từ bên trái màn hình sang bên phải, \n",
    "lúc rùa chạy các nét vẽ không liền nhau, giá trị độ dài các nét vẽ tùy ý.\n",
    "'''\n",
    "#gọi thư viện turtle\n",
    "import turtle\n",
    "#gọi thư viện số ngẫu nhiên, viết tắt là r\n",
    "import random as r\n",
    "\n",
    "#setup rùa\n",
    "pen = turtle.Turtle()\n",
    "pen.shape(\"turtle\")\n",
    "pen.pencolor(\"blue\")\n",
    "pen.fillcolor(\"yellow\")\n",
    "pen.pensize(5)\n",
    "pen.hideturtle()\n",
    "pen.penup()\n",
    "pen.goto(-400, 0)\n",
    "pen.showturtle()\n",
    "pen.speed(0.5)\n",
    "\n",
    "i = 0\n",
    "while i < 200:\n",
    "    #cứ mỗi một giá trị i cho một giá trị down và up trong khoảng\n",
    "    down = r.randint(10, 30)\n",
    "    print(down)\n",
    "    up = r.randint(5, 20)\n",
    "    print(up)\n",
    "    pen.pendown()\n",
    "    pen.forward(down)\n",
    "    pen.penup()\n",
    "    pen.forward(up)\n",
    "    \n",
    "    i += 1\n",
    "\n",
    "turtle.done()"
   ]
  },
  {
   "cell_type": "code",
   "execution_count": 2,
   "id": "51710284",
   "metadata": {},
   "outputs": [
    {
     "name": "stdout",
     "output_type": "stream",
     "text": [
      "136\n"
     ]
    }
   ],
   "source": [
    "# Import thư viện đồ họa turtle\n",
    "import turtle\n",
    "# Import thư viện sinh số ngẫu nhiên\n",
    "import random \n",
    "\n",
    "# Khởi tạo đối tượng turtle và đặt ví trí\n",
    "# con trỏ ở điểm 0, -200. Mục đích để vẽ\n",
    "# đường bao nhốt rùa cân chính giữa màn hình\n",
    "t = turtle.Turtle()\n",
    "t.hideturtle()\n",
    "t.penup()\n",
    "t.goto(0, -200)\n",
    "\n",
    "# Vẽ đường bao nhốt rùa\n",
    "# đường bao có màu đen\n",
    "t.speed(10)\n",
    "t.pensize(10)\n",
    "t.pencolor(\"black\")\n",
    "t.pendown()\n",
    "t.circle(200)\n",
    "\n",
    "# Đặt con trỏ rùa về chính giữa đường bao\n",
    "# Đổi màu rùa màu xanh\n",
    "t.penup()\n",
    "t.speed(10)\n",
    "t.shape(\"turtle\")\n",
    "t.pencolor('yellow')\n",
    "t.goto(0, 0)\n",
    "\n",
    "# Tạo hướng ngẫu nhiên ban đầu cho rùa\n",
    "# khi ở vị trí chính giữa đường bao\n",
    "angle = random.randint(0, 360)\n",
    "print(angle)\n",
    "t.right(angle)\n",
    "t.showturtle()\n",
    "\n",
    "# Bắt đầu cho rùa chạy thoát khỏi đường bao\n",
    "# Khi rùa di chuyển đến đường bao, bắt rùa\n",
    "# về lại vị trí chính giữa của hộp\n",
    "count = 0\n",
    "while True:\n",
    "    t.speed(1)\n",
    "    # rùa chỉ di chuyển một khoảng cách\n",
    "    # hơi bé hơn bán kính của hộp tròn là 200\n",
    "    # tránh rùa di chuyển đè lên vạch\n",
    "    t.forward(188)\n",
    "    # Bắt rùa về vị trí ban đầu, chính giữa hộp tròn\n",
    "    t.hideturtle()\n",
    "    t.speed(10)\n",
    "    t.goto(0, 0)\n",
    "    angle = random.randint(0, 360)\n",
    "    # Tạo hướng mới cho rùa chạy, thử vận may mới\n",
    "    t.right(angle)\n",
    "    t.showturtle()\n",
    "    # Khi rùa thử đến số lần nào đó thì dừng lại\n",
    "    # kết thúc chương trình bằng lệnh break\n",
    "    count += 1\n",
    "    if count == 10:\n",
    "        break\n",
    "\n",
    "turtle.done()"
   ]
  },
  {
   "cell_type": "code",
   "execution_count": 7,
   "id": "d0fa8033",
   "metadata": {},
   "outputs": [
    {
     "name": "stdout",
     "output_type": "stream",
     "text": [
      "nhập khoảng cách cần thiết: 150\n",
      "137.16015940982874 , 61.17862191335381\n",
      "giá trị của i =  200\n"
     ]
    }
   ],
   "source": [
    "'''\n",
    "Vẽ đường xoắn ốc như hình dưới sử dụng vòng lặp while True. \n",
    "Thoát khỏi vòng lặp khi khoảng cách từ điểm hiện tại \n",
    "đến điểm ban đầu lớn hơn một giá trị được nhập vào từ người dùng.\n",
    "'''\n",
    "import turtle\n",
    "\n",
    "#setup rùa\n",
    "pen = turtle.Turtle()\n",
    "pen.pensize(1)\n",
    "pen.fillcolor(\"blue\")\n",
    "\n",
    "n = float(input(\"nhập khoảng cách cần thiết: \"))\n",
    "\n",
    "i = 0\n",
    "while True:\n",
    "    pen.speed(10)\n",
    "    pen.forward(i/5)\n",
    "    pen.left(15)\n",
    "    \n",
    "    a = pen.xcor()\n",
    "    b = pen.ycor()\n",
    "    c = pen.distance((0, 0),(a, b))\n",
    "    \n",
    "    i += 1\n",
    "    if c // n == 1:\n",
    "        print(a, \",\", b)\n",
    "        print(\"giá trị của i = \", i)\n",
    "        break\n",
    "    \n",
    "turtle.done()"
   ]
  },
  {
   "cell_type": "code",
   "execution_count": 8,
   "id": "012bf92a",
   "metadata": {
    "scrolled": true
   },
   "outputs": [],
   "source": [
    "#lập hàm vẽ hình tròn\n",
    "def draw_circle():\n",
    "    import turtle\n",
    "    n = int(input(\"nhập số vòng tròn cần vẽ: \"))\n",
    "    pen = turtle.Turtle()\n",
    "    for i in range(n):\n",
    "        pen.circle(20 + i*20)\n",
    "        pen.right(90)\n",
    "        pen.penup()\n",
    "        pen.forward(20)\n",
    "        pen.left(90)\n",
    "        pen.pendown()\n",
    "    turtle.done()"
   ]
  },
  {
   "cell_type": "code",
   "execution_count": 10,
   "id": "972dbf45",
   "metadata": {},
   "outputs": [
    {
     "name": "stdout",
     "output_type": "stream",
     "text": [
      "nhập số vòng tròn cần vẽ: 8\n"
     ]
    }
   ],
   "source": [
    "draw_circle()"
   ]
  },
  {
   "cell_type": "code",
   "execution_count": 8,
   "id": "0da749af",
   "metadata": {},
   "outputs": [
    {
     "name": "stdout",
     "output_type": "stream",
     "text": [
      "nhập số lượng elip cần vẽ là: 25\n"
     ]
    }
   ],
   "source": [
    "#vẽ hình elip\n",
    "import turtle\n",
    "import random\n",
    "\n",
    "my_color = [\"red\", \"yellow\", \"blue\", \"black\", \"Green\", \"Navy\", \"Teal\", \"Maroon\", \"Olive\"]\n",
    "pen = turtle.Turtle()\n",
    "pen.speed(50)\n",
    "pen.fillcolor(\"blue\")\n",
    "pen.pensize(5)\n",
    "pen.right(45)\n",
    "\n",
    "n = int(input(\"nhập số lượng elip cần vẽ là: \"))\n",
    "i = 0\n",
    "while i < n:\n",
    "    j = 0\n",
    "    while j < 2:\n",
    "        pen.circle(200, 90)\n",
    "        pen.circle(100, 90)\n",
    "    \n",
    "        j += 1\n",
    "    pen.right(15)\n",
    "    a = random.choice(my_color)\n",
    "    pen.pencolor(a)\n",
    "    i += 1\n",
    "turtle.done()"
   ]
  },
  {
   "cell_type": "code",
   "execution_count": 1,
   "id": "4f8338b6",
   "metadata": {},
   "outputs": [
    {
     "name": "stdout",
     "output_type": "stream",
     "text": [
      "nhập số lượng ngôi sao cần vẽ: 100\n"
     ]
    }
   ],
   "source": [
    "\"\"\"\n",
    "Viết chương trình sử dụng thư viện turtle và hàm lặp for…in \n",
    "để vẽ ngôi sao với màu sắc cho sẵn, sử dụng vòng lặp lồng nhau \n",
    "để vẽ thêm n ngôi sao xoay quanh tâm cửa số màn hình và cách nhau bên trái 5px\n",
    "\"\"\"\n",
    "import turtle\n",
    "\n",
    "#setup màn hình\n",
    "wn = turtle.Screen()\n",
    "wn.bgcolor(\"blue\")\n",
    "wn.title(\"Star\")\n",
    "\n",
    "n = int(input(\"nhập số lượng ngôi sao cần vẽ: \"))\n",
    "\n",
    "#setup rùa\n",
    "pen = turtle.Turtle()\n",
    "pen.speed(10)\n",
    "pen.fillcolor(\"White\")\n",
    "pen.pencolor(\"White\")\n",
    "\n",
    "#vẽ ngôi sao\n",
    "for i in range(1, n):\n",
    "    for i in range(5):\n",
    "        pen.forward(200)\n",
    "        pen.right(144)\n",
    "        \n",
    "    pen.left(5)\n",
    "\n",
    "turtle.done()"
   ]
  },
  {
   "cell_type": "code",
   "execution_count": null,
   "id": "faaa58c5",
   "metadata": {},
   "outputs": [],
   "source": [
    "'''\n",
    "Viết chương trình cho phép người dùng nhập ký tự muốn dùng để vẽ, \n",
    "chiều cao và chiều rộng của hình. Sau đó in ra hình tứ giác được vẽ bằng ký tự vừa nhập, \n",
    "với chiều cao và chiều rộng tương ứng (lưu ý chỉ các cạnh hình được vẽ bằng ký tự, \n",
    "bên trong hình sẽ được thay thế bằng dấu space ‘  ‘) \n",
    "'''"
   ]
  }
 ],
 "metadata": {
  "kernelspec": {
   "display_name": "Python 3 (ipykernel)",
   "language": "python",
   "name": "python3"
  },
  "language_info": {
   "codemirror_mode": {
    "name": "ipython",
    "version": 3
   },
   "file_extension": ".py",
   "mimetype": "text/x-python",
   "name": "python",
   "nbconvert_exporter": "python",
   "pygments_lexer": "ipython3",
   "version": "3.10.2"
  }
 },
 "nbformat": 4,
 "nbformat_minor": 5
}
