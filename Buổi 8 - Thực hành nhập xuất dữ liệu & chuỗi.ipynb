{
 "cells": [
  {
   "cell_type": "markdown",
   "id": "5bc93fb0",
   "metadata": {},
   "source": [
    "# Thực hành nhập xuất dữ liệu & chuỗi\n",
    "\n",
    "### Bài tập tra cứu lệnh\n",
    "\n",
    "Nhập vào một chuỗi, kiểm tra xem chuỗi đó có ký tự nào là chữ in hoa hay không, nếu có thì in True, không có thì in False"
   ]
  },
  {
   "cell_type": "code",
   "execution_count": 12,
   "id": "4b3df2ba",
   "metadata": {},
   "outputs": [
    {
     "name": "stdout",
     "output_type": "stream",
     "text": [
      "nhập vao một chuỗi bất kỳ: he LLO\n",
      "True\n"
     ]
    }
   ],
   "source": [
    "#islower()\tReturns True if all characters in the string are lower case. kiểm tra toàn bộ là chữ thường hay không\n",
    "a = input(\"nhập vao một chuỗi bất kỳ: \")\n",
    "b = a.islower()\n",
    "c = not(b)\n",
    "print(c)"
   ]
  },
  {
   "cell_type": "markdown",
   "id": "e14eae7c",
   "metadata": {},
   "source": [
    "Nhập vào một chuỗi, kiểm tra xem chuỗi đó có ký tự nào là chữ in thường hay không, nếu có thì in True, không có thì in False"
   ]
  },
  {
   "cell_type": "code",
   "execution_count": 17,
   "id": "ab00180c",
   "metadata": {},
   "outputs": [
    {
     "name": "stdout",
     "output_type": "stream",
     "text": [
      "nhập vao một chuỗi bất kỳ: trung Đoàn không Quân 929\n",
      "True\n"
     ]
    }
   ],
   "source": [
    "#isupper()\tReturns True if all characters in the string are upper case\n",
    "a = input(\"nhập vao một chuỗi bất kỳ: \")\n",
    "b = a.isupper()\n",
    "c = not(b)\n",
    "print(c)"
   ]
  },
  {
   "cell_type": "markdown",
   "id": "eab86ecf",
   "metadata": {},
   "source": [
    "Nhập vào một chuỗi a và chuỗi b, tìm vị trí đầu tiên xuất hiện chuỗi b trong chuỗi a"
   ]
  },
  {
   "cell_type": "code",
   "execution_count": 16,
   "id": "051eb4af",
   "metadata": {},
   "outputs": [
    {
     "name": "stdout",
     "output_type": "stream",
     "text": [
      "nhập vao một chuỗi bất kỳ a: không có gì quý hơn độc lập tự do\n",
      "nhập vao một chuỗi bất kỳ b: quý hơn\n",
      "12\n"
     ]
    }
   ],
   "source": [
    "a = input(\"nhập vao một chuỗi bất kỳ a: \")\n",
    "b = input(\"nhập vao một chuỗi bất kỳ b: \")\n",
    "c = a.find(b)\n",
    "print(c)"
   ]
  },
  {
   "cell_type": "markdown",
   "id": "9239bc4e",
   "metadata": {},
   "source": [
    "Nhập vào một chuỗi a, hãy xóa từ đầu tiên trong chuỗi a, rồi in ra màn hình"
   ]
  },
  {
   "cell_type": "code",
   "execution_count": 12,
   "id": "90967cd9",
   "metadata": {},
   "outputs": [
    {
     "name": "stdout",
     "output_type": "stream",
     "text": [
      "nhập vao một chuỗi bất kỳ a: xin chào mọi người\n",
      "chào mọi người\n"
     ]
    }
   ],
   "source": [
    "a = input(\"nhập vao một chuỗi bất kỳ a: \")\n",
    "b = a.find(\" \")\n",
    "c = a[b+1:]\n",
    "print(c)"
   ]
  },
  {
   "cell_type": "markdown",
   "id": "05b74fb4",
   "metadata": {},
   "source": [
    "### Bài 1\n",
    "\n",
    "Nhập vào một chuỗi, đếm xem có bao nhiêu từ trong chuỗi kết thúc bằng chữ n"
   ]
  },
  {
   "cell_type": "code",
   "execution_count": 27,
   "id": "d126675c",
   "metadata": {},
   "outputs": [
    {
     "name": "stdout",
     "output_type": "stream",
     "text": [
      "nhập vao một chuỗi bất kỳ a: xin chao moi nguon hen hi hen\n",
      "4\n"
     ]
    }
   ],
   "source": [
    "a = input(\"nhập vao một chuỗi bất kỳ a: \")\n",
    "a = a + \" \"\n",
    "b = \"n \"\n",
    "c = a.count(b)\n",
    "print(c)\n"
   ]
  },
  {
   "cell_type": "markdown",
   "id": "53a78d35",
   "metadata": {},
   "source": [
    "### Bài 2\n",
    "\n",
    "Nhập vào một chuỗi, kiểm tra xem chuỗi đó có ký tự hoa hoặc ký tự thường hay không."
   ]
  },
  {
   "cell_type": "code",
   "execution_count": 29,
   "id": "f5be8c39",
   "metadata": {},
   "outputs": [
    {
     "name": "stdout",
     "output_type": "stream",
     "text": [
      "nhập vao một chuỗi bất kỳ a: xin chao moi nguoi\n",
      "True\n"
     ]
    }
   ],
   "source": [
    "a = input(\"nhập vao một chuỗi bất kỳ a: \")\n",
    "b = a.isupper()\n",
    "c = a.islower()\n",
    "print(b or c)"
   ]
  },
  {
   "cell_type": "markdown",
   "id": "64ca662e",
   "metadata": {},
   "source": [
    "### Bài 3\n",
    "\n",
    "Nhập vào một chuỗi, kiểm tra tính đối xứng của chuỗi đó"
   ]
  },
  {
   "cell_type": "code",
   "execution_count": 2,
   "id": "749f4136",
   "metadata": {},
   "outputs": [
    {
     "name": "stdout",
     "output_type": "stream",
     "text": [
      "nhập vao một chuỗi bất kỳ a: 123454321\n",
      "123454321\n",
      "True\n"
     ]
    }
   ],
   "source": [
    "a = input(\"nhập vao một chuỗi bất kỳ a: \")\n",
    "b = a[::-1]# viec nguoc lai chuoi\n",
    "print(b)\n",
    "print(a == b)"
   ]
  },
  {
   "cell_type": "code",
   "execution_count": 34,
   "id": "0d099247",
   "metadata": {},
   "outputs": [
    {
     "name": "stdout",
     "output_type": "stream",
     "text": [
      "0\n",
      "1\n",
      "2\n",
      "3\n",
      "4\n"
     ]
    }
   ],
   "source": [
    "a = 0\n",
    "for i in range(5):\n",
    "    print(a)\n",
    "    a+=1\n",
    "    "
   ]
  },
  {
   "cell_type": "code",
   "execution_count": 37,
   "id": "6275cafb",
   "metadata": {},
   "outputs": [
    {
     "name": "stdout",
     "output_type": "stream",
     "text": [
      "0 x\n",
      "1 i\n",
      "2 n\n",
      "3  \n",
      "4 c\n",
      "5 h\n",
      "6 a\n",
      "7 o\n",
      "8  \n",
      "9 m\n",
      "10 o\n",
      "11 i\n",
      "12  \n",
      "13 n\n",
      "14 g\n",
      "15 u\n",
      "16 o\n",
      "17 i\n"
     ]
    }
   ],
   "source": [
    "s = \"xin chao moi nguoi\"\n",
    "a = 0\n",
    "for i in range(len(s)):\n",
    "    print(a,s[a])\n",
    "    a += 1"
   ]
  },
  {
   "cell_type": "markdown",
   "id": "85dd8fef",
   "metadata": {},
   "source": [
    "### Bài 4\n",
    "\n",
    "Nhập vào một chuỗi, in ra những ký tự in hoa trong chuỗi đó"
   ]
  },
  {
   "cell_type": "code",
   "execution_count": 18,
   "id": "2f37c983",
   "metadata": {},
   "outputs": [
    {
     "name": "stdout",
     "output_type": "stream",
     "text": [
      "nhập vao một chuỗi bất kỳ s: Trung\n",
      "0 T\n",
      "1 r\n",
      "2 u\n",
      "3 n\n",
      "4 g\n"
     ]
    }
   ],
   "source": [
    "s = input(\"nhập vao một chuỗi bất kỳ s: \")\n",
    "a = 0\n",
    "for i in range(len(s)):\n",
    "    print(a, s[a])\n",
    "    a += 1\n",
    "\n"
   ]
  },
  {
   "cell_type": "markdown",
   "id": "1373dc74",
   "metadata": {},
   "source": [
    "### Bài 5\n",
    "\n",
    "Nhập vào một chuỗi, tìm các ký tự chỉ xuất hiện một lần trong chuỗi (nếu xuất hiện 1 lần in true, xuất hiện nhiều lần in false)\n",
    "\n",
    "Ví dụ:\n",
    "\n",
    "Nhập chuỗi: \"ABAbc\"\n",
    "\n",
    "In:\n",
    "\n",
    "A: False\n",
    "\n",
    "B: True\n",
    "\n",
    "A: False\n",
    "\n",
    "b: True\n",
    "\n",
    "c: True"
   ]
  },
  {
   "cell_type": "code",
   "execution_count": 42,
   "id": "a93bc53d",
   "metadata": {},
   "outputs": [
    {
     "name": "stdout",
     "output_type": "stream",
     "text": [
      "nhập vao một chuỗi bất kỳ s: ahshsadjk\n",
      "0 a False\n",
      "1 h False\n",
      "2 s False\n",
      "3 h False\n",
      "4 s False\n",
      "5 a False\n",
      "6 d True\n",
      "7 j True\n",
      "8 k True\n"
     ]
    }
   ],
   "source": [
    "s = input(\"nhập vao một chuỗi bất kỳ s: \")\n",
    "a = 0\n",
    "for i in range(len(s)):\n",
    "    dem = s.count(s[a])\n",
    "    print(a,s[a], dem==1)\n",
    "    a += 1"
   ]
  },
  {
   "cell_type": "markdown",
   "id": "69bebf4c",
   "metadata": {},
   "source": [
    "### Bài 6\n",
    "\n",
    "Nhập vào một chuỗi, kiểm tra trong chuỗi có con số hay không, nếu có in True, không có in False"
   ]
  },
  {
   "cell_type": "code",
   "execution_count": 26,
   "id": "1b4eab4f",
   "metadata": {},
   "outputs": [
    {
     "name": "stdout",
     "output_type": "stream",
     "text": [
      "nhập vao một chuỗi bất kỳ s: trung đoàn không quân\n",
      "True\n"
     ]
    }
   ],
   "source": [
    "s = input(\"nhập vao một chuỗi bất kỳ s: \")\n",
    "b = s.isalpha()\n",
    "\n",
    "print(not b)"
   ]
  },
  {
   "cell_type": "markdown",
   "id": "1e51403c",
   "metadata": {},
   "source": [
    "### Bài 7\n",
    "\n",
    "Nhập vào một chuỗi, tách những con số có trong chuỗi ra rồi tính tổng của chúng\n",
    "\n",
    "In tổng lên màn hình"
   ]
  },
  {
   "cell_type": "code",
   "execution_count": null,
   "id": "a34e349d",
   "metadata": {},
   "outputs": [],
   "source": []
  },
  {
   "cell_type": "markdown",
   "id": "e951779d",
   "metadata": {},
   "source": [
    "### Bài 8\n",
    "\n",
    "Nhập vào một chuỗi, đảo ngược chuỗi đã nhập rồi in ra màn hình"
   ]
  },
  {
   "cell_type": "code",
   "execution_count": null,
   "id": "9305f0f1",
   "metadata": {},
   "outputs": [],
   "source": []
  },
  {
   "cell_type": "markdown",
   "id": "04194b5c",
   "metadata": {},
   "source": [
    "### Bài 9\n",
    "\n",
    "Nhập vào một chuỗi, kiểm tra xem mỗi từ trong chuỗi có được viết hoa chữ cái đầu hay không, nếu tất cả đều được viết hoa thì in ra True, còn không thì in ra False\n",
    "\n",
    "Trong trường hợp là False, hãy viết hoa tất cả các chữ cái đầu của mỗi từ rồi in lên màn hình\n",
    "\n",
    "Cách làm thông thường:"
   ]
  },
  {
   "cell_type": "code",
   "execution_count": null,
   "id": "9f947c7d",
   "metadata": {},
   "outputs": [],
   "source": []
  },
  {
   "cell_type": "markdown",
   "id": "f43e32af",
   "metadata": {},
   "source": [
    "Cách sử dụng lệnh có sẵn:"
   ]
  },
  {
   "cell_type": "code",
   "execution_count": null,
   "id": "714f1412",
   "metadata": {},
   "outputs": [],
   "source": []
  }
 ],
 "metadata": {
  "kernelspec": {
   "display_name": "Python 3 (ipykernel)",
   "language": "python",
   "name": "python3"
  },
  "language_info": {
   "codemirror_mode": {
    "name": "ipython",
    "version": 3
   },
   "file_extension": ".py",
   "mimetype": "text/x-python",
   "name": "python",
   "nbconvert_exporter": "python",
   "pygments_lexer": "ipython3",
   "version": "3.10.2"
  }
 },
 "nbformat": 4,
 "nbformat_minor": 5
}
