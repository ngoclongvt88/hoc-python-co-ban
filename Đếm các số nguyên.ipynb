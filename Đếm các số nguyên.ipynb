{
 "cells": [
  {
   "cell_type": "code",
   "execution_count": 2,
   "id": "c76933b0",
   "metadata": {},
   "outputs": [
    {
     "name": "stdout",
     "output_type": "stream",
     "text": [
      "Nhập số tự nhiên thứ nhất: 23\n",
      "Nhập số tự nhiên thứ hai: 12\n",
      "Nhập số tự nhiên thứ ba: 01\n",
      "Thứ tự tăng dần là: (1, 12, 23)\n"
     ]
    }
   ],
   "source": [
    "'''\n",
    "Viết chương trình cho người dùng nhập vào 3 số nguyên bất kỳ, \n",
    "sau đó sẽ in ra thứ tự tăng dần của 3 số nguyên được nhập vào.\n",
    "'''\n",
    "def arrange_int(int1, int2, int3):\n",
    "    if int1 > int2:\n",
    "        if int2 > int3:\n",
    "            print(f\"Thứ tự tăng dần là: {int3, int2, int1}\")\n",
    "        else:\n",
    "            print(f\"Thứ tự tăng dần là: {int2, int3, int1}\")\n",
    "    elif int2 > int1:\n",
    "        if int1 > int3:\n",
    "            print(f\"Thứ tự tăng dần là: {int3, int1, int2}\")\n",
    "        else:\n",
    "            print(f\"Thứ tự tăng dần là: {int1, int3, int2}\")\n",
    "    if int3 > int2:\n",
    "        if int2 > int1:\n",
    "            print(f\"Thứ tự tăng dần là: {int1, int2, int3}\")\n",
    "        else:\n",
    "            print(f\"Thứ tự tăng dần là: {int2, int1, int3}\")\n",
    "            \n",
    "int1 = int(input(\"Nhập số tự nhiên thứ nhất: \"))\n",
    "int2 = int(input(\"Nhập số tự nhiên thứ hai: \"))\n",
    "int3 = int(input(\"Nhập số tự nhiên thứ ba: \"))\n",
    "\n",
    "arrange_int(int1, int2, int3)\n"
   ]
  },
  {
   "cell_type": "code",
   "execution_count": 16,
   "id": "b01fa0aa",
   "metadata": {},
   "outputs": [
    {
     "name": "stdout",
     "output_type": "stream",
     "text": [
      "Số nhỏ nhất trong mảng [12, 32, 45, 67, 11, 38] là: 11\n"
     ]
    }
   ],
   "source": [
    "'''\n",
    "Viết chương trình tìm giá trị nhỏ nhất trong mảng số cho trước\n",
    "'''\n",
    "def min_number(array):\n",
    "    min_num = array[0]\n",
    "    for i in range(len(array)):\n",
    "        if array[i] <= min_num:\n",
    "            min_num = array[i]\n",
    "    return min_num\n",
    "array = [12, 32, 45, 67, 11, 38]\n",
    "print(f\"Số nhỏ nhất trong mảng {array} là: {min_number(array)}\")"
   ]
  }
 ],
 "metadata": {
  "kernelspec": {
   "display_name": "Python 3 (ipykernel)",
   "language": "python",
   "name": "python3"
  },
  "language_info": {
   "codemirror_mode": {
    "name": "ipython",
    "version": 3
   },
   "file_extension": ".py",
   "mimetype": "text/x-python",
   "name": "python",
   "nbconvert_exporter": "python",
   "pygments_lexer": "ipython3",
   "version": "3.10.2"
  }
 },
 "nbformat": 4,
 "nbformat_minor": 5
}
