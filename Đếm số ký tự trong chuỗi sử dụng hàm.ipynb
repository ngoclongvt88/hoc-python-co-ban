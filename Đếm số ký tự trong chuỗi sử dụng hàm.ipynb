{
 "cells": [
  {
   "cell_type": "code",
   "execution_count": 16,
   "id": "252a80c0",
   "metadata": {},
   "outputs": [
    {
     "name": "stdout",
     "output_type": "stream",
     "text": [
      "Nhập chuỗi cần kiểm tra: Phạm Ngọc Long\n",
      "Số kí tự trong chuỗi Phạm Ngọc Long là: 14\n"
     ]
    }
   ],
   "source": [
    "'''\n",
    "Viết chương trình cho phép người dùng nhập chuỗi và và hiển thị số ký tự trong chuỗi vừa nhập vào.\n",
    "'''\n",
    "def count_str(string):\n",
    "    count_char = 0\n",
    "    for char in string:\n",
    "        count_char += 1\n",
    "    return count_char\n",
    "\n",
    "string = input('Nhập chuỗi cần kiểm tra: ')\n",
    "print(f\"Số kí tự trong chuỗi {string} là: {count_str(string)}\")"
   ]
  },
  {
   "cell_type": "code",
   "execution_count": null,
   "id": "0cfd198d",
   "metadata": {},
   "outputs": [],
   "source": []
  }
 ],
 "metadata": {
  "kernelspec": {
   "display_name": "Python 3 (ipykernel)",
   "language": "python",
   "name": "python3"
  },
  "language_info": {
   "codemirror_mode": {
    "name": "ipython",
    "version": 3
   },
   "file_extension": ".py",
   "mimetype": "text/x-python",
   "name": "python",
   "nbconvert_exporter": "python",
   "pygments_lexer": "ipython3",
   "version": "3.10.2"
  }
 },
 "nbformat": 4,
 "nbformat_minor": 5
}
