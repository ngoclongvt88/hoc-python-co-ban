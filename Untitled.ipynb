{
 "cells": [
  {
   "cell_type": "code",
   "execution_count": 5,
   "id": "b2838a85",
   "metadata": {},
   "outputs": [],
   "source": [
    "'''\n",
    "Xây dựng hàm vẽ hình vuông với tham số là độ dài các cạnh. \n",
    "Sau khi hàm được xây dựng xong, tiến hành gọi hàm với các giá trị tham số khác nhau.\n",
    "'''\n",
    "def draw_square(n):\n",
    "    import turtle\n",
    "    wn = turtle.Screen()\n",
    "    wn.bgcolor(\"blue\")\n",
    "    wn.title(\"star\")\n",
    "    \n",
    "    pen = turtle.Turtle()\n",
    "    pen.pensize(5)\n",
    "    pen.color(\"white\")\n",
    "    pen.fillcolor(\"white\")\n",
    "    \n",
    "    pen.right(45)\n",
    "    pen.begin_fill()\n",
    "    pen.circle(n, steps = 4)\n",
    "    pen.end_fill()\n",
    "    \n",
    "    turtle.done()\n",
    "n = int(input(\"nhập số n: \"))\n",
    "draw_square(100)"
   ]
  },
  {
   "cell_type": "code",
   "execution_count": null,
   "id": "93d19c48",
   "metadata": {},
   "outputs": [],
   "source": []
  }
 ],
 "metadata": {
  "kernelspec": {
   "display_name": "Python 3 (ipykernel)",
   "language": "python",
   "name": "python3"
  },
  "language_info": {
   "codemirror_mode": {
    "name": "ipython",
    "version": 3
   },
   "file_extension": ".py",
   "mimetype": "text/x-python",
   "name": "python",
   "nbconvert_exporter": "python",
   "pygments_lexer": "ipython3",
   "version": "3.10.2"
  }
 },
 "nbformat": 4,
 "nbformat_minor": 5
}
