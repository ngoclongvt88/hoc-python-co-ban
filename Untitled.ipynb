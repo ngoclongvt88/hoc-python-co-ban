{
 "cells": [
  {
   "cell_type": "markdown",
   "id": "262a64a0",
   "metadata": {},
   "source": [
    "### Bài 1\n",
    " Viết một hàm có dữ liệu đầu vào là 2 số a và b số nào lớn hơn thì in ra bảng cửu chương của số đó\n"
   ]
  },
  {
   "cell_type": "code",
   "execution_count": 7,
   "id": "a6dff251",
   "metadata": {},
   "outputs": [
    {
     "name": "stdout",
     "output_type": "stream",
     "text": [
      "1 x 5 = 5\n",
      "2 x 5 = 10\n",
      "3 x 5 = 15\n",
      "4 x 5 = 20\n",
      "5 x 5 = 25\n",
      "6 x 5 = 30\n",
      "7 x 5 = 35\n",
      "8 x 5 = 40\n",
      "9 x 5 = 45\n"
     ]
    }
   ],
   "source": [
    "def table(a, b):\n",
    "    for i in range(1, 10):\n",
    "        if a > b:\n",
    "            print(f\"{i} x {a} = {i*a}\")\n",
    "        else: \n",
    "            print(f\"{i} x {b} = {i*b}\")\n",
    "table(4, 5)"
   ]
  },
  {
   "cell_type": "markdown",
   "id": "643d8f68",
   "metadata": {},
   "source": [
    "## Bài2\n",
    "Viết hàm `remove_string` có dữ liệu đầu vào là 2 chuỗi a và b, hãy tìm trong chuỗi a có chuỗi b hay không, nếu có hãy xóa toán bộ chuỗi b trong a.\n",
    "\n",
    "Sau đó trả về chuỗi a mới\n",
    "\n",
    "Ví dụ:\n",
    "\n",
    "chuoi1 = \"xin chào các bạn, các bạn có khỏe không?\"\n",
    "\n",
    "chuoi2 = \"các bạn\"\n",
    "\n",
    "chuoi3 = remove_string(chuoi1,chuoi2)\n",
    "\n",
    "print(chuoi3)\n",
    "\n",
    "Kết quả in ra là:\n",
    "xin chào ,  có khỏe không"
   ]
  },
  {
   "cell_type": "code",
   "execution_count": 13,
   "id": "129420e1",
   "metadata": {},
   "outputs": [
    {
     "data": {
      "text/plain": [
       "'  chào'"
      ]
     },
     "execution_count": 13,
     "metadata": {},
     "output_type": "execute_result"
    }
   ],
   "source": [
    "def remove_string(a, b):\n",
    "    if b in a:\n",
    "        a = a.replace(b, \"\")\n",
    "    return a\n",
    "\n",
    "a = \"xin chào\"\n",
    "b = \"xin\"\n",
    "remove_string(a, b)"
   ]
  },
  {
   "cell_type": "markdown",
   "id": "93fa0b1a",
   "metadata": {},
   "source": [
    "## bài 3\n",
    "tìm số lớn thứ 2 trong 4 số"
   ]
  },
  {
   "cell_type": "code",
   "execution_count": 16,
   "id": "602c7442",
   "metadata": {},
   "outputs": [
    {
     "data": {
      "text/plain": [
       "1"
      ]
     },
     "execution_count": 16,
     "metadata": {},
     "output_type": "execute_result"
    }
   ],
   "source": [
    "def Find_max_second(a, b, c, d):\n",
    "    "
   ]
  },
  {
   "cell_type": "code",
   "execution_count": 19,
   "id": "71b19be1",
   "metadata": {},
   "outputs": [
    {
     "data": {
      "text/plain": [
       "9"
      ]
     },
     "execution_count": 19,
     "metadata": {},
     "output_type": "execute_result"
    }
   ],
   "source": [
    "def Find_max_second(a, b, c, d):\n",
    "    list1 = [a, b, c, d]\n",
    "    max_1 = max(list1[0], list1[1])\n",
    "    max_2 = min(list1[0], list1[1])\n",
    "\n",
    "    for i in range(2, len(list1)):\n",
    "        if list1[i] > max_1:\n",
    "            max_2 = max_1\n",
    "            max_1 = list1[i]\n",
    "        elif (list1[i] > max_2) and (max_1 != list1[i]):\n",
    "            max_2 = list1[i]\n",
    "\n",
    "    return max_2\n",
    "Find_max_second(1, 13, 4, 9)"
   ]
  },
  {
   "cell_type": "markdown",
   "id": "d12dc9df",
   "metadata": {},
   "source": [
    "## bài 4\n",
    "treepersqkm số lượng cây trên 1 km vuông viết quốc gia có hơn 2000 cây/km vuông"
   ]
  },
  {
   "cell_type": "code",
   "execution_count": 22,
   "id": "f14e7277",
   "metadata": {},
   "outputs": [
    {
     "data": {
      "text/plain": [
       "['Finland',\n",
       " 'Taiwan',\n",
       " 'Japan',\n",
       " 'Russia',\n",
       " 'Brazil',\n",
       " 'Canada',\n",
       " 'Bulgaria',\n",
       " 'France',\n",
       " 'Greece',\n",
       " 'United States']"
      ]
     },
     "execution_count": 22,
     "metadata": {},
     "output_type": "execute_result"
    }
   ],
   "source": [
    "treepersqkm = {\"Finland\": 90652, \"Taiwan\": 69593, \"Japan\": 49894, \"Russia\": 41396, \"Brazil\": 39542, \"Canada\": 36388, \"Bulgaria\": 24987, \"France\": 24436, \"Greece\": 24323, \"United States\": 23513, \"Turkey\": 11126, \"India\": 11109, \"Denmark\": 6129, \"Syria\": 534, \"Saudi Arabia\": 1}\n",
    "def ct(data):\n",
    "    result = []\n",
    "    for country in data:\n",
    "        if data[country] > 20000:\n",
    "            result.append(country)\n",
    "    return result \n",
    "\n",
    "ct(treepersqkm)"
   ]
  },
  {
   "cell_type": "code",
   "execution_count": 23,
   "id": "1b072b0e",
   "metadata": {},
   "outputs": [
    {
     "data": {
      "text/plain": [
       "['Finland',\n",
       " 'Taiwan',\n",
       " 'Japan',\n",
       " 'Russia',\n",
       " 'Brazil',\n",
       " 'Canada',\n",
       " 'Bulgaria',\n",
       " 'France',\n",
       " 'Greece',\n",
       " 'United States']"
      ]
     },
     "execution_count": 23,
     "metadata": {},
     "output_type": "execute_result"
    }
   ],
   "source": [
    "treepersqkm = {\"Finland\": 90652, \"Taiwan\": 69593, \"Japan\": 49894, \"Russia\": 41396, \"Brazil\": 39542, \"Canada\": 36388, \"Bulgaria\": 24987, \"France\": 24436, \"Greece\": 24323, \"United States\": 23513, \"Turkey\": 11126, \"India\": 11109, \"Denmark\": 6129, \"Syria\": 534, \"Saudi Arabia\": 1}\n",
    "def ct(data):\n",
    "    result = []\n",
    "    for i in data:\n",
    "        if data[i] > 20000:\n",
    "            result.append(i)\n",
    "    return result \n",
    "\n",
    "ct(treepersqkm)"
   ]
  }
 ],
 "metadata": {
  "kernelspec": {
   "display_name": "Python 3 (ipykernel)",
   "language": "python",
   "name": "python3"
  },
  "language_info": {
   "codemirror_mode": {
    "name": "ipython",
    "version": 3
   },
   "file_extension": ".py",
   "mimetype": "text/x-python",
   "name": "python",
   "nbconvert_exporter": "python",
   "pygments_lexer": "ipython3",
   "version": "3.10.2"
  }
 },
 "nbformat": 4,
 "nbformat_minor": 5
}
