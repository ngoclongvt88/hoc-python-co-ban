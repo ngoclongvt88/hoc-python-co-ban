{
 "cells": [
  {
   "cell_type": "code",
   "execution_count": 12,
   "id": "0703c4d5",
   "metadata": {},
   "outputs": [],
   "source": [
    "'''\n",
    "Viết chương trình vẽ hình tròn bằng các hình vuông xoay quanh tâm điểm.\n",
    "'''\n",
    "import turtle\n",
    "#set up màn hình\n",
    "wn = turtle.Screen()\n",
    "wn.bgcolor(\"blue\")\n",
    "wn.title(\"star\")\n",
    "\n",
    "#set up chuột\n",
    "pen = turtle.Turtle()\n",
    "pen.pencolor(\"white\")\n",
    "pen.fillcolor(\"white\")\n",
    "pen.speed(10)\n",
    "\n",
    "#vẽ hình vuông\n",
    "def draw_square(length):\n",
    "    pen.circle(length, steps = 4)\n",
    "\n",
    "for i in range(36):\n",
    "    pen.right(10)\n",
    "    draw_square(100)  \n",
    "\n",
    "turtle.done()"
   ]
  },
  {
   "cell_type": "code",
   "execution_count": null,
   "id": "c73d8992",
   "metadata": {},
   "outputs": [],
   "source": []
  }
 ],
 "metadata": {
  "kernelspec": {
   "display_name": "Python 3 (ipykernel)",
   "language": "python",
   "name": "python3"
  },
  "language_info": {
   "codemirror_mode": {
    "name": "ipython",
    "version": 3
   },
   "file_extension": ".py",
   "mimetype": "text/x-python",
   "name": "python",
   "nbconvert_exporter": "python",
   "pygments_lexer": "ipython3",
   "version": "3.10.2"
  }
 },
 "nbformat": 4,
 "nbformat_minor": 5
}
