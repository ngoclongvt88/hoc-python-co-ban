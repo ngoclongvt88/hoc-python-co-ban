{
 "cells": [
  {
   "cell_type": "code",
   "execution_count": 13,
   "id": "33267a0c",
   "metadata": {},
   "outputs": [
    {
     "data": {
      "text/plain": [
       "True"
      ]
     },
     "execution_count": 13,
     "metadata": {},
     "output_type": "execute_result"
    }
   ],
   "source": [
    "'''\n",
    "Viết chương trình cho phép người dùng thêm hoặc xoá các mục chi tiêu cá nhân \n",
    "và in ra các mục chi tiêu đó. \n",
    "Mục chi tiêu bao gồm: tên, giá trị chi và ngày chi\n",
    "'''\n",
    "my_Tem_lis = [\"xăng\", \"xe\", \"điện thoại\", \"điện\", \"nước\", \"ga\", \"mạng\"]\n",
    "\n",
    "#thêm khoản chi têu trong tháng\n",
    "def add_item(my_Tem_lis, item):\n",
    "    my_Tem_lis.append(item)\n",
    "#kiểm tra các khoảng chi tiêu:\n",
    "def check_item(my_Tem_lis, name_item):\n",
    "    result = False\n",
    "    for i in my_Tem_lis:\n",
    "        if i == name_item:\n",
    "            result = True\n",
    "    return result\n",
    "check_item(my_Tem_lis, \"mạng\")"
   ]
  },
  {
   "cell_type": "code",
   "execution_count": null,
   "id": "3e6ef79a",
   "metadata": {},
   "outputs": [],
   "source": [
    " my_Tem_lis = [\"xăng\", \"xe\", \"điện thoại\", \"điện\", \"nước\", \"ga\", \"mạng\"]\n",
    "\n",
    "#thêm khoản chi têu trong tháng\n",
    "def add_item(my_Tem_lis, item):\n",
    "    my_Tem_lis.append(item)\n",
    "#kiểm tra các khoảng chi tiêu:\n",
    "def check_item(my_Tem_lis, name_item):\n",
    "    result = False\n",
    "    for i in my_Tem_lis:\n",
    "        if i == name_item:\n",
    "            print(f\"có {name_iem} trong danh sách chi tiêu my_Tem_lis\" )\n",
    "            result = True\n",
    "        else:\n",
    "            print(f\"Không có {name_iem} trong danh sách chi tiêu my_Tem_lis!\" )\n",
    "            result = False\n",
    "    return result\n",
    "check_item(my_Tem_lis, \"mạng\")"
   ]
  },
  {
   "cell_type": "code",
   "execution_count": 14,
   "id": "e63705d0",
   "metadata": {},
   "outputs": [
    {
     "ename": "NameError",
     "evalue": "name 'expenses' is not defined",
     "output_type": "error",
     "traceback": [
      "\u001b[1;31m---------------------------------------------------------------------------\u001b[0m",
      "\u001b[1;31mNameError\u001b[0m                                 Traceback (most recent call last)",
      "Input \u001b[1;32mIn [14]\u001b[0m, in \u001b[0;36m<module>\u001b[1;34m\u001b[0m\n\u001b[0;32m     15\u001b[0m     \u001b[38;5;28;01melse\u001b[39;00m:\n\u001b[0;32m     16\u001b[0m         \u001b[38;5;28mprint\u001b[39m(item_name \u001b[38;5;241m+\u001b[39m \u001b[38;5;124m\"\u001b[39m\u001b[38;5;124m not in list\u001b[39m\u001b[38;5;124m\"\u001b[39m)\n\u001b[1;32m---> 17\u001b[0m \u001b[38;5;28mprint\u001b[39m(\u001b[38;5;124m\"\u001b[39m\u001b[38;5;124mYour expenses:\u001b[39m\u001b[38;5;124m\"\u001b[39m, \u001b[43mexpenses\u001b[49m)\n\u001b[0;32m     19\u001b[0m \u001b[38;5;28mprint\u001b[39m(\u001b[38;5;124m\"\u001b[39m\u001b[38;5;124mWhat do you want to do? -\u001b[39m\u001b[38;5;130;01m\\n\u001b[39;00m\u001b[38;5;124m\"\u001b[39m\\\n\u001b[0;32m     20\u001b[0m         \u001b[38;5;124m\"\u001b[39m\u001b[38;5;124m1. Add\u001b[39m\u001b[38;5;130;01m\\n\u001b[39;00m\u001b[38;5;124m\"\u001b[39m \\\n\u001b[0;32m     21\u001b[0m         \u001b[38;5;124m\"\u001b[39m\u001b[38;5;124m2. Remove\u001b[39m\u001b[38;5;124m\"\u001b[39m)\n\u001b[0;32m     23\u001b[0m option \u001b[38;5;241m=\u001b[39m \u001b[38;5;28mint\u001b[39m(\u001b[38;5;28minput\u001b[39m(\u001b[38;5;124m\"\u001b[39m\u001b[38;5;124mSelect option 1 or 2: \u001b[39m\u001b[38;5;124m\"\u001b[39m))\n",
      "\u001b[1;31mNameError\u001b[0m: name 'expenses' is not defined"
     ]
    }
   ],
   "source": [
    "def add_item(myTempList, item):    \n",
    "    myTempList.append(item)\n",
    "    \n",
    "def find_index_item(myTempList, item_name):\n",
    "    result = -1\n",
    "    length = len(myTempList)\n",
    "    for i in range(length):\n",
    "        if myTempList[i]['name'] == item_name:\n",
    "            result = i\n",
    "    return result\n",
    "\n",
    "def remove_item(myTempList, item_name):\n",
    "    if find_index_item(myTempList, item_name) > -1:\n",
    "        del myTempList[find_index_item(myTempList, item_name)]\n",
    "    else:\n",
    "        print(item_name + \" not in list\")\n",
    "print(\"Your expenses:\", expenses)\n",
    "\n",
    "print(\"What do you want to do? -\\n\"\\\n",
    "        \"1. Add\\n\" \\\n",
    "        \"2. Remove\")\n",
    "\n",
    "option = int(input(\"Select option 1 or 2: \"))\n",
    "name_input = input(\"Item name: \")\n",
    "\n",
    "if option == 1:\n",
    "    cost_input = int(input(\"Item cost: \"))\n",
    "    date_input = input(\"Date: \")\n",
    "    item = {'name': name_input, 'cost':cost_input, 'date':date_input}\n",
    "    add_item(expenses, item)\n",
    "    print(\"Your expenses: \", expenses)\n",
    "elif option == 2:\n",
    "    remove_item(expenses, name_input)\n",
    "    print(\"Your expenses: \", expenses)\n",
    "else:\n",
    "    print(\"Invalid input\")"
   ]
  }
 ],
 "metadata": {
  "kernelspec": {
   "display_name": "Python 3 (ipykernel)",
   "language": "python",
   "name": "python3"
  },
  "language_info": {
   "codemirror_mode": {
    "name": "ipython",
    "version": 3
   },
   "file_extension": ".py",
   "mimetype": "text/x-python",
   "name": "python",
   "nbconvert_exporter": "python",
   "pygments_lexer": "ipython3",
   "version": "3.10.2"
  }
 },
 "nbformat": 4,
 "nbformat_minor": 5
}
