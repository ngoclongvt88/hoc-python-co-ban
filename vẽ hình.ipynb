{
 "cells": [
  {
   "cell_type": "code",
   "execution_count": 14,
   "id": "77044087",
   "metadata": {},
   "outputs": [
    {
     "name": "stdout",
     "output_type": "stream",
     "text": [
      "nhập hình muốn vẽ (hình vuông hoặc hình tròn): hình tròn\n",
      "nhập màu muốn vẽ (xanh dương, đỏ, vàng): vàng\n",
      "chúng tôi đang vẽ hình bạn yêu cầu!\n"
     ]
    }
   ],
   "source": [
    "a = input(\"nhập hình muốn vẽ (hình vuông hoặc hình tròn): \")\n",
    "b = input(\"nhập màu muốn vẽ (xanh dương, đỏ, vàng): \")\n",
    "\n",
    "\n",
    "if a == \"hình vuông\" or a == \"hình tròn\":\n",
    "    if b == \"xanh dương\" or b == \"đỏ\" or b == \"vàng\":\n",
    "        print(\"chúng tôi đang vẽ hình bạn yêu cầu!\")\n",
    "    else:\n",
    "        if b!=\"xanh dương\" or b!=\"đỏ\" or b!=vàng:\n",
    "            print(\"!!!!chúng tôi không có màu bạn muốn!\")       \n",
    "else:\n",
    "    print(\"!!!!chúng tôi không có hình bạn muốn!\")\n",
    "\n",
    "import turtle\n",
    "\n",
    "pen = turtle.Turtle()\n",
    "pen.pensize(10)\n",
    "size_shape = 200\n",
    "pen.penup()\n",
    "pen.goto(-100,-100)\n",
    "pen.pendown()\n",
    "pen.right(45)\n",
    "\n",
    "if a == \"hình tròn\" and b == \"xanh dương\":\n",
    "    pen.pencolor(\"blue\")\n",
    "    pen.fillcolor(\"blue\")\n",
    "    pen.begin_fill()\n",
    "    pen.circle(size_shape)\n",
    "    pen.end_fill()  \n",
    "elif a == \"hình tròn\" and b == \"vàng\":\n",
    "    pen.pencolor(\"yellow\")\n",
    "    pen.fillcolor(\"yellow\")\n",
    "    pen.begin_fill()\n",
    "    pen.circle(size_shape)\n",
    "    pen.end_fill()\n",
    "if a == \"hình tròn\" and b == \"đỏ\":\n",
    "    pen.pencolor(\"red\")\n",
    "    pen.fillcolor(\"red\")\n",
    "    pen.begin_fill()\n",
    "    pen.circle(size_shape)\n",
    "    pen.end_fill() \n",
    "\n",
    "if a == \"hình vuông\" and b == \"xanh dương\":\n",
    "    pen.pencolor(\"blue\")\n",
    "    pen.fillcolor(\"blue\")\n",
    "    pen.begin_fill()\n",
    "    pen.circle(size_shape, steps=4)\n",
    "    pen.end_fill() \n",
    "if a == \"hình vuông\" and b == \"vàng\":\n",
    "    pen.pencolor(\"yellow\")\n",
    "    pen.fillcolor(\"yellow\")\n",
    "    pen.begin_fill()\n",
    "    pen.circle(size_shape, steps=4)\n",
    "    pen.end_fill()\n",
    "if a == \"hình vuông\" and b == \"đỏ\":\n",
    "    pen.pencolor(\"red\")\n",
    "    pen.fillcolor(\"red\")\n",
    "    pen.begin_fill()\n",
    "    pen.circle(size_shape, steps=4)\n",
    "    pen.end_fill()\n",
    "turtle.done()"
   ]
  },
  {
   "cell_type": "code",
   "execution_count": null,
   "id": "aa18226d",
   "metadata": {},
   "outputs": [],
   "source": []
  },
  {
   "cell_type": "code",
   "execution_count": null,
   "id": "2c2b4c29",
   "metadata": {},
   "outputs": [],
   "source": []
  }
 ],
 "metadata": {
  "kernelspec": {
   "display_name": "Python 3 (ipykernel)",
   "language": "python",
   "name": "python3"
  },
  "language_info": {
   "codemirror_mode": {
    "name": "ipython",
    "version": 3
   },
   "file_extension": ".py",
   "mimetype": "text/x-python",
   "name": "python",
   "nbconvert_exporter": "python",
   "pygments_lexer": "ipython3",
   "version": "3.10.2"
  }
 },
 "nbformat": 4,
 "nbformat_minor": 5
}
