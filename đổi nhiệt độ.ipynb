{
 "cells": [
  {
   "cell_type": "code",
   "execution_count": 3,
   "id": "e7b5ddc3",
   "metadata": {},
   "outputs": [
    {
     "name": "stdout",
     "output_type": "stream",
     "text": [
      "nhật nhiệt độ(C) cần đổi = 35.5\n",
      "nhiệt độ cần đổi từ 35.5 = 95.9 độ F\n"
     ]
    }
   ],
   "source": [
    "c = float(input(\"nhật nhiệt độ(C) cần đổi = \"))\n",
    "\n",
    "f = (9*(c)/5)+32\n",
    "\n",
    "print(f\"nhiệt độ cần đổi từ {c} = {f} độ F\")"
   ]
  }
 ],
 "metadata": {
  "kernelspec": {
   "display_name": "Python 3 (ipykernel)",
   "language": "python",
   "name": "python3"
  },
  "language_info": {
   "codemirror_mode": {
    "name": "ipython",
    "version": 3
   },
   "file_extension": ".py",
   "mimetype": "text/x-python",
   "name": "python",
   "nbconvert_exporter": "python",
   "pygments_lexer": "ipython3",
   "version": "3.10.2"
  }
 },
 "nbformat": 4,
 "nbformat_minor": 5
}
