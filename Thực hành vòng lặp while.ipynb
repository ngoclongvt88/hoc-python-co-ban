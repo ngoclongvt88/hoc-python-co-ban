{
 "cells": [
  {
   "cell_type": "code",
   "execution_count": 2,
   "id": "272a3a95",
   "metadata": {},
   "outputs": [
    {
     "name": "stdout",
     "output_type": "stream",
     "text": [
      "1505\n",
      "1540\n",
      "1575\n",
      "1610\n",
      "1645\n",
      "1680\n",
      "1715\n",
      "1750\n",
      "1785\n",
      "1820\n",
      "1855\n",
      "1890\n",
      "1925\n",
      "1960\n",
      "1995\n",
      "2030\n",
      "2065\n",
      "2100\n",
      "2135\n",
      "2170\n",
      "2205\n",
      "2240\n",
      "2275\n",
      "2310\n",
      "2345\n",
      "2380\n",
      "2415\n",
      "2450\n",
      "2485\n",
      "2520\n",
      "2555\n",
      "2590\n",
      "2625\n",
      "2660\n",
      "2695\n"
     ]
    }
   ],
   "source": [
    "'''\n",
    "Khởi động 1: Viết chương trình in ra tất cả các số chia hết cho cả 5 và 7 trong khoảng từ 1500 đến 2700\n",
    "'''\n",
    "i = 1500\n",
    "\n",
    "while i <= 2700:\n",
    "    if i % 5 == 0 and i % 7 == 0:\n",
    "        print(i)\n",
    "    i += 1"
   ]
  },
  {
   "cell_type": "code",
   "execution_count": 11,
   "id": "87f74c6c",
   "metadata": {},
   "outputs": [
    {
     "name": "stdout",
     "output_type": "stream",
     "text": [
      "nhập số n: 5\n",
      "*****\n",
      "****\n",
      "***\n",
      "**\n",
      "*\n"
     ]
    }
   ],
   "source": [
    "'''\n",
    "Bài 1: Viết chương trình nhập vào chiều cao tam giác vuông và in ra tam giác có hình dạng như sau:\n",
    "*****\n",
    "****\n",
    "***\n",
    "** \n",
    "*\n",
    "'''\n",
    "n = int(input(\"nhập số n: \"))\n",
    "\n",
    "i = n \n",
    "\n",
    "while i >= 1:\n",
    "    j = i*\"*\"\n",
    "    print(j)\n",
    "    \n",
    "    i -= 1 "
   ]
  },
  {
   "cell_type": "code",
   "execution_count": 9,
   "id": "ea4c14a8",
   "metadata": {},
   "outputs": [
    {
     "name": "stdout",
     "output_type": "stream",
     "text": [
      "nhập số n: 5\n",
      "* * * * * \n",
      "* * * * \n",
      "* * * \n",
      "* * \n",
      "* \n"
     ]
    }
   ],
   "source": [
    "'''\n",
    "Bài 2: Viết chương trình nhập vào chiều cao tam giác vuông và in ra tam giác có hình dạng như sau:\n",
    "* * * * * *\n",
    "* * * * *\n",
    "* * * *\n",
    "* * *\n",
    "* *\n",
    "*\n",
    "'''\n",
    "n = int(input(\"nhập số n: \"))\n",
    "\n",
    "i = n \n",
    "\n",
    "while i <= n:\n",
    "    j = i*\"* \"\n",
    "    print(j)\n",
    "    if i == 1:\n",
    "        break\n",
    "\n",
    "    i -= 1 "
   ]
  },
  {
   "cell_type": "code",
   "execution_count": 12,
   "id": "bd17e085",
   "metadata": {},
   "outputs": [
    {
     "name": "stdout",
     "output_type": "stream",
     "text": [
      "Nhập chiều cao tam giác: 5\n",
      "* - * - *\n",
      "* - * -\n",
      "* - *\n",
      "* -\n",
      "*\n"
     ]
    }
   ],
   "source": [
    "'''\n",
    "Bài 3: Viết chương trình nhập vào chiều cao tam giác vuông và in ra tam giác có hình dạng như sau:\n",
    "* - * - *\n",
    "* - * -\n",
    "* - *\n",
    "* -\n",
    "*\n",
    "'''\n",
    "height = int(input(\"Nhập chiều cao tam giác: \"))\n",
    "i = height\n",
    "\n",
    "while i >= 1:\n",
    "    \n",
    "    j = 0\n",
    "    while j < i:\n",
    "        if j % 2 == 0:\n",
    "            print('*', end='')\n",
    "        else:\n",
    "            print('-', end='')\n",
    "        \n",
    "        if j < i - 1:\n",
    "            print(' ', end='')\n",
    "        j += 1\n",
    "    print()\n",
    "    \n",
    "    i -= 1"
   ]
  },
  {
   "cell_type": "code",
   "execution_count": 1,
   "id": "5712f8ae",
   "metadata": {},
   "outputs": [
    {
     "name": "stdout",
     "output_type": "stream",
     "text": [
      "Nhập h: 5\n",
      "* - * - *\n",
      "* - * -\n",
      "* - *\n",
      "* -\n",
      "*\n"
     ]
    }
   ],
   "source": [
    "h = int(input(\"Nhập h: \"))\n",
    "i = h\n",
    "while i >= 1:\n",
    "    a = 1\n",
    "    while a < i:\n",
    "        if a%2 != 0:\n",
    "            print(\"*\",end=\" \")\n",
    "            a += 1\n",
    "        else:\n",
    "            print(\"-\",end=\" \")\n",
    "            a += 1\n",
    "    else:\n",
    "        if a%2 != 0:\n",
    "            print(\"*\")\n",
    "        else:\n",
    "            print(\"-\")\n",
    "    i -= 1"
   ]
  },
  {
   "cell_type": "code",
   "execution_count": 4,
   "id": "82f412c7",
   "metadata": {},
   "outputs": [
    {
     "name": "stdout",
     "output_type": "stream",
     "text": [
      "Chiều cao tam giác vuông: 5\n",
      "* - * - *\n",
      "* - * - \n",
      "* - *\n",
      "* - \n",
      "*\n"
     ]
    }
   ],
   "source": [
    "n = int(input(\"Chiều cao tam giác vuông: \"))\n",
    "i = n\n",
    "string = \"* - \"\n",
    "while i >= 1:\n",
    "    print(string*(i//2) + string[0:i%2]) \n",
    "    i -= 1"
   ]
  },
  {
   "cell_type": "code",
   "execution_count": null,
   "id": "907119c6",
   "metadata": {},
   "outputs": [],
   "source": [
    "height = int(input(\"nhap chieu cao: \"))\n",
    "i = height\n",
    "while i >= 0:\n",
    "    if i %2 != 0:\n",
    "        print((i//2)*'* - '+'*')\n",
    "        i = i - 1\n",
    "    else:\n",
    "        print((i//2)*'* - ')\n",
    "        i = i - 1"
   ]
  },
  {
   "cell_type": "code",
   "execution_count": null,
   "id": "105b66bc",
   "metadata": {},
   "outputs": [],
   "source": [
    "'''\n",
    "Bài 4: Viết chương trình nhập vào một số nguyên n và in ra các số từ 1 đến n với các trường hợp ngoại lệ như sau:\n",
    "- Nếu số đó chia hết cho 3 thì in \"py\"\n",
    "- Nếu số đó chia hết cho 7 thì in \"thon\"\n",
    "- Nếu số đó chia hết cho cả 3 và 4 thì in \"python\"\n",
    "\n",
    "Ví dụ: n = 25\n",
    "1\n",
    "2\n",
    "py\n",
    "4\n",
    "5\n",
    "py\n",
    "thon\n",
    "8\n",
    "py\n",
    "10\n",
    "11\n",
    "py\n",
    "13\n",
    "thon\n",
    "py\n",
    "16\n",
    "17\n",
    "py\n",
    "19\n",
    "20\n",
    "python\n",
    "22\n",
    "23\n",
    "py\n",
    "25\n",
    "'''"
   ]
  },
  {
   "cell_type": "code",
   "execution_count": 3,
   "id": "3689744c",
   "metadata": {},
   "outputs": [
    {
     "name": "stdout",
     "output_type": "stream",
     "text": [
      "nhập số n = 13\n",
      "i = 2\n",
      "i = 3\n",
      "i = 4\n",
      "i = 5\n",
      "i = 6\n",
      "i = 7\n",
      "i = 8\n",
      "i = 9\n",
      "i = 10\n",
      "i = 11\n",
      "i = 12\n",
      "13 là số nguyên tố\n"
     ]
    }
   ],
   "source": [
    "'''\n",
    "Bài 5: Viết chương trình nhập vào một số và kiểm tra xem số đó có phải là số nguyên tố hay không\n",
    "Note: Số nguyên tố là số chỉ chia hết cho 1 và chính nó\n",
    "'''\n",
    "n = int(input(\"nhập số n = \"))\n",
    "\n",
    "i = 2\n",
    "\n",
    "while i < (n):\n",
    "    print(f\"i = {i}\")\n",
    "          \n",
    "    if n % i == 0:\n",
    "          print(f\"{n} không phải là số nguyên tố\")\n",
    "          break\n",
    "    \n",
    "    i+=1\n",
    "if i == n:\n",
    "    print(f\"{n} là số nguyên tố\")"
   ]
  },
  {
   "cell_type": "code",
   "execution_count": 2,
   "id": "e8c3c00b",
   "metadata": {},
   "outputs": [
    {
     "name": "stdout",
     "output_type": "stream",
     "text": [
      "mời bạn lựa chọn (1-búa, 2-kéo, 3-bao): 1\n",
      " máy tính chọn: 3\n",
      "người chơi thua!\n",
      "mời bạn lựa chọn (1-búa, 2-kéo, 3-bao): 1\n",
      " máy tính chọn: 3\n",
      "người chơi thua!\n",
      "mời bạn lựa chọn (1-búa, 2-kéo, 3-bao): 1\n",
      " máy tính chọn: 1\n",
      "người chơi hòa!\n",
      "mời bạn lựa chọn (1-búa, 2-kéo, 3-bao): 1\n",
      " máy tính chọn: 2\n",
      "người chơi thắng!\n"
     ]
    }
   ],
   "source": [
    "'''\n",
    "Bài 6: Viết chương trình mô phỏng trò chơi kéo búa bao theo luật chơi như sau:\n",
    "Quy ước: 1 - búa, 2 - kéo, 3 - bao\n",
    "Khi trò chơi bắt đầu, yêu cầu người chơi nhập 1 số từ bàn phím đại diện cho kéo, búa, bao\n",
    "Chương trình tự random ra một lựa chọn từ 1 đến 3.\n",
    "Nếu người chơi thua thì tiếp tục chơi cho đến khi thắng thì kết thúc chương trình.\n",
    "Ví dụ:\n",
    "\n",
    "Mời lựa chọn(1 - búa, 2 - kéo, 3 - bao): 1\n",
    "Máy tính chọn: 3\n",
    "Người chơi thua.\n",
    "\n",
    "Mời lựa chọn(1 - búa, 2 - kéo, 3 - bao): 2\n",
    "Máy tính chọn: 1\n",
    "Người chơi thua.\n",
    "\n",
    "Mời lựa chọn(1 - búa, 2 - kéo, 3 - bao): 1\n",
    "Máy tính chọn: 2\n",
    "Người chơi thắng.\n",
    "'''\n",
    "\n",
    "from random import randint\n",
    "\n",
    "win = False\n",
    "\n",
    "while win == False:\n",
    "    player_choice = int(input(\"mời bạn lựa chọn (1-búa, 2-kéo, 3-bao): \"))\n",
    "    computer_choice = randint(1,3)\n",
    "    print(f\" máy tính chọn: {computer_choice}\")\n",
    "\n",
    "    if computer_choice > 1 and computer_choice - player_choice == 1:\n",
    "        print(\"người chơi thắng!\")\n",
    "        break\n",
    "    elif player_choice - computer_choice == 2:\n",
    "        print(\"người chơi thắng!\")\n",
    "        break\n",
    "    elif player_choice == computer_choice:\n",
    "        print(\"người chơi hòa!\")\n",
    "    else:\n",
    "        print(\"người chơi thua!\")\n",
    "    "
   ]
  },
  {
   "cell_type": "code",
   "execution_count": 19,
   "id": "329aa225",
   "metadata": {},
   "outputs": [
    {
     "name": "stdout",
     "output_type": "stream",
     "text": [
      "Mời lựa chọn(1 - búa, 2 - kéo, 3 - bao): 1\n",
      "Máy tính chọn: 1\n",
      "Hòa.\n",
      "Mời lựa chọn(1 - búa, 2 - kéo, 3 - bao): 1\n",
      "Máy tính chọn: 1\n",
      "Hòa.\n",
      "Mời lựa chọn(1 - búa, 2 - kéo, 3 - bao): 1\n",
      "Máy tính chọn: 1\n",
      "Hòa.\n",
      "Mời lựa chọn(1 - búa, 2 - kéo, 3 - bao): 1\n",
      "Máy tính chọn: 1\n",
      "Hòa.\n",
      "Mời lựa chọn(1 - búa, 2 - kéo, 3 - bao): 1\n",
      "Máy tính chọn: 1\n",
      "Hòa.\n",
      "Mời lựa chọn(1 - búa, 2 - kéo, 3 - bao): 1\n",
      "Máy tính chọn: 2\n",
      "Người chơi thắng.\n"
     ]
    }
   ],
   "source": [
    "from random import randint\n",
    "\n",
    "win = False\n",
    "\n",
    "while win == False:\n",
    "    player_choice = int(input(\"Mời lựa chọn(1 - búa, 2 - kéo, 3 - bao): \"))\n",
    "    computer_choice = randint(1, 3)\n",
    "    print(f\"Máy tính chọn: {computer_choice}\")\n",
    "\n",
    "    if computer_choice > 1 and computer_choice - player_choice == 1:\n",
    "        print(\"Người chơi thắng.\")\n",
    "        break\n",
    "    elif computer_choice == 1 and player_choice == 3:\n",
    "        print(\"Người chơi thắng.\")\n",
    "        break\n",
    "    elif computer_choice == player_choice:\n",
    "        print(\"Hòa.\")\n",
    "    else: print(\"Người chơi thua.\")"
   ]
  }
 ],
 "metadata": {
  "kernelspec": {
   "display_name": "Python 3 (ipykernel)",
   "language": "python",
   "name": "python3"
  },
  "language_info": {
   "codemirror_mode": {
    "name": "ipython",
    "version": 3
   },
   "file_extension": ".py",
   "mimetype": "text/x-python",
   "name": "python",
   "nbconvert_exporter": "python",
   "pygments_lexer": "ipython3",
   "version": "3.10.2"
  }
 },
 "nbformat": 4,
 "nbformat_minor": 5
}
