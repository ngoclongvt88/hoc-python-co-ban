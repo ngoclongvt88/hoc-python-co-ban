{
 "cells": [
  {
   "cell_type": "markdown",
   "metadata": {},
   "source": [
    "## Review: type()"
   ]
  },
  {
   "cell_type": "code",
   "execution_count": null,
   "metadata": {},
   "outputs": [],
   "source": [
    "# Python có 4 kiểu dữ liệu cơ bản\n",
    "'''\n",
    "int\n",
    "float\n",
    "bool\n",
    "str\n",
    "'''"
   ]
  },
  {
   "cell_type": "markdown",
   "metadata": {},
   "source": [
    "## list là gì?"
   ]
  },
  {
   "cell_type": "code",
   "execution_count": null,
   "metadata": {},
   "outputs": [],
   "source": [
    "# Ví dụ: \n",
    "weekdays = [\"monday\", \"tuesday\", \"wednesday\", \"Thurday\"]\n",
    "\n",
    "for i in weekdays:\n",
    "    "
   ]
  },
  {
   "cell_type": "code",
   "execution_count": null,
   "metadata": {},
   "outputs": [],
   "source": [
    "# Sử dụng list\n",
    "[1,2,3,4,5]\n",
    "[\"python\", \"c\", \"c++\"]\n",
    "[1, 0.5, True, False, 'python']\n",
    "[0.5, 2.3, 5.6]\n",
    "[True, False]"
   ]
  },
  {
   "cell_type": "markdown",
   "metadata": {},
   "source": [
    "### Thực hành: Viết chương trình tạo ra một list các string khác nhau và đếm tổng số lượng string dài hơn 3 kí tự"
   ]
  },
  {
   "cell_type": "code",
   "execution_count": 5,
   "metadata": {},
   "outputs": [
    {
     "name": "stdout",
     "output_type": "stream",
     "text": [
      "có 3 kí tự > 3: Thurday\n"
     ]
    }
   ],
   "source": [
    "lists = [\"1234\", \"py\", \"one\", \"two\",\"monday\", \"tue\", \"wed\", \"Thurday\"]\n",
    "count = 0\n",
    "for i in range(len(lists)):\n",
    "    if len(lists[i]) > 3:\n",
    "        count += 1\n",
    "print(f\"có {count} kí tự > 3: {lists[i]}\")"
   ]
  },
  {
   "cell_type": "code",
   "execution_count": 3,
   "metadata": {},
   "outputs": [
    {
     "name": "stdout",
     "output_type": "stream",
     "text": [
      "có 3 kí tự > 3\n"
     ]
    }
   ],
   "source": [
    "lists = [\"1234\", \"py\", \"one\", \"two\",\"monday\", \"tue\", \"wed\", \"Thurday\"]\n",
    "count = 0\n",
    "for i in lists:\n",
    "    if len(i) > 3:\n",
    "        count += 1\n",
    "print(f\"có {count} kí tự > 3\")"
   ]
  },
  {
   "cell_type": "markdown",
   "metadata": {},
   "source": [
    "### Thực hành 2: Viết chương trình nhận vào 2 list và trả về True nếu 2 list có ít nhất 1 phần tử chung, ngược lại trả về False"
   ]
  },
  {
   "cell_type": "code",
   "execution_count": 5,
   "metadata": {},
   "outputs": [
    {
     "data": {
      "text/plain": [
       "True"
      ]
     },
     "execution_count": 5,
     "metadata": {},
     "output_type": "execute_result"
    }
   ],
   "source": [
    "list_1 = [\"1234\", \"py\", \"one\", \"two\",\"monday\", \"tue\", \"wed\", \"Thurday\"]\n",
    "list_2 = [\"123\", \"python\", \"one\", \"two\",\"mon\", \"tuesday\", \"wednesday\", \"Thurday\"]\n",
    "\n",
    "def check_list():\n",
    "    result = False\n",
    "    for i in list_1:\n",
    "        for j in list_2:\n",
    "            if i == j:\n",
    "                result = True\n",
    "    return result\n",
    "check_list()            "
   ]
  },
  {
   "cell_type": "code",
   "execution_count": 7,
   "metadata": {},
   "outputs": [
    {
     "data": {
      "text/plain": [
       "False"
      ]
     },
     "execution_count": 7,
     "metadata": {},
     "output_type": "execute_result"
    }
   ],
   "source": [
    "list_1 = [\"1234\", \"py\", \"one\", \"two\",\"monday\", \"tue\", \"wed\", \"Thurday1\"]\n",
    "list_2 = [\"123\", \"python\", \"one\", \"two1\",\"mon\", \"tuesday\", \"wednesday\", \"Thurday\"]\n",
    "\n",
    "def check_list():\n",
    "    result = False\n",
    "    count = 0\n",
    "    for i in list_1:\n",
    "        for j in list_2:\n",
    "            if i == j:\n",
    "                count += 1\n",
    "            if count >= 2:\n",
    "                result = True\n",
    "    return result\n",
    "check_list()            "
   ]
  },
  {
   "cell_type": "markdown",
   "metadata": {},
   "source": [
    "## Các thao tác cơ bản với list"
   ]
  },
  {
   "cell_type": "markdown",
   "metadata": {},
   "source": [
    "### Kiểm tra độ dài list"
   ]
  },
  {
   "cell_type": "code",
   "execution_count": 6,
   "metadata": {},
   "outputs": [
    {
     "name": "stdout",
     "output_type": "stream",
     "text": [
      "6\n"
     ]
    }
   ],
   "source": [
    "lis = [1,2,3,4,5,6]\n",
    "print(len(lis))"
   ]
  },
  {
   "cell_type": "markdown",
   "metadata": {},
   "source": [
    "### Truy cập phần tử trên list"
   ]
  },
  {
   "cell_type": "code",
   "execution_count": 9,
   "metadata": {},
   "outputs": [
    {
     "name": "stdout",
     "output_type": "stream",
     "text": [
      "[1, 2, 3, 4, 5, 6]\n",
      "3\n",
      "100\n"
     ]
    }
   ],
   "source": [
    "lis = [1,2,3,4,5,6]\n",
    "print(lis)\n",
    "print(lis[2])\n",
    "\n",
    "lis[2] = 100\n",
    "print(lis[2])"
   ]
  },
  {
   "cell_type": "markdown",
   "metadata": {},
   "source": [
    "### Thực hành: Tạo một list 10 số tự nhiên và in ra các phần tử trong list"
   ]
  },
  {
   "cell_type": "code",
   "execution_count": 10,
   "metadata": {},
   "outputs": [
    {
     "name": "stdout",
     "output_type": "stream",
     "text": [
      "1\n",
      "2\n",
      "3\n",
      "4\n",
      "5\n",
      "6\n",
      "7\n",
      "8\n",
      "9\n",
      "0\n"
     ]
    }
   ],
   "source": [
    "lis = [1, 2, 3, 4, 5, 6, 7, 8, 9, 0]\n",
    "for i in lis:\n",
    "    print(i)"
   ]
  },
  {
   "cell_type": "markdown",
   "metadata": {},
   "source": [
    "### Thực hành 2: Tạo ra một list con chưa 2 phần tử cuối cùng từ list đã tạo ở trên"
   ]
  },
  {
   "cell_type": "code",
   "execution_count": 9,
   "metadata": {},
   "outputs": [
    {
     "name": "stdout",
     "output_type": "stream",
     "text": [
      "[8, 9]\n",
      "[8, 9]\n",
      "[8, 9]\n"
     ]
    }
   ],
   "source": [
    "numbers = [0, 1, 2, 3, 4, 5, 6, 7, 8, 9]\n",
    "# Cach 1\n",
    "sub_list = [numbers[-2], numbers[-1]]\n",
    "print(sub_list)\n",
    "# Cach 2\n",
    "sublist = [numbers[len(numbers) - 2], numbers[len(numbers) - 1]]\n",
    "print(sub_list)\n",
    "# Cach 3\n",
    "sub_list = numbers[-2:]\n",
    "print(sub_list)"
   ]
  },
  {
   "cell_type": "markdown",
   "metadata": {},
   "source": [
    "### Cộng list"
   ]
  },
  {
   "cell_type": "code",
   "execution_count": 12,
   "metadata": {},
   "outputs": [
    {
     "name": "stdout",
     "output_type": "stream",
     "text": [
      "[1, 2, 3, 4, 5, 6]\n",
      "[1, 2, 3, 1, 2, 3, 1, 2, 3]\n"
     ]
    }
   ],
   "source": [
    "a = [1, 2, 3]\n",
    "b = [4, 5, 6]\n",
    "\n",
    "c = a + b\n",
    "print(c)\n",
    "\n",
    "d = a * 3\n",
    "print(d)"
   ]
  },
  {
   "cell_type": "markdown",
   "metadata": {},
   "source": [
    "### Thực hành: Thêm học sinh vào lớp"
   ]
  },
  {
   "cell_type": "code",
   "execution_count": 36,
   "metadata": {},
   "outputs": [
    {
     "name": "stdout",
     "output_type": "stream",
     "text": [
      "['kiki', 'miu miu', 'do do', 'go don', 'chú down', 'cậu chủ']\n",
      "['kiki', 'miu miu', 'do do', 'go don', 'chú down']\n",
      "['kiki', 'miu miu', 'do do', 'go don', 'chú down', 'c', 'ậ', 'u', ' ', 'c', 'h', 'ủ']\n",
      "['kiki', 'miu miu', 'do do', 'go don', 'chú down', 'c', 'ậ', 'u', ' ', 'c', 'h', 'ủ', 'chú down', 'cậu chủ']\n",
      "['kiki', 'miu miu', 'do do', 'go don', 'chú down', 'c', 'ậ', 'u', ' ', 'c', 'h', 'ủ', 'chú down']\n"
     ]
    }
   ],
   "source": [
    "#tạo list danh sách lớp và 1 list hs mới. Thêm hs mới vào list ds lớp\n",
    "list_1 = [\"kiki\", \"miu miu\", \"do do\", \"go don\"]\n",
    "list_2 = [\"chú down\", \"cậu chủ\"]\n",
    "\n",
    "list_3 = list_1 + list_2\n",
    "print(list_3)\n",
    "\n",
    "list_1.append(\"chú down\")\n",
    "print(list_1)\n",
    "\n",
    "list_1.extend(\"cậu chủ\")\n",
    "print(list_1)\n",
    "list_1.extend(list_2)\n",
    "print(list_1)\n",
    "\n",
    "#xóa phần tử ở cuối list\n",
    "list_1.pop()\n",
    "print(list_1)"
   ]
  },
  {
   "cell_type": "markdown",
   "metadata": {},
   "source": [
    "### Kiểm tra phần tử tồn tại trong list"
   ]
  },
  {
   "cell_type": "code",
   "execution_count": 15,
   "metadata": {},
   "outputs": [
    {
     "name": "stdout",
     "output_type": "stream",
     "text": [
      "True\n",
      "False\n"
     ]
    }
   ],
   "source": [
    "studen_list = ['kiki', 'miu miu', 'do do', 'go don', 'chú down', 'cậu chủ']\n",
    "print(\"kiki\" in studen_list)\n",
    "print(\"meomeo\" in studen_list)"
   ]
  },
  {
   "cell_type": "markdown",
   "metadata": {},
   "source": [
    "### Xóa phần tử khỏi list"
   ]
  },
  {
   "cell_type": "code",
   "execution_count": 18,
   "metadata": {},
   "outputs": [
    {
     "name": "stdout",
     "output_type": "stream",
     "text": [
      "[2, 3, 1]\n",
      "[1, 2, 3]\n"
     ]
    }
   ],
   "source": [
    "a = [1, 2, 3, 1]\n",
    "\n",
    "#cách 1: chỉ xóa giá trị đầu tiên tìm thấy\n",
    "a.remove(1)\n",
    "print(a)\n",
    "\n",
    "#cách 2: del\n",
    "a = [1, 2, 3, 1]\n",
    "del a[-1]\n",
    "print(a)"
   ]
  },
  {
   "cell_type": "markdown",
   "metadata": {},
   "source": [
    "### Sắp xếp list"
   ]
  },
  {
   "cell_type": "code",
   "execution_count": 23,
   "metadata": {},
   "outputs": [
    {
     "name": "stdout",
     "output_type": "stream",
     "text": [
      "[12, 21, 1, 0.2, 32, 18, 9]\n",
      "[0.2, 1, 9, 12, 18, 21, 32]\n",
      "[32, 21, 18, 12, 9, 1, 0.2]\n"
     ]
    }
   ],
   "source": [
    "a = [12, 21, 1, 0.2, 32, 18, 9]\n",
    "print(a)\n",
    "\n",
    "#cách 1 hàm sort() có thể sắp xếp từ bé đến lớn, và ngược lại\n",
    "a.sort()\n",
    "print(a)\n",
    "a.sort(reverse = True)\n",
    "print(a)\n",
    "\n",
    "#cách 2 \n"
   ]
  },
  {
   "cell_type": "code",
   "execution_count": 25,
   "metadata": {},
   "outputs": [
    {
     "name": "stdout",
     "output_type": "stream",
     "text": [
      "[12, 21, 1, 0.2, 32, 18, 9]\n",
      "[0.2, 1, 9, 12, 18, 21, 32]\n",
      "[32, 21, 18, 12, 9, 1, 0.2]\n"
     ]
    }
   ],
   "source": [
    "a = [12, 21, 1, 0.2, 32, 18, 9]\n",
    "print(a)\n",
    "\n",
    "#cách 2 sorted()\n",
    "b = sorted(a)\n",
    "print(b)\n",
    "\n",
    "b = sorted(a,reverse = True)\n",
    "print(b)"
   ]
  },
  {
   "cell_type": "markdown",
   "metadata": {},
   "source": [
    "### Làm rỗng list"
   ]
  },
  {
   "cell_type": "code",
   "execution_count": 26,
   "metadata": {},
   "outputs": [
    {
     "name": "stdout",
     "output_type": "stream",
     "text": [
      "[12, 21, 1, 0.2, 32, 18, 9]\n",
      "[]\n"
     ]
    }
   ],
   "source": [
    "a = [12, 21, 1, 0.2, 32, 18, 9]\n",
    "print(a)\n",
    "\n",
    "a = []\n",
    "\n",
    "a.clear()\n",
    "print(a)"
   ]
  },
  {
   "cell_type": "markdown",
   "metadata": {},
   "source": [
    "### Copy list"
   ]
  },
  {
   "cell_type": "code",
   "execution_count": 27,
   "metadata": {},
   "outputs": [
    {
     "name": "stdout",
     "output_type": "stream",
     "text": [
      "[12, 21, 1, 0.2, 32, 18, 9]\n",
      "[12, 21, 1, 0.2, 32, 18, 9]\n"
     ]
    }
   ],
   "source": [
    "a = [12, 21, 1, 0.2, 32, 18, 9]\n",
    "print(a)\n",
    "b = a.copy()\n",
    "print(b)"
   ]
  },
  {
   "cell_type": "markdown",
   "metadata": {},
   "source": [
    "## tuple"
   ]
  },
  {
   "cell_type": "code",
   "execution_count": 38,
   "metadata": {},
   "outputs": [
    {
     "name": "stdout",
     "output_type": "stream",
     "text": [
      "3\n",
      "python\n",
      "3-5-7\n",
      "2h\n"
     ]
    }
   ],
   "source": [
    "infor = (\"python\", \"3-5-7\", \"2h\")\n",
    "#giống list, nhưng không thay đổi được giá trị trong tuple, ko thêm, thay đổi\n",
    "b = len(infor)\n",
    "print(b)\n",
    "\n",
    "#unpack tuple\n",
    "course_name, day, duration = infor\n",
    "print(course_name)\n",
    "print(day)\n",
    "print(duration)"
   ]
  }
 ],
 "metadata": {
  "kernelspec": {
   "display_name": "Python 3 (ipykernel)",
   "language": "python",
   "name": "python3"
  },
  "language_info": {
   "codemirror_mode": {
    "name": "ipython",
    "version": 3
   },
   "file_extension": ".py",
   "mimetype": "text/x-python",
   "name": "python",
   "nbconvert_exporter": "python",
   "pygments_lexer": "ipython3",
   "version": "3.10.2"
  }
 },
 "nbformat": 4,
 "nbformat_minor": 4
}
