{
 "cells": [
  {
   "cell_type": "code",
   "execution_count": null,
   "id": "1b7705b3",
   "metadata": {},
   "outputs": [],
   "source": [
    "\"\"\"\n",
    "Viết class NhanVien gồm các thuộc tính:\n",
    "+ Tên\n",
    "+ Tuổi\n",
    "+ Địa chỉ\n",
    "+ Tiền lương\n",
    "+ Tổng số giờ làm\n",
    "\n",
    "Và các phương thức:\n",
    "- Phương thức tạo\n",
    "- input_info() : Nhập các thông tin cho nhân viên từ bàn phím\n",
    "- print_info() : In ra tất cả các thông tin của nhân viên\n",
    "- tinh_thuong(): Tính toán và trả về số tiền thưởng của nhân viên theo công thức sau:\n",
    "Nếu tổng số giờ làm của nhân viên >=200 thì thưởng = lương * 20%\n",
    "Nếu tổng số giờ làm của nhân viên <200 và >=100 thì thưởng = lương * 10%\n",
    "Nếu tổng số giờ làm của nhân viên <100 thì thưởng = 0\n",
    "\"\"\""
   ]
  },
  {
   "cell_type": "code",
   "execution_count": 6,
   "id": "3cf0f41d",
   "metadata": {},
   "outputs": [],
   "source": [
    "class NhanVien:\n",
    "    def __init__(self):\n",
    "        self.Name = \"\"\n",
    "        self.Age = 0\n",
    "        self.Address = \"\"\n",
    "        self.Money = 0\n",
    "        self.Time_sum = 0\n",
    "        \n",
    "    def input_info(self):\n",
    "        self.Name = input(\"Name: \")\n",
    "        self.Age = input(\"Age: \")\n",
    "        self.Address = input(\"Address: \")\n",
    "        self.Money = float(input(\"Money: \"))\n",
    "        self.Time_sum = float(input(\"Time_sum: \"))\n",
    "        \n",
    "    def print_info(self):\n",
    "        #dic_info = {\"Name\": self.Name, \"Age\": self.Age, \"Address\": self.Address, \"Money\": self.Money, \"Time_sum\": self.Time_sum}\n",
    "        #print(dic_info{})\n",
    "        print(f\"Tên: {self.Name}\")\n",
    "        print(f\"tuổi: {self.Age}\")\n",
    "        print(f\"địa chỉ: {self.Address}\")\n",
    "        print(f\"tiền lương: {self.Money}\")\n",
    "        print(f\"giờ làm: {self.Time_sum} giờ\")\n",
    "        \n",
    "    def tinh_thuong(self):\n",
    "        '''\n",
    "        - tinh_thuong(): Tính toán và trả về số tiền thưởng của nhân viên theo công thức sau:\n",
    "        Nếu tổng số giờ làm của nhân viên >=200 thì thưởng = lương * 20%\n",
    "        Nếu tổng số giờ làm của nhân viên <200 và >=100 thì thưởng = lương * 10%\n",
    "        Nếu tổng số giờ làm của nhân viên <100 thì thưởng = 0\n",
    "        '''\n",
    "        if self.Time_sum >= 200:\n",
    "            Thuong = self.Money*0.2\n",
    "        elif self.Time_sum >=100 and self.Time_sum < 200:\n",
    "            Thuong = self.Money*0.1\n",
    "        else:\n",
    "            Thuong = 0\n",
    "            \n",
    "        return Thuong\n"
   ]
  },
  {
   "cell_type": "code",
   "execution_count": 7,
   "id": "fdf7e888",
   "metadata": {},
   "outputs": [
    {
     "name": "stdout",
     "output_type": "stream",
     "text": [
      "Name: Long\n",
      "Age: 35\n",
      "Address: 38B\n",
      "Money: 15500000\n",
      "Time_sum: 150\n",
      "Tên: Long\n",
      "tuổi: 35\n",
      "địa chỉ: 38B\n",
      "tiền lương: 15500000.0\n",
      "giờ làm: 150.0 giờ\n"
     ]
    },
    {
     "data": {
      "text/plain": [
       "1550000.0"
      ]
     },
     "execution_count": 7,
     "metadata": {},
     "output_type": "execute_result"
    }
   ],
   "source": [
    "nhanvien1 = NhanVien()\n",
    "nhanvien1.input_info()\n",
    "nhanvien1.print_info()\n",
    "nhanvien1.tinh_thuong()"
   ]
  },
  {
   "cell_type": "code",
   "execution_count": null,
   "id": "15095a05",
   "metadata": {},
   "outputs": [],
   "source": []
  }
 ],
 "metadata": {
  "kernelspec": {
   "display_name": "Python 3 (ipykernel)",
   "language": "python",
   "name": "python3"
  },
  "language_info": {
   "codemirror_mode": {
    "name": "ipython",
    "version": 3
   },
   "file_extension": ".py",
   "mimetype": "text/x-python",
   "name": "python",
   "nbconvert_exporter": "python",
   "pygments_lexer": "ipython3",
   "version": "3.10.2"
  }
 },
 "nbformat": 4,
 "nbformat_minor": 5
}
