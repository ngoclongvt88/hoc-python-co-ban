{
 "cells": [
  {
   "cell_type": "code",
   "execution_count": null,
   "id": "f1fd93a5",
   "metadata": {},
   "outputs": [],
   "source": [
    "from tkinter import *\n",
    "\n",
    "windows = Tk()\n",
    "windows.title(\"HELLO Tkinter\")\n",
    "\n",
    "login_text = Label(windows, text = \"LOG_____IN\")\n",
    "login_text.pack()\n",
    "\n",
    "username_text = Label(windows, text = \"USER_NAME\")\n",
    "username_text.pack()\n",
    "username_input = Entry(windows)\n",
    "username_input.pack()\n",
    "\n",
    "password_text = Label(windows, text = \"PASS_WORD\")\n",
    "password_text.pack()\n",
    "password_input = Entry(windows)\n",
    "password_input.pack()\n",
    "\n",
    "login_btn = Button(windows, text = \"Login\")\n",
    "login_btn.pack()\n",
    "\n",
    "\n",
    "windows.mainloop()"
   ]
  },
  {
   "cell_type": "code",
   "execution_count": 2,
   "id": "a7578974",
   "metadata": {},
   "outputs": [],
   "source": [
    "from tkinter import *\n",
    "\n",
    "windows = Tk()\n",
    "windows.title(\"HELLO Tkinter\")\n",
    "\n",
    "login_text = Label(windows, text = \"LOG_____IN\")\n",
    "username_text = Label(windows, text = \"USER_NAME\")\n",
    "password_text = Label(windows, text = \"PASS_WORD\")\n",
    "login_btn = Button(windows, text = \"Login\")\n",
    "username_input = Entry(windows)\n",
    "password_input = Entry(windows)\n",
    "\n",
    "login_text.pack()\n",
    "username_text.pack()\n",
    "username_input.pack()\n",
    "password_text.pack()\n",
    "password_input.pack()\n",
    "login_btn.pack()\n",
    "\n",
    "\n",
    "windows.mainloop()"
   ]
  },
  {
   "cell_type": "code",
   "execution_count": 1,
   "id": "b808e188",
   "metadata": {},
   "outputs": [],
   "source": [
    "from tkinter import *\n",
    "\n",
    "windows = Tk()\n",
    "windows.title(\"Rigistration\")\n",
    "\n",
    "registration = Label(windows, text = \"Rigistration\")\n",
    "fullname = Label(windows, text = \"Full name\")\n",
    "address = Label(windows, text = \"Address\")\n",
    "email = Label(windows, text = \"Email\")\n",
    "\n",
    "fullname_in = Entry(windows)\n",
    "address_in = Entry(windows)\n",
    "email_in = Entry(windows)\n",
    "\n",
    "register = Button(windows, text = \"Register\")\n",
    "\n",
    "registration.pack()\n",
    "fullname.pack()\n",
    "fullname_in.pack()\n",
    "address.pack()\n",
    "address_in.pack()\n",
    "email.pack()\n",
    "email_in.pack()\n",
    "register.pack()\n",
    "\n",
    "windows.mainloop()"
   ]
  }
 ],
 "metadata": {
  "kernelspec": {
   "display_name": "Python 3 (ipykernel)",
   "language": "python",
   "name": "python3"
  },
  "language_info": {
   "codemirror_mode": {
    "name": "ipython",
    "version": 3
   },
   "file_extension": ".py",
   "mimetype": "text/x-python",
   "name": "python",
   "nbconvert_exporter": "python",
   "pygments_lexer": "ipython3",
   "version": "3.10.2"
  }
 },
 "nbformat": 4,
 "nbformat_minor": 5
}
